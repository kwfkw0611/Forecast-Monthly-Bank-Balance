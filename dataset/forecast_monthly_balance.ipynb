{
 "cells": [
  {
   "cell_type": "markdown",
   "metadata": {},
   "source": [
    "### 2 year monthly balance check\n",
    "This dataset is made from using the [HK govt annual stats report](https://www.censtatd.gov.hk/hkstat/sub/sp140.jsp?productCode=B1010003), news articles and surveys regarding wages, poverty"
   ]
  },
  {
   "cell_type": "code",
   "execution_count": 1,
   "metadata": {},
   "outputs": [],
   "source": [
    "import numpy as np"
   ]
  },
  {
   "cell_type": "code",
   "execution_count": 2,
   "metadata": {},
   "outputs": [],
   "source": [
    "np.random.seed(123)"
   ]
  },
  {
   "cell_type": "code",
   "execution_count": 3,
   "metadata": {},
   "outputs": [],
   "source": [
    "import pandas as pd"
   ]
  },
  {
   "cell_type": "code",
   "execution_count": 4,
   "metadata": {},
   "outputs": [],
   "source": [
    "pd.set_option('display.max_columns', 100)"
   ]
  },
  {
   "cell_type": "code",
   "execution_count": 5,
   "metadata": {},
   "outputs": [],
   "source": [
    "# creating 3 million unique id\n",
    "id_length = 8\n",
    "num_ids = 3000000\n",
    "al_num = list('abcdefghijklmnopqrstuvwxyz012345679')\n",
    "total_ids = np.random.choice(al_num, size=[num_ids, id_length])\n",
    "ids = [ \"\".join(total_ids[i]) for i in range(len(total_ids))]"
   ]
  },
  {
   "cell_type": "code",
   "execution_count": 6,
   "metadata": {},
   "outputs": [
    {
     "data": {
      "text/plain": [
       "3000000"
      ]
     },
     "execution_count": 6,
     "metadata": {},
     "output_type": "execute_result"
    }
   ],
   "source": [
    "np.count_nonzero(np.unique(ids, return_counts=True)[1] ==1)"
   ]
  },
  {
   "cell_type": "code",
   "execution_count": 7,
   "metadata": {},
   "outputs": [],
   "source": [
    "hsbc = pd.DataFrame(ids, columns=['customer_id'])"
   ]
  },
  {
   "cell_type": "code",
   "execution_count": 8,
   "metadata": {},
   "outputs": [],
   "source": [
    "df = hsbc.copy()"
   ]
  },
  {
   "cell_type": "code",
   "execution_count": 9,
   "metadata": {},
   "outputs": [
    {
     "name": "stdout",
     "output_type": "stream",
     "text": [
      "<class 'pandas.core.frame.DataFrame'>\n",
      "RangeIndex: 3000000 entries, 0 to 2999999\n",
      "Data columns (total 1 columns):\n",
      "customer_id    object\n",
      "dtypes: object(1)\n",
      "memory usage: 22.9+ MB\n"
     ]
    }
   ],
   "source": [
    "df.info()"
   ]
  },
  {
   "cell_type": "code",
   "execution_count": 10,
   "metadata": {},
   "outputs": [],
   "source": [
    "# 15 - 18 age group\n",
    "teens = np.random.choice([15,16,17,18], size=14000, p=[.15,.20,.30,.35])"
   ]
  },
  {
   "cell_type": "code",
   "execution_count": 11,
   "metadata": {},
   "outputs": [],
   "source": [
    "np.random.shuffle(teens)"
   ]
  },
  {
   "cell_type": "code",
   "execution_count": 12,
   "metadata": {},
   "outputs": [],
   "source": [
    "# 19 - 24\n",
    "fresh_grad = np.random.choice([19,20,21,22,23,24], size=460000, p=[.05, .05, .10, .15, .30, .35 ])"
   ]
  },
  {
   "cell_type": "code",
   "execution_count": 13,
   "metadata": {},
   "outputs": [],
   "source": [
    "# 65\n",
    "s = np.random.normal(68, 8, 700000)"
   ]
  },
  {
   "cell_type": "code",
   "execution_count": 14,
   "metadata": {},
   "outputs": [],
   "source": [
    "srs = s[(s > 65) & (s < 100)]"
   ]
  },
  {
   "cell_type": "code",
   "execution_count": 15,
   "metadata": {},
   "outputs": [],
   "source": [
    "srs = np.round(srs)"
   ]
  },
  {
   "cell_type": "code",
   "execution_count": 16,
   "metadata": {},
   "outputs": [],
   "source": [
    "# rest\n",
    "rest = np.random.normal( 44, 5, 2100000)"
   ]
  },
  {
   "cell_type": "code",
   "execution_count": 17,
   "metadata": {},
   "outputs": [],
   "source": [
    "mid = rest[(rest > 25) & (rest < 64)]"
   ]
  },
  {
   "cell_type": "code",
   "execution_count": 18,
   "metadata": {},
   "outputs": [],
   "source": [
    "np.random.shuffle(mid)"
   ]
  },
  {
   "cell_type": "code",
   "execution_count": 19,
   "metadata": {},
   "outputs": [],
   "source": [
    "working_class = np.random.choice(mid, size=2074628, replace=False)"
   ]
  },
  {
   "cell_type": "code",
   "execution_count": 20,
   "metadata": {},
   "outputs": [],
   "source": [
    "# teens df\n",
    "teens_df = pd.DataFrame(teens, columns=['age'])"
   ]
  },
  {
   "cell_type": "code",
   "execution_count": 21,
   "metadata": {},
   "outputs": [],
   "source": [
    "teens_df['gender'] = pd.DataFrame(np.random.choice(['m','f'], size=14000, p=[.51,.49]))"
   ]
  },
  {
   "cell_type": "code",
   "execution_count": 23,
   "metadata": {},
   "outputs": [],
   "source": [
    "teens_df['nationality'] = pd.DataFrame(np.random.choice(['hong kong', 'china', 'other asian', 'white'], size=14000, p=[.8,.10,.06,.04]))"
   ]
  },
  {
   "cell_type": "code",
   "execution_count": 28,
   "metadata": {},
   "outputs": [],
   "source": [
    "teens_df['expat'] = teens_df['nationality'].apply(lambda x: 'no' if (x == 'hong kong') | (x == 'china') else 'yes')"
   ]
  },
  {
   "cell_type": "code",
   "execution_count": 29,
   "metadata": {},
   "outputs": [],
   "source": [
    "teens_df['status'] = pd.DataFrame(np.random.choice(['single', 'married'], size=14000, p=[.98, .02]))"
   ]
  },
  {
   "cell_type": "code",
   "execution_count": 30,
   "metadata": {},
   "outputs": [],
   "source": [
    "teens_df['account tier'] = pd.DataFrame(['personal'] * 14000, columns=['account tier'])"
   ]
  },
  {
   "cell_type": "code",
   "execution_count": 31,
   "metadata": {},
   "outputs": [],
   "source": [
    "teens_df['employment'] = pd.DataFrame(np.random.choice(['full time', 'part time', 'no'], size=14000, p=[.108,.02, .872]), columns=['employment'])"
   ]
  },
  {
   "cell_type": "code",
   "execution_count": 33,
   "metadata": {},
   "outputs": [],
   "source": [
    "def tj(col):\n",
    "    \"\"\"\n",
    "    joint account function for teens\n",
    "    \"\"\"\n",
    "    age = col[0]\n",
    "    emp = col[1]\n",
    "    \n",
    "    if age < 18:\n",
    "        return 'yes'\n",
    "    elif age == 18:\n",
    "        if emp == 'no':\n",
    "            return np.random.choice(['no', 'yes'], p = [.3,.7])\n",
    "        else:\n",
    "            return np.random.choice(['no', 'yes'], p = [.6,.4])\n",
    "    else:\n",
    "        return yes\n",
    "        "
   ]
  },
  {
   "cell_type": "code",
   "execution_count": 34,
   "metadata": {},
   "outputs": [],
   "source": [
    "teens_df['joint'] = teens_df[['age', 'employment']].apply(tj, axis=1)"
   ]
  },
  {
   "cell_type": "code",
   "execution_count": 38,
   "metadata": {},
   "outputs": [],
   "source": [
    "def tji(col):\n",
    "    \"\"\"\n",
    "    job industry for teen\n",
    "    \"\"\"\n",
    "    if col == 'no':\n",
    "        return 'unemployed'\n",
    "    else:\n",
    "        return np.random.choice(['retail', 'service', 'education'], p=[.45, .45, .1])"
   ]
  },
  {
   "cell_type": "code",
   "execution_count": 39,
   "metadata": {},
   "outputs": [],
   "source": [
    "teens_df['industry'] = teens_df['employment'].apply(tji)"
   ]
  },
  {
   "cell_type": "code",
   "execution_count": 37,
   "metadata": {},
   "outputs": [],
   "source": [
    "teens_df['education'] = pd.DataFrame(np.random.choice(['secondary', 'primary'], size=14000, p=[.975, .025]))"
   ]
  },
  {
   "cell_type": "code",
   "execution_count": 40,
   "metadata": {},
   "outputs": [],
   "source": [
    "def teens_position(col):\n",
    "    \"\"\"\n",
    "    job position for teens\n",
    "    \"\"\"\n",
    "    if col == 'no':\n",
    "        return 'unemployed'\n",
    "    else:\n",
    "        return 'entry-level'"
   ]
  },
  {
   "cell_type": "code",
   "execution_count": 41,
   "metadata": {},
   "outputs": [],
   "source": [
    "teens_df['job position'] = teens_df['employment'].apply(teens_position)"
   ]
  },
  {
   "cell_type": "code",
   "execution_count": 42,
   "metadata": {},
   "outputs": [],
   "source": [
    "def teen_salary(col):\n",
    "    \"\"\"\n",
    "    job salary for teens\n",
    "    \"\"\"\n",
    "    if col != 'no':\n",
    "        return np.round(np.random.normal(4428, 500),2)\n",
    "    else:\n",
    "        return 0"
   ]
  },
  {
   "cell_type": "code",
   "execution_count": 43,
   "metadata": {},
   "outputs": [],
   "source": [
    "teens_df['salary'] = teens_df['employment'].apply(teen_salary)"
   ]
  },
  {
   "cell_type": "code",
   "execution_count": 44,
   "metadata": {},
   "outputs": [],
   "source": [
    "def teen_deposit(col):\n",
    "    \"\"\"\n",
    "    deposits for teens\n",
    "    \"\"\"\n",
    "    if col != 0:\n",
    "        return col + np.random.choice([2000, 3000, 4000, 5000], p=[.4, .25, .2, .15])\n",
    "    else:\n",
    "        return np.random.choice([3000,4000,5000], p=[.3,.5,.2])"
   ]
  },
  {
   "cell_type": "code",
   "execution_count": 45,
   "metadata": {},
   "outputs": [],
   "source": [
    "teens_df['monthly deposit avg'] = teens_df['salary'].apply(teen_deposit)"
   ]
  },
  {
   "cell_type": "code",
   "execution_count": 47,
   "metadata": {},
   "outputs": [],
   "source": [
    "def teen_expense(col):\n",
    "    \"\"\"\n",
    "    expenses for teens\n",
    "    \"\"\"\n",
    "    sal = col[0]\n",
    "    dep = col[1]\n",
    "    if sal != 0:\n",
    "        return np.round(dep*np.random.choice([.65,.80,.9], p=[.55,.3,.15]),2)\n",
    "    else:\n",
    "        return np.round(dep*np.random.choice([.65,.40,.25], p=[.45,.35,.2 ]),2)"
   ]
  },
  {
   "cell_type": "code",
   "execution_count": 48,
   "metadata": {},
   "outputs": [],
   "source": [
    "teens_df['monthly expense avg'] = teens_df[['salary', 'monthly deposit avg']].apply(teen_expense, axis=1)"
   ]
  },
  {
   "cell_type": "code",
   "execution_count": 49,
   "metadata": {},
   "outputs": [],
   "source": [
    "teens_df['credit card'] = pd.DataFrame(np.random.choice(['yes', 'no'], size=14000, p=[.15,.85]))"
   ]
  },
  {
   "cell_type": "code",
   "execution_count": 50,
   "metadata": {},
   "outputs": [],
   "source": [
    "teens_df['debit card'] = pd.DataFrame(np.random.choice(['yes', 'no'], size=14000, p=[.9, .1]))"
   ]
  },
  {
   "cell_type": "code",
   "execution_count": 51,
   "metadata": {},
   "outputs": [],
   "source": [
    "def teens_ce(col):\n",
    "    \"\"\"\n",
    "    teens credit card expense\n",
    "    \"\"\"\n",
    "    mea = col[0]\n",
    "    cc = col[1]\n",
    "    if cc == 'no':\n",
    "        return 0\n",
    "    else:\n",
    "        return np.round(mea * np.random.choice([.25,.35,.45], p=[.20,.45,.35]),2)\n"
   ]
  },
  {
   "cell_type": "code",
   "execution_count": 52,
   "metadata": {},
   "outputs": [],
   "source": [
    "teens_df['credit card expense'] = teens_df[['monthly expense avg', 'credit card']].apply(teens_ce, axis=1)"
   ]
  },
  {
   "cell_type": "code",
   "execution_count": 53,
   "metadata": {},
   "outputs": [],
   "source": [
    "teens_df['payme'] = pd.DataFrame(np.random.choice(['yes','no'], size=14000, p=[.8,.2]))"
   ]
  },
  {
   "cell_type": "code",
   "execution_count": 54,
   "metadata": {},
   "outputs": [],
   "source": [
    "def teen_pmc(col):\n",
    "    \"\"\"\n",
    "    teens payme deposit\n",
    "    \"\"\"\n",
    "    if col == 'yes':\n",
    "        return np.round(np.random.normal(300,100),2)\n",
    "    else:\n",
    "        return 0"
   ]
  },
  {
   "cell_type": "code",
   "execution_count": 55,
   "metadata": {},
   "outputs": [],
   "source": [
    "teens_df['payme deposit'] = teens_df['payme'].apply(teen_pmc)"
   ]
  },
  {
   "cell_type": "code",
   "execution_count": 56,
   "metadata": {},
   "outputs": [],
   "source": [
    "def teen_pme(col):\n",
    "    \"\"\"\n",
    "    teens payme expense\n",
    "    \"\"\"\n",
    "    if col == 'no':\n",
    "        return 0\n",
    "    else:\n",
    "        return np.round(np.random.normal(500,100))"
   ]
  },
  {
   "cell_type": "code",
   "execution_count": 57,
   "metadata": {},
   "outputs": [],
   "source": [
    "teens_df['payme expense'] = teens_df['payme'].apply(teen_pme)"
   ]
  },
  {
   "cell_type": "code",
   "execution_count": 59,
   "metadata": {},
   "outputs": [],
   "source": [
    "teens_df['feb 10, 2017'] = pd.DataFrame(np.round(np.random.normal(8000, 1000, 14000),2))"
   ]
  },
  {
   "cell_type": "code",
   "execution_count": 60,
   "metadata": {},
   "outputs": [
    {
     "data": {
      "text/plain": [
       "(14000, 21)"
      ]
     },
     "execution_count": 60,
     "metadata": {},
     "output_type": "execute_result"
    }
   ],
   "source": [
    "teens_df.shape"
   ]
  },
  {
   "cell_type": "code",
   "execution_count": 61,
   "metadata": {},
   "outputs": [
    {
     "data": {
      "text/html": [
       "<div>\n",
       "<style scoped>\n",
       "    .dataframe tbody tr th:only-of-type {\n",
       "        vertical-align: middle;\n",
       "    }\n",
       "\n",
       "    .dataframe tbody tr th {\n",
       "        vertical-align: top;\n",
       "    }\n",
       "\n",
       "    .dataframe thead th {\n",
       "        text-align: right;\n",
       "    }\n",
       "</style>\n",
       "<table border=\"1\" class=\"dataframe\">\n",
       "  <thead>\n",
       "    <tr style=\"text-align: right;\">\n",
       "      <th></th>\n",
       "      <th>age</th>\n",
       "      <th>gender</th>\n",
       "      <th>nationality</th>\n",
       "      <th>expat</th>\n",
       "      <th>status</th>\n",
       "      <th>account tier</th>\n",
       "      <th>employment</th>\n",
       "      <th>joint</th>\n",
       "      <th>industry</th>\n",
       "      <th>education</th>\n",
       "      <th>job position</th>\n",
       "      <th>salary</th>\n",
       "      <th>monthly deposit avg</th>\n",
       "      <th>monthly expense avg</th>\n",
       "      <th>credit card</th>\n",
       "      <th>debit card</th>\n",
       "      <th>credit card expense</th>\n",
       "      <th>payme</th>\n",
       "      <th>payme deposit</th>\n",
       "      <th>payme expense</th>\n",
       "      <th>feb 10, 2017</th>\n",
       "    </tr>\n",
       "  </thead>\n",
       "  <tbody>\n",
       "    <tr>\n",
       "      <th>0</th>\n",
       "      <td>16</td>\n",
       "      <td>m</td>\n",
       "      <td>hong kong</td>\n",
       "      <td>no</td>\n",
       "      <td>single</td>\n",
       "      <td>personal</td>\n",
       "      <td>no</td>\n",
       "      <td>yes</td>\n",
       "      <td>unemployed</td>\n",
       "      <td>secondary</td>\n",
       "      <td>unemployed</td>\n",
       "      <td>0.00</td>\n",
       "      <td>4000.00</td>\n",
       "      <td>2600.00</td>\n",
       "      <td>no</td>\n",
       "      <td>yes</td>\n",
       "      <td>0.0</td>\n",
       "      <td>yes</td>\n",
       "      <td>296.38</td>\n",
       "      <td>502.0</td>\n",
       "      <td>7106.07</td>\n",
       "    </tr>\n",
       "    <tr>\n",
       "      <th>1</th>\n",
       "      <td>17</td>\n",
       "      <td>f</td>\n",
       "      <td>china</td>\n",
       "      <td>no</td>\n",
       "      <td>single</td>\n",
       "      <td>personal</td>\n",
       "      <td>full time</td>\n",
       "      <td>yes</td>\n",
       "      <td>retail</td>\n",
       "      <td>secondary</td>\n",
       "      <td>entry-level</td>\n",
       "      <td>5157.22</td>\n",
       "      <td>7157.22</td>\n",
       "      <td>5725.78</td>\n",
       "      <td>no</td>\n",
       "      <td>yes</td>\n",
       "      <td>0.0</td>\n",
       "      <td>yes</td>\n",
       "      <td>271.17</td>\n",
       "      <td>416.0</td>\n",
       "      <td>9540.45</td>\n",
       "    </tr>\n",
       "    <tr>\n",
       "      <th>2</th>\n",
       "      <td>17</td>\n",
       "      <td>f</td>\n",
       "      <td>hong kong</td>\n",
       "      <td>no</td>\n",
       "      <td>single</td>\n",
       "      <td>personal</td>\n",
       "      <td>no</td>\n",
       "      <td>yes</td>\n",
       "      <td>unemployed</td>\n",
       "      <td>secondary</td>\n",
       "      <td>unemployed</td>\n",
       "      <td>0.00</td>\n",
       "      <td>4000.00</td>\n",
       "      <td>1600.00</td>\n",
       "      <td>no</td>\n",
       "      <td>yes</td>\n",
       "      <td>0.0</td>\n",
       "      <td>yes</td>\n",
       "      <td>269.60</td>\n",
       "      <td>607.0</td>\n",
       "      <td>7850.73</td>\n",
       "    </tr>\n",
       "    <tr>\n",
       "      <th>3</th>\n",
       "      <td>18</td>\n",
       "      <td>f</td>\n",
       "      <td>hong kong</td>\n",
       "      <td>no</td>\n",
       "      <td>single</td>\n",
       "      <td>personal</td>\n",
       "      <td>no</td>\n",
       "      <td>yes</td>\n",
       "      <td>unemployed</td>\n",
       "      <td>secondary</td>\n",
       "      <td>unemployed</td>\n",
       "      <td>0.00</td>\n",
       "      <td>4000.00</td>\n",
       "      <td>1600.00</td>\n",
       "      <td>yes</td>\n",
       "      <td>yes</td>\n",
       "      <td>560.0</td>\n",
       "      <td>yes</td>\n",
       "      <td>140.67</td>\n",
       "      <td>412.0</td>\n",
       "      <td>8723.34</td>\n",
       "    </tr>\n",
       "    <tr>\n",
       "      <th>4</th>\n",
       "      <td>15</td>\n",
       "      <td>f</td>\n",
       "      <td>hong kong</td>\n",
       "      <td>no</td>\n",
       "      <td>single</td>\n",
       "      <td>personal</td>\n",
       "      <td>no</td>\n",
       "      <td>yes</td>\n",
       "      <td>unemployed</td>\n",
       "      <td>secondary</td>\n",
       "      <td>unemployed</td>\n",
       "      <td>0.00</td>\n",
       "      <td>3000.00</td>\n",
       "      <td>1200.00</td>\n",
       "      <td>no</td>\n",
       "      <td>yes</td>\n",
       "      <td>0.0</td>\n",
       "      <td>no</td>\n",
       "      <td>0.00</td>\n",
       "      <td>0.0</td>\n",
       "      <td>7578.45</td>\n",
       "    </tr>\n",
       "    <tr>\n",
       "      <th>5</th>\n",
       "      <td>15</td>\n",
       "      <td>f</td>\n",
       "      <td>hong kong</td>\n",
       "      <td>no</td>\n",
       "      <td>single</td>\n",
       "      <td>personal</td>\n",
       "      <td>no</td>\n",
       "      <td>yes</td>\n",
       "      <td>unemployed</td>\n",
       "      <td>secondary</td>\n",
       "      <td>unemployed</td>\n",
       "      <td>0.00</td>\n",
       "      <td>4000.00</td>\n",
       "      <td>2600.00</td>\n",
       "      <td>no</td>\n",
       "      <td>yes</td>\n",
       "      <td>0.0</td>\n",
       "      <td>yes</td>\n",
       "      <td>278.44</td>\n",
       "      <td>415.0</td>\n",
       "      <td>7805.15</td>\n",
       "    </tr>\n",
       "    <tr>\n",
       "      <th>6</th>\n",
       "      <td>17</td>\n",
       "      <td>f</td>\n",
       "      <td>hong kong</td>\n",
       "      <td>no</td>\n",
       "      <td>single</td>\n",
       "      <td>personal</td>\n",
       "      <td>full time</td>\n",
       "      <td>yes</td>\n",
       "      <td>service</td>\n",
       "      <td>secondary</td>\n",
       "      <td>entry-level</td>\n",
       "      <td>5138.90</td>\n",
       "      <td>8138.90</td>\n",
       "      <td>7325.01</td>\n",
       "      <td>no</td>\n",
       "      <td>yes</td>\n",
       "      <td>0.0</td>\n",
       "      <td>yes</td>\n",
       "      <td>343.32</td>\n",
       "      <td>615.0</td>\n",
       "      <td>8864.81</td>\n",
       "    </tr>\n",
       "    <tr>\n",
       "      <th>7</th>\n",
       "      <td>18</td>\n",
       "      <td>m</td>\n",
       "      <td>hong kong</td>\n",
       "      <td>no</td>\n",
       "      <td>single</td>\n",
       "      <td>personal</td>\n",
       "      <td>no</td>\n",
       "      <td>no</td>\n",
       "      <td>unemployed</td>\n",
       "      <td>secondary</td>\n",
       "      <td>unemployed</td>\n",
       "      <td>0.00</td>\n",
       "      <td>5000.00</td>\n",
       "      <td>3250.00</td>\n",
       "      <td>no</td>\n",
       "      <td>yes</td>\n",
       "      <td>0.0</td>\n",
       "      <td>yes</td>\n",
       "      <td>439.48</td>\n",
       "      <td>558.0</td>\n",
       "      <td>8324.68</td>\n",
       "    </tr>\n",
       "    <tr>\n",
       "      <th>8</th>\n",
       "      <td>18</td>\n",
       "      <td>f</td>\n",
       "      <td>hong kong</td>\n",
       "      <td>no</td>\n",
       "      <td>single</td>\n",
       "      <td>personal</td>\n",
       "      <td>no</td>\n",
       "      <td>yes</td>\n",
       "      <td>unemployed</td>\n",
       "      <td>secondary</td>\n",
       "      <td>unemployed</td>\n",
       "      <td>0.00</td>\n",
       "      <td>5000.00</td>\n",
       "      <td>3250.00</td>\n",
       "      <td>no</td>\n",
       "      <td>yes</td>\n",
       "      <td>0.0</td>\n",
       "      <td>yes</td>\n",
       "      <td>260.09</td>\n",
       "      <td>528.0</td>\n",
       "      <td>7944.20</td>\n",
       "    </tr>\n",
       "    <tr>\n",
       "      <th>9</th>\n",
       "      <td>17</td>\n",
       "      <td>m</td>\n",
       "      <td>china</td>\n",
       "      <td>no</td>\n",
       "      <td>single</td>\n",
       "      <td>personal</td>\n",
       "      <td>no</td>\n",
       "      <td>yes</td>\n",
       "      <td>unemployed</td>\n",
       "      <td>secondary</td>\n",
       "      <td>unemployed</td>\n",
       "      <td>0.00</td>\n",
       "      <td>5000.00</td>\n",
       "      <td>3250.00</td>\n",
       "      <td>no</td>\n",
       "      <td>yes</td>\n",
       "      <td>0.0</td>\n",
       "      <td>no</td>\n",
       "      <td>0.00</td>\n",
       "      <td>0.0</td>\n",
       "      <td>9014.33</td>\n",
       "    </tr>\n",
       "  </tbody>\n",
       "</table>\n",
       "</div>"
      ],
      "text/plain": [
       "   age gender nationality expat  status account tier employment joint  \\\n",
       "0   16      m   hong kong    no  single     personal         no   yes   \n",
       "1   17      f       china    no  single     personal  full time   yes   \n",
       "2   17      f   hong kong    no  single     personal         no   yes   \n",
       "3   18      f   hong kong    no  single     personal         no   yes   \n",
       "4   15      f   hong kong    no  single     personal         no   yes   \n",
       "5   15      f   hong kong    no  single     personal         no   yes   \n",
       "6   17      f   hong kong    no  single     personal  full time   yes   \n",
       "7   18      m   hong kong    no  single     personal         no    no   \n",
       "8   18      f   hong kong    no  single     personal         no   yes   \n",
       "9   17      m       china    no  single     personal         no   yes   \n",
       "\n",
       "     industry  education job position   salary  monthly deposit avg  \\\n",
       "0  unemployed  secondary   unemployed     0.00              4000.00   \n",
       "1      retail  secondary  entry-level  5157.22              7157.22   \n",
       "2  unemployed  secondary   unemployed     0.00              4000.00   \n",
       "3  unemployed  secondary   unemployed     0.00              4000.00   \n",
       "4  unemployed  secondary   unemployed     0.00              3000.00   \n",
       "5  unemployed  secondary   unemployed     0.00              4000.00   \n",
       "6     service  secondary  entry-level  5138.90              8138.90   \n",
       "7  unemployed  secondary   unemployed     0.00              5000.00   \n",
       "8  unemployed  secondary   unemployed     0.00              5000.00   \n",
       "9  unemployed  secondary   unemployed     0.00              5000.00   \n",
       "\n",
       "   monthly expense avg credit card debit card  credit card expense payme  \\\n",
       "0              2600.00          no        yes                  0.0   yes   \n",
       "1              5725.78          no        yes                  0.0   yes   \n",
       "2              1600.00          no        yes                  0.0   yes   \n",
       "3              1600.00         yes        yes                560.0   yes   \n",
       "4              1200.00          no        yes                  0.0    no   \n",
       "5              2600.00          no        yes                  0.0   yes   \n",
       "6              7325.01          no        yes                  0.0   yes   \n",
       "7              3250.00          no        yes                  0.0   yes   \n",
       "8              3250.00          no        yes                  0.0   yes   \n",
       "9              3250.00          no        yes                  0.0    no   \n",
       "\n",
       "   payme deposit  payme expense  feb 10, 2017  \n",
       "0         296.38          502.0       7106.07  \n",
       "1         271.17          416.0       9540.45  \n",
       "2         269.60          607.0       7850.73  \n",
       "3         140.67          412.0       8723.34  \n",
       "4           0.00            0.0       7578.45  \n",
       "5         278.44          415.0       7805.15  \n",
       "6         343.32          615.0       8864.81  \n",
       "7         439.48          558.0       8324.68  \n",
       "8         260.09          528.0       7944.20  \n",
       "9           0.00            0.0       9014.33  "
      ]
     },
     "execution_count": 61,
     "metadata": {},
     "output_type": "execute_result"
    }
   ],
   "source": [
    "teens_df.head(10)"
   ]
  },
  {
   "cell_type": "code",
   "execution_count": 62,
   "metadata": {},
   "outputs": [],
   "source": [
    "def second_check(col):\n",
    "    \"\"\"\n",
    "    second monthly balance check\n",
    "    \"\"\"\n",
    "    mda = col[0]\n",
    "    pd = col[1]\n",
    "    cm = col[2]\n",
    "    return np.round((mda+pd+cm)*np.random.choice([.85,1.05], p=[.45,.55]),2)"
   ]
  },
  {
   "cell_type": "code",
   "execution_count": 63,
   "metadata": {},
   "outputs": [],
   "source": [
    "teens_df['feb 25, 2017'] = teens_df[['monthly deposit avg', 'payme deposit', 'feb 10, 2017']].apply(second_check,axis=1)"
   ]
  },
  {
   "cell_type": "code",
   "execution_count": 64,
   "metadata": {},
   "outputs": [],
   "source": [
    "def end_month(col):\n",
    "    \"\"\"\n",
    "    new month balance check\n",
    "    \"\"\"\n",
    "    me = col[0]\n",
    "    ce = col[1]\n",
    "    pe = col[2]\n",
    "    em = col[3]\n",
    "    return np.round((em-me-ce-pe)*np.random.choice([.85,1.05], p=[.45,.55]),2)"
   ]
  },
  {
   "cell_type": "code",
   "execution_count": 65,
   "metadata": {},
   "outputs": [],
   "source": [
    "teens_df['mar 10, 2017'] = teens_df[['monthly expense avg', 'credit card expense','payme expense', 'feb 25, 2017']].apply(end_month,axis=1)"
   ]
  },
  {
   "cell_type": "code",
   "execution_count": 66,
   "metadata": {},
   "outputs": [],
   "source": [
    "teens_df['mar 25, 2017'] = teens_df[['monthly deposit avg', 'payme deposit', 'mar 10, 2017']].apply(second_check,axis=1)"
   ]
  },
  {
   "cell_type": "code",
   "execution_count": 67,
   "metadata": {},
   "outputs": [],
   "source": [
    "teens_df['apr 10, 2017'] = teens_df[['monthly expense avg', 'credit card expense','payme expense', 'mar 25, 2017']].apply(end_month,axis=1)"
   ]
  },
  {
   "cell_type": "code",
   "execution_count": 68,
   "metadata": {},
   "outputs": [],
   "source": [
    "teens_df['apr 25, 2017'] = teens_df[['monthly deposit avg', 'payme deposit', 'apr 10, 2017']].apply(second_check,axis=1)"
   ]
  },
  {
   "cell_type": "code",
   "execution_count": 69,
   "metadata": {},
   "outputs": [],
   "source": [
    "teens_df['may 10, 2017'] = teens_df[['monthly expense avg', 'credit card expense','payme expense', 'apr 25, 2017']].apply(end_month,axis=1)"
   ]
  },
  {
   "cell_type": "code",
   "execution_count": 70,
   "metadata": {},
   "outputs": [],
   "source": [
    "teens_df['may 25, 2017'] = teens_df[['monthly deposit avg', 'payme deposit', 'may 10, 2017']].apply(second_check,axis=1)"
   ]
  },
  {
   "cell_type": "code",
   "execution_count": 71,
   "metadata": {},
   "outputs": [],
   "source": [
    "teens_df['jun 10, 2017'] = teens_df[['monthly expense avg', 'credit card expense','payme expense', 'may 25, 2017']].apply(end_month,axis=1)"
   ]
  },
  {
   "cell_type": "code",
   "execution_count": 72,
   "metadata": {},
   "outputs": [],
   "source": [
    "teens_df['jun 25, 2017'] = teens_df[['monthly deposit avg', 'payme deposit', 'jun 10, 2017']].apply(second_check,axis=1)"
   ]
  },
  {
   "cell_type": "code",
   "execution_count": 73,
   "metadata": {},
   "outputs": [],
   "source": [
    "teens_df['jul 10, 2017'] = teens_df[['monthly expense avg', 'credit card expense','payme expense', 'jun 25, 2017']].apply(end_month,axis=1)"
   ]
  },
  {
   "cell_type": "code",
   "execution_count": 74,
   "metadata": {},
   "outputs": [],
   "source": [
    "teens_df['jul 25, 2017'] = teens_df[['monthly deposit avg', 'payme deposit', 'jul 10, 2017']].apply(second_check,axis=1)"
   ]
  },
  {
   "cell_type": "code",
   "execution_count": 75,
   "metadata": {},
   "outputs": [],
   "source": [
    "teens_df['aug 10, 2017'] = teens_df[['monthly expense avg', 'credit card expense','payme expense', 'jul 25, 2017']].apply(end_month,axis=1)"
   ]
  },
  {
   "cell_type": "code",
   "execution_count": 76,
   "metadata": {},
   "outputs": [],
   "source": [
    "teens_df['aug 25, 2017'] = teens_df[['monthly deposit avg', 'payme deposit', 'aug 10, 2017']].apply(second_check,axis=1)"
   ]
  },
  {
   "cell_type": "code",
   "execution_count": 77,
   "metadata": {},
   "outputs": [],
   "source": [
    "teens_df['sep 10, 2017'] = teens_df[['monthly expense avg', 'credit card expense','payme expense', 'aug 25, 2017']].apply(end_month,axis=1)"
   ]
  },
  {
   "cell_type": "code",
   "execution_count": 78,
   "metadata": {},
   "outputs": [],
   "source": [
    "teens_df['sep 25, 2017'] = teens_df[['monthly deposit avg', 'payme deposit', 'sep 10, 2017']].apply(second_check,axis=1)"
   ]
  },
  {
   "cell_type": "code",
   "execution_count": 79,
   "metadata": {},
   "outputs": [],
   "source": [
    "teens_df['oct 10, 2017'] = teens_df[['monthly expense avg', 'credit card expense','payme expense', 'sep 25, 2017']].apply(end_month,axis=1)"
   ]
  },
  {
   "cell_type": "code",
   "execution_count": 80,
   "metadata": {},
   "outputs": [],
   "source": [
    "teens_df['oct 25, 2017'] = teens_df[['monthly deposit avg', 'payme deposit', 'oct 10, 2017']].apply(second_check,axis=1)"
   ]
  },
  {
   "cell_type": "code",
   "execution_count": 81,
   "metadata": {},
   "outputs": [],
   "source": [
    "teens_df['nov 10, 2017'] = teens_df[['monthly expense avg', 'credit card expense','payme expense', 'oct 25, 2017']].apply(end_month,axis=1)"
   ]
  },
  {
   "cell_type": "code",
   "execution_count": 82,
   "metadata": {},
   "outputs": [],
   "source": [
    "teens_df['nov 25, 2017'] = teens_df[['monthly deposit avg', 'payme deposit', 'nov 10, 2017']].apply(second_check,axis=1)"
   ]
  },
  {
   "cell_type": "code",
   "execution_count": 83,
   "metadata": {},
   "outputs": [],
   "source": [
    "teens_df['dec 10, 2017'] = teens_df[['monthly expense avg', 'credit card expense','payme expense', 'nov 25, 2017']].apply(end_month,axis=1)"
   ]
  },
  {
   "cell_type": "code",
   "execution_count": 84,
   "metadata": {},
   "outputs": [],
   "source": [
    "teens_df['dec 25, 2017'] = teens_df[['monthly deposit avg', 'payme deposit', 'dec 10, 2017']].apply(second_check,axis=1)"
   ]
  },
  {
   "cell_type": "code",
   "execution_count": 85,
   "metadata": {},
   "outputs": [],
   "source": [
    "teens_df['jan 10, 2018'] = teens_df[['monthly expense avg', 'credit card expense','payme expense', 'dec 25, 2017']].apply(end_month,axis=1)"
   ]
  },
  {
   "cell_type": "code",
   "execution_count": 86,
   "metadata": {},
   "outputs": [],
   "source": [
    "teens_df['jan 25, 2018'] = teens_df[['monthly deposit avg', 'payme deposit', 'jan 10, 2018']].apply(second_check,axis=1)"
   ]
  },
  {
   "cell_type": "code",
   "execution_count": 87,
   "metadata": {},
   "outputs": [],
   "source": [
    "teens_df['feb 10, 2018'] = teens_df[['monthly expense avg', 'credit card expense','payme expense', 'jan 25, 2018']].apply(end_month,axis=1)"
   ]
  },
  {
   "cell_type": "code",
   "execution_count": 88,
   "metadata": {},
   "outputs": [],
   "source": [
    "teens_df['feb 25, 2018'] = teens_df[['monthly deposit avg', 'payme deposit', 'feb 10, 2018']].apply(second_check,axis=1)"
   ]
  },
  {
   "cell_type": "code",
   "execution_count": 89,
   "metadata": {},
   "outputs": [],
   "source": [
    "teens_df['mar 10, 2018'] = teens_df[['monthly expense avg', 'credit card expense','payme expense', 'feb 25, 2018']].apply(end_month,axis=1)"
   ]
  },
  {
   "cell_type": "code",
   "execution_count": 90,
   "metadata": {},
   "outputs": [],
   "source": [
    "teens_df['mar 25, 2018'] = teens_df[['monthly deposit avg', 'payme deposit', 'mar 10, 2018']].apply(second_check,axis=1)"
   ]
  },
  {
   "cell_type": "code",
   "execution_count": 91,
   "metadata": {},
   "outputs": [],
   "source": [
    "teens_df['apr 10, 2018'] = teens_df[['monthly expense avg', 'credit card expense','payme expense', 'mar 25, 2018']].apply(end_month,axis=1)"
   ]
  },
  {
   "cell_type": "code",
   "execution_count": 92,
   "metadata": {},
   "outputs": [],
   "source": [
    "teens_df['apr 25, 2018'] = teens_df[['monthly deposit avg', 'payme deposit', 'apr 10, 2018']].apply(second_check,axis=1)"
   ]
  },
  {
   "cell_type": "code",
   "execution_count": 93,
   "metadata": {},
   "outputs": [],
   "source": [
    "teens_df['may 10, 2018'] = teens_df[['monthly expense avg', 'credit card expense','payme expense', 'apr 25, 2018']].apply(end_month,axis=1)"
   ]
  },
  {
   "cell_type": "code",
   "execution_count": 94,
   "metadata": {},
   "outputs": [],
   "source": [
    "teens_df['may 25, 2018'] = teens_df[['monthly deposit avg', 'payme deposit', 'may 10, 2018']].apply(second_check,axis=1)"
   ]
  },
  {
   "cell_type": "code",
   "execution_count": 95,
   "metadata": {},
   "outputs": [],
   "source": [
    "teens_df['jun 10, 2018'] = teens_df[['monthly expense avg', 'credit card expense','payme expense', 'may 25, 2018']].apply(end_month,axis=1)"
   ]
  },
  {
   "cell_type": "code",
   "execution_count": 96,
   "metadata": {},
   "outputs": [],
   "source": [
    "teens_df['jun 25, 2018'] = teens_df[['monthly deposit avg', 'payme deposit', 'jun 10, 2018']].apply(second_check,axis=1)"
   ]
  },
  {
   "cell_type": "code",
   "execution_count": 97,
   "metadata": {},
   "outputs": [],
   "source": [
    "teens_df['jul 10, 2018'] = teens_df[['monthly expense avg', 'credit card expense','payme expense', 'jun 25, 2018']].apply(end_month,axis=1)"
   ]
  },
  {
   "cell_type": "code",
   "execution_count": 98,
   "metadata": {},
   "outputs": [],
   "source": [
    "teens_df['jul 25, 2018'] = teens_df[['monthly deposit avg', 'payme deposit', 'jul 10, 2018']].apply(second_check,axis=1)"
   ]
  },
  {
   "cell_type": "code",
   "execution_count": 99,
   "metadata": {},
   "outputs": [],
   "source": [
    "teens_df['aug 10, 2018'] = teens_df[['monthly expense avg', 'credit card expense','payme expense', 'jul 25, 2018']].apply(end_month,axis=1)"
   ]
  },
  {
   "cell_type": "code",
   "execution_count": 100,
   "metadata": {},
   "outputs": [],
   "source": [
    "teens_df['aug 25, 2018'] = teens_df[['monthly deposit avg', 'payme deposit', 'aug 10, 2018']].apply(second_check,axis=1)"
   ]
  },
  {
   "cell_type": "code",
   "execution_count": 101,
   "metadata": {},
   "outputs": [],
   "source": [
    "teens_df['sep 10, 2018'] = teens_df[['monthly expense avg', 'credit card expense','payme expense', 'aug 25, 2018']].apply(end_month,axis=1)"
   ]
  },
  {
   "cell_type": "code",
   "execution_count": 102,
   "metadata": {},
   "outputs": [],
   "source": [
    "teens_df['sep 25, 2018'] = teens_df[['monthly deposit avg', 'payme deposit', 'sep 10, 2018']].apply(second_check,axis=1)"
   ]
  },
  {
   "cell_type": "code",
   "execution_count": 103,
   "metadata": {},
   "outputs": [],
   "source": [
    "teens_df['oct 10, 2018'] = teens_df[['monthly expense avg', 'credit card expense','payme expense', 'sep 25, 2018']].apply(end_month,axis=1)"
   ]
  },
  {
   "cell_type": "code",
   "execution_count": 104,
   "metadata": {},
   "outputs": [],
   "source": [
    "teens_df['oct 25, 2018'] = teens_df[['monthly deposit avg', 'payme deposit', 'oct 10, 2018']].apply(second_check,axis=1)"
   ]
  },
  {
   "cell_type": "code",
   "execution_count": 105,
   "metadata": {},
   "outputs": [],
   "source": [
    "teens_df['nov 10, 2018'] = teens_df[['monthly expense avg', 'credit card expense','payme expense', 'oct 25, 2018']].apply(end_month,axis=1)"
   ]
  },
  {
   "cell_type": "code",
   "execution_count": 106,
   "metadata": {},
   "outputs": [],
   "source": [
    "teens_df['nov 25, 2018'] = teens_df[['monthly deposit avg', 'payme deposit', 'nov 10, 2018']].apply(second_check,axis=1)"
   ]
  },
  {
   "cell_type": "code",
   "execution_count": 107,
   "metadata": {},
   "outputs": [],
   "source": [
    "teens_df['dec 10, 2018'] = teens_df[['monthly expense avg', 'credit card expense','payme expense', 'nov 25, 2018']].apply(end_month,axis=1)"
   ]
  },
  {
   "cell_type": "code",
   "execution_count": 108,
   "metadata": {},
   "outputs": [],
   "source": [
    "teens_df['dec 25, 2018'] = teens_df[['monthly deposit avg', 'payme deposit', 'dec 10, 2018']].apply(second_check,axis=1)"
   ]
  },
  {
   "cell_type": "code",
   "execution_count": 109,
   "metadata": {},
   "outputs": [],
   "source": [
    "teens_df['jan 10, 2019'] = teens_df[['monthly expense avg', 'credit card expense','payme expense', 'dec 25, 2018']].apply(end_month,axis=1)"
   ]
  },
  {
   "cell_type": "code",
   "execution_count": 110,
   "metadata": {},
   "outputs": [],
   "source": [
    "teens_df['jan 25, 2019'] = teens_df[['monthly deposit avg', 'payme deposit', 'jan 10, 2019']].apply(second_check,axis=1)"
   ]
  },
  {
   "cell_type": "code",
   "execution_count": 111,
   "metadata": {},
   "outputs": [],
   "source": [
    "teens_df['feb 10, 2019'] = teens_df[['monthly expense avg', 'credit card expense','payme expense', 'jan 25, 2019']].apply(end_month,axis=1)"
   ]
  },
  {
   "cell_type": "code",
   "execution_count": 112,
   "metadata": {},
   "outputs": [
    {
     "data": {
      "text/plain": [
       "(14000, 69)"
      ]
     },
     "execution_count": 112,
     "metadata": {},
     "output_type": "execute_result"
    }
   ],
   "source": [
    "teens_df.shape"
   ]
  },
  {
   "cell_type": "code",
   "execution_count": 113,
   "metadata": {},
   "outputs": [
    {
     "data": {
      "text/html": [
       "<div>\n",
       "<style scoped>\n",
       "    .dataframe tbody tr th:only-of-type {\n",
       "        vertical-align: middle;\n",
       "    }\n",
       "\n",
       "    .dataframe tbody tr th {\n",
       "        vertical-align: top;\n",
       "    }\n",
       "\n",
       "    .dataframe thead th {\n",
       "        text-align: right;\n",
       "    }\n",
       "</style>\n",
       "<table border=\"1\" class=\"dataframe\">\n",
       "  <thead>\n",
       "    <tr style=\"text-align: right;\">\n",
       "      <th></th>\n",
       "      <th>age</th>\n",
       "      <th>gender</th>\n",
       "      <th>nationality</th>\n",
       "      <th>expat</th>\n",
       "      <th>status</th>\n",
       "      <th>account tier</th>\n",
       "      <th>employment</th>\n",
       "      <th>joint</th>\n",
       "      <th>industry</th>\n",
       "      <th>education</th>\n",
       "      <th>job position</th>\n",
       "      <th>salary</th>\n",
       "      <th>monthly deposit avg</th>\n",
       "      <th>monthly expense avg</th>\n",
       "      <th>credit card</th>\n",
       "      <th>debit card</th>\n",
       "      <th>credit card expense</th>\n",
       "      <th>payme</th>\n",
       "      <th>payme deposit</th>\n",
       "      <th>payme expense</th>\n",
       "      <th>feb 10, 2017</th>\n",
       "      <th>feb 25, 2017</th>\n",
       "      <th>mar 10, 2017</th>\n",
       "      <th>mar 25, 2017</th>\n",
       "      <th>apr 10, 2017</th>\n",
       "      <th>apr 25, 2017</th>\n",
       "      <th>may 10, 2017</th>\n",
       "      <th>may 25, 2017</th>\n",
       "      <th>jun 10, 2017</th>\n",
       "      <th>jun 25, 2017</th>\n",
       "      <th>jul 10, 2017</th>\n",
       "      <th>jul 25, 2017</th>\n",
       "      <th>aug 10, 2017</th>\n",
       "      <th>aug 25, 2017</th>\n",
       "      <th>sep 10, 2017</th>\n",
       "      <th>sep 25, 2017</th>\n",
       "      <th>oct 10, 2017</th>\n",
       "      <th>oct 25, 2017</th>\n",
       "      <th>nov 10, 2017</th>\n",
       "      <th>nov 25, 2017</th>\n",
       "      <th>dec 10, 2017</th>\n",
       "      <th>dec 25, 2017</th>\n",
       "      <th>jan 10, 2018</th>\n",
       "      <th>jan 25, 2018</th>\n",
       "      <th>feb 10, 2018</th>\n",
       "      <th>feb 25, 2018</th>\n",
       "      <th>mar 10, 2018</th>\n",
       "      <th>mar 25, 2018</th>\n",
       "      <th>apr 10, 2018</th>\n",
       "      <th>apr 25, 2018</th>\n",
       "      <th>may 10, 2018</th>\n",
       "      <th>may 25, 2018</th>\n",
       "      <th>jun 10, 2018</th>\n",
       "      <th>jun 25, 2018</th>\n",
       "      <th>jul 10, 2018</th>\n",
       "      <th>jul 25, 2018</th>\n",
       "      <th>aug 10, 2018</th>\n",
       "      <th>aug 25, 2018</th>\n",
       "      <th>sep 10, 2018</th>\n",
       "      <th>sep 25, 2018</th>\n",
       "      <th>oct 10, 2018</th>\n",
       "      <th>oct 25, 2018</th>\n",
       "      <th>nov 10, 2018</th>\n",
       "      <th>nov 25, 2018</th>\n",
       "      <th>dec 10, 2018</th>\n",
       "      <th>dec 25, 2018</th>\n",
       "      <th>jan 10, 2019</th>\n",
       "      <th>jan 25, 2019</th>\n",
       "      <th>feb 10, 2019</th>\n",
       "    </tr>\n",
       "  </thead>\n",
       "  <tbody>\n",
       "    <tr>\n",
       "      <th>0</th>\n",
       "      <td>16</td>\n",
       "      <td>m</td>\n",
       "      <td>hong kong</td>\n",
       "      <td>no</td>\n",
       "      <td>single</td>\n",
       "      <td>personal</td>\n",
       "      <td>no</td>\n",
       "      <td>yes</td>\n",
       "      <td>unemployed</td>\n",
       "      <td>secondary</td>\n",
       "      <td>unemployed</td>\n",
       "      <td>0.00</td>\n",
       "      <td>4000.00</td>\n",
       "      <td>2600.00</td>\n",
       "      <td>no</td>\n",
       "      <td>yes</td>\n",
       "      <td>0.0</td>\n",
       "      <td>yes</td>\n",
       "      <td>296.38</td>\n",
       "      <td>502.0</td>\n",
       "      <td>7106.07</td>\n",
       "      <td>11972.57</td>\n",
       "      <td>9314.10</td>\n",
       "      <td>14291.00</td>\n",
       "      <td>9510.65</td>\n",
       "      <td>14497.38</td>\n",
       "      <td>11965.15</td>\n",
       "      <td>13822.30</td>\n",
       "      <td>9112.25</td>\n",
       "      <td>14079.06</td>\n",
       "      <td>9330.50</td>\n",
       "      <td>14308.22</td>\n",
       "      <td>9525.29</td>\n",
       "      <td>14512.75</td>\n",
       "      <td>11981.29</td>\n",
       "      <td>13836.02</td>\n",
       "      <td>11270.72</td>\n",
       "      <td>13232.03</td>\n",
       "      <td>8610.53</td>\n",
       "      <td>10970.87</td>\n",
       "      <td>6688.54</td>\n",
       "      <td>11534.17</td>\n",
       "      <td>8853.78</td>\n",
       "      <td>11177.64</td>\n",
       "      <td>8479.42</td>\n",
       "      <td>13414.59</td>\n",
       "      <td>8765.70</td>\n",
       "      <td>13715.18</td>\n",
       "      <td>11143.84</td>\n",
       "      <td>13124.19</td>\n",
       "      <td>8518.86</td>\n",
       "      <td>13456.00</td>\n",
       "      <td>8800.90</td>\n",
       "      <td>13752.14</td>\n",
       "      <td>11182.65</td>\n",
       "      <td>16252.98</td>\n",
       "      <td>11178.33</td>\n",
       "      <td>13153.50</td>\n",
       "      <td>8543.78</td>\n",
       "      <td>13482.17</td>\n",
       "      <td>10899.18</td>\n",
       "      <td>15955.34</td>\n",
       "      <td>10925.34</td>\n",
       "      <td>12938.46</td>\n",
       "      <td>10328.28</td>\n",
       "      <td>12430.96</td>\n",
       "      <td>9795.41</td>\n",
       "      <td>11978.02</td>\n",
       "      <td>9319.82</td>\n",
       "    </tr>\n",
       "    <tr>\n",
       "      <th>1</th>\n",
       "      <td>17</td>\n",
       "      <td>f</td>\n",
       "      <td>china</td>\n",
       "      <td>no</td>\n",
       "      <td>single</td>\n",
       "      <td>personal</td>\n",
       "      <td>full time</td>\n",
       "      <td>yes</td>\n",
       "      <td>retail</td>\n",
       "      <td>secondary</td>\n",
       "      <td>entry-level</td>\n",
       "      <td>5157.22</td>\n",
       "      <td>7157.22</td>\n",
       "      <td>5725.78</td>\n",
       "      <td>no</td>\n",
       "      <td>yes</td>\n",
       "      <td>0.0</td>\n",
       "      <td>yes</td>\n",
       "      <td>271.17</td>\n",
       "      <td>416.0</td>\n",
       "      <td>9540.45</td>\n",
       "      <td>17817.28</td>\n",
       "      <td>12259.28</td>\n",
       "      <td>20672.05</td>\n",
       "      <td>15256.78</td>\n",
       "      <td>23819.43</td>\n",
       "      <td>15026.00</td>\n",
       "      <td>23577.11</td>\n",
       "      <td>14820.03</td>\n",
       "      <td>23360.84</td>\n",
       "      <td>14636.20</td>\n",
       "      <td>18754.90</td>\n",
       "      <td>10721.15</td>\n",
       "      <td>15427.11</td>\n",
       "      <td>7892.53</td>\n",
       "      <td>16086.97</td>\n",
       "      <td>8453.41</td>\n",
       "      <td>13499.53</td>\n",
       "      <td>6254.09</td>\n",
       "      <td>14366.60</td>\n",
       "      <td>8636.06</td>\n",
       "      <td>13654.78</td>\n",
       "      <td>7888.65</td>\n",
       "      <td>13019.48</td>\n",
       "      <td>7221.58</td>\n",
       "      <td>15382.47</td>\n",
       "      <td>7854.59</td>\n",
       "      <td>12990.53</td>\n",
       "      <td>7191.19</td>\n",
       "      <td>15350.56</td>\n",
       "      <td>7827.46</td>\n",
       "      <td>12967.47</td>\n",
       "      <td>7166.97</td>\n",
       "      <td>15325.13</td>\n",
       "      <td>7805.85</td>\n",
       "      <td>15995.95</td>\n",
       "      <td>8376.04</td>\n",
       "      <td>13433.77</td>\n",
       "      <td>6198.19</td>\n",
       "      <td>11582.59</td>\n",
       "      <td>5712.85</td>\n",
       "      <td>11170.05</td>\n",
       "      <td>5279.68</td>\n",
       "      <td>10801.86</td>\n",
       "      <td>3961.07</td>\n",
       "      <td>9681.04</td>\n",
       "      <td>3008.37</td>\n",
       "      <td>8871.25</td>\n",
       "      <td>2320.05</td>\n",
       "    </tr>\n",
       "    <tr>\n",
       "      <th>2</th>\n",
       "      <td>17</td>\n",
       "      <td>f</td>\n",
       "      <td>hong kong</td>\n",
       "      <td>no</td>\n",
       "      <td>single</td>\n",
       "      <td>personal</td>\n",
       "      <td>no</td>\n",
       "      <td>yes</td>\n",
       "      <td>unemployed</td>\n",
       "      <td>secondary</td>\n",
       "      <td>unemployed</td>\n",
       "      <td>0.00</td>\n",
       "      <td>4000.00</td>\n",
       "      <td>1600.00</td>\n",
       "      <td>no</td>\n",
       "      <td>yes</td>\n",
       "      <td>0.0</td>\n",
       "      <td>yes</td>\n",
       "      <td>269.60</td>\n",
       "      <td>607.0</td>\n",
       "      <td>7850.73</td>\n",
       "      <td>12726.35</td>\n",
       "      <td>8941.45</td>\n",
       "      <td>11229.39</td>\n",
       "      <td>9473.51</td>\n",
       "      <td>14430.27</td>\n",
       "      <td>12834.43</td>\n",
       "      <td>17959.23</td>\n",
       "      <td>16539.84</td>\n",
       "      <td>17688.02</td>\n",
       "      <td>16255.07</td>\n",
       "      <td>21550.90</td>\n",
       "      <td>16442.32</td>\n",
       "      <td>17605.13</td>\n",
       "      <td>13088.41</td>\n",
       "      <td>18225.91</td>\n",
       "      <td>16819.86</td>\n",
       "      <td>22143.93</td>\n",
       "      <td>16946.39</td>\n",
       "      <td>22276.79</td>\n",
       "      <td>21073.28</td>\n",
       "      <td>21541.45</td>\n",
       "      <td>20301.17</td>\n",
       "      <td>25799.31</td>\n",
       "      <td>20053.46</td>\n",
       "      <td>20674.60</td>\n",
       "      <td>19390.98</td>\n",
       "      <td>20111.49</td>\n",
       "      <td>15218.82</td>\n",
       "      <td>20462.84</td>\n",
       "      <td>15517.46</td>\n",
       "      <td>16819.00</td>\n",
       "      <td>12420.20</td>\n",
       "      <td>17524.29</td>\n",
       "      <td>16083.15</td>\n",
       "      <td>17299.84</td>\n",
       "      <td>12828.91</td>\n",
       "      <td>17953.44</td>\n",
       "      <td>13384.47</td>\n",
       "      <td>15005.96</td>\n",
       "      <td>10879.12</td>\n",
       "      <td>12876.41</td>\n",
       "      <td>11202.88</td>\n",
       "      <td>16246.10</td>\n",
       "      <td>14741.06</td>\n",
       "      <td>16159.06</td>\n",
       "      <td>14649.66</td>\n",
       "      <td>19865.22</td>\n",
       "      <td>15009.49</td>\n",
       "    </tr>\n",
       "    <tr>\n",
       "      <th>3</th>\n",
       "      <td>18</td>\n",
       "      <td>f</td>\n",
       "      <td>hong kong</td>\n",
       "      <td>no</td>\n",
       "      <td>single</td>\n",
       "      <td>personal</td>\n",
       "      <td>no</td>\n",
       "      <td>yes</td>\n",
       "      <td>unemployed</td>\n",
       "      <td>secondary</td>\n",
       "      <td>unemployed</td>\n",
       "      <td>0.00</td>\n",
       "      <td>4000.00</td>\n",
       "      <td>1600.00</td>\n",
       "      <td>yes</td>\n",
       "      <td>yes</td>\n",
       "      <td>560.0</td>\n",
       "      <td>yes</td>\n",
       "      <td>140.67</td>\n",
       "      <td>412.0</td>\n",
       "      <td>8723.34</td>\n",
       "      <td>10934.41</td>\n",
       "      <td>8780.53</td>\n",
       "      <td>10983.02</td>\n",
       "      <td>7149.37</td>\n",
       "      <td>11854.54</td>\n",
       "      <td>9746.67</td>\n",
       "      <td>14581.71</td>\n",
       "      <td>12610.20</td>\n",
       "      <td>17588.41</td>\n",
       "      <td>15767.23</td>\n",
       "      <td>20903.30</td>\n",
       "      <td>15581.60</td>\n",
       "      <td>20708.38</td>\n",
       "      <td>15415.92</td>\n",
       "      <td>20534.42</td>\n",
       "      <td>15268.06</td>\n",
       "      <td>20379.17</td>\n",
       "      <td>15136.09</td>\n",
       "      <td>16385.25</td>\n",
       "      <td>11741.26</td>\n",
       "      <td>13499.64</td>\n",
       "      <td>11474.02</td>\n",
       "      <td>13272.49</td>\n",
       "      <td>9095.42</td>\n",
       "      <td>11250.68</td>\n",
       "      <td>7376.88</td>\n",
       "      <td>12093.43</td>\n",
       "      <td>9997.50</td>\n",
       "      <td>14845.08</td>\n",
       "      <td>10432.12</td>\n",
       "      <td>15301.43</td>\n",
       "      <td>10820.02</td>\n",
       "      <td>15708.72</td>\n",
       "      <td>13793.56</td>\n",
       "      <td>15244.10</td>\n",
       "      <td>10771.28</td>\n",
       "      <td>12675.16</td>\n",
       "      <td>10608.32</td>\n",
       "      <td>15486.44</td>\n",
       "      <td>10977.27</td>\n",
       "      <td>12850.25</td>\n",
       "      <td>8736.51</td>\n",
       "      <td>13521.04</td>\n",
       "      <td>9306.68</td>\n",
       "      <td>11430.25</td>\n",
       "      <td>7529.51</td>\n",
       "      <td>12253.69</td>\n",
       "      <td>10165.77</td>\n",
       "    </tr>\n",
       "    <tr>\n",
       "      <th>4</th>\n",
       "      <td>15</td>\n",
       "      <td>f</td>\n",
       "      <td>hong kong</td>\n",
       "      <td>no</td>\n",
       "      <td>single</td>\n",
       "      <td>personal</td>\n",
       "      <td>no</td>\n",
       "      <td>yes</td>\n",
       "      <td>unemployed</td>\n",
       "      <td>secondary</td>\n",
       "      <td>unemployed</td>\n",
       "      <td>0.00</td>\n",
       "      <td>3000.00</td>\n",
       "      <td>1200.00</td>\n",
       "      <td>no</td>\n",
       "      <td>yes</td>\n",
       "      <td>0.0</td>\n",
       "      <td>no</td>\n",
       "      <td>0.00</td>\n",
       "      <td>0.0</td>\n",
       "      <td>7578.45</td>\n",
       "      <td>11107.37</td>\n",
       "      <td>8421.26</td>\n",
       "      <td>9708.07</td>\n",
       "      <td>7231.86</td>\n",
       "      <td>10743.45</td>\n",
       "      <td>8111.93</td>\n",
       "      <td>11667.53</td>\n",
       "      <td>8897.40</td>\n",
       "      <td>12492.27</td>\n",
       "      <td>9598.43</td>\n",
       "      <td>13228.35</td>\n",
       "      <td>12629.77</td>\n",
       "      <td>13285.30</td>\n",
       "      <td>12689.56</td>\n",
       "      <td>16474.04</td>\n",
       "      <td>16037.74</td>\n",
       "      <td>16182.08</td>\n",
       "      <td>15731.18</td>\n",
       "      <td>19667.74</td>\n",
       "      <td>15697.58</td>\n",
       "      <td>19632.46</td>\n",
       "      <td>15667.59</td>\n",
       "      <td>19600.97</td>\n",
       "      <td>19321.02</td>\n",
       "      <td>18972.87</td>\n",
       "      <td>15106.94</td>\n",
       "      <td>15390.90</td>\n",
       "      <td>14900.44</td>\n",
       "      <td>15215.37</td>\n",
       "      <td>11913.06</td>\n",
       "      <td>12676.10</td>\n",
       "      <td>12049.90</td>\n",
       "      <td>15802.40</td>\n",
       "      <td>15332.52</td>\n",
       "      <td>15582.64</td>\n",
       "      <td>15101.77</td>\n",
       "      <td>19006.86</td>\n",
       "      <td>18697.20</td>\n",
       "      <td>18442.62</td>\n",
       "      <td>14656.23</td>\n",
       "      <td>15007.80</td>\n",
       "      <td>11736.63</td>\n",
       "      <td>15473.46</td>\n",
       "      <td>12132.44</td>\n",
       "      <td>15889.06</td>\n",
       "      <td>15423.51</td>\n",
       "      <td>15659.98</td>\n",
       "      <td>15182.98</td>\n",
       "    </tr>\n",
       "  </tbody>\n",
       "</table>\n",
       "</div>"
      ],
      "text/plain": [
       "   age gender nationality expat  status account tier employment joint  \\\n",
       "0   16      m   hong kong    no  single     personal         no   yes   \n",
       "1   17      f       china    no  single     personal  full time   yes   \n",
       "2   17      f   hong kong    no  single     personal         no   yes   \n",
       "3   18      f   hong kong    no  single     personal         no   yes   \n",
       "4   15      f   hong kong    no  single     personal         no   yes   \n",
       "\n",
       "     industry  education job position   salary  monthly deposit avg  \\\n",
       "0  unemployed  secondary   unemployed     0.00              4000.00   \n",
       "1      retail  secondary  entry-level  5157.22              7157.22   \n",
       "2  unemployed  secondary   unemployed     0.00              4000.00   \n",
       "3  unemployed  secondary   unemployed     0.00              4000.00   \n",
       "4  unemployed  secondary   unemployed     0.00              3000.00   \n",
       "\n",
       "   monthly expense avg credit card debit card  credit card expense payme  \\\n",
       "0              2600.00          no        yes                  0.0   yes   \n",
       "1              5725.78          no        yes                  0.0   yes   \n",
       "2              1600.00          no        yes                  0.0   yes   \n",
       "3              1600.00         yes        yes                560.0   yes   \n",
       "4              1200.00          no        yes                  0.0    no   \n",
       "\n",
       "   payme deposit  payme expense  feb 10, 2017  feb 25, 2017  mar 10, 2017  \\\n",
       "0         296.38          502.0       7106.07      11972.57       9314.10   \n",
       "1         271.17          416.0       9540.45      17817.28      12259.28   \n",
       "2         269.60          607.0       7850.73      12726.35       8941.45   \n",
       "3         140.67          412.0       8723.34      10934.41       8780.53   \n",
       "4           0.00            0.0       7578.45      11107.37       8421.26   \n",
       "\n",
       "   mar 25, 2017  apr 10, 2017  apr 25, 2017  may 10, 2017  may 25, 2017  \\\n",
       "0      14291.00       9510.65      14497.38      11965.15      13822.30   \n",
       "1      20672.05      15256.78      23819.43      15026.00      23577.11   \n",
       "2      11229.39       9473.51      14430.27      12834.43      17959.23   \n",
       "3      10983.02       7149.37      11854.54       9746.67      14581.71   \n",
       "4       9708.07       7231.86      10743.45       8111.93      11667.53   \n",
       "\n",
       "   jun 10, 2017  jun 25, 2017  jul 10, 2017  jul 25, 2017  aug 10, 2017  \\\n",
       "0       9112.25      14079.06       9330.50      14308.22       9525.29   \n",
       "1      14820.03      23360.84      14636.20      18754.90      10721.15   \n",
       "2      16539.84      17688.02      16255.07      21550.90      16442.32   \n",
       "3      12610.20      17588.41      15767.23      20903.30      15581.60   \n",
       "4       8897.40      12492.27       9598.43      13228.35      12629.77   \n",
       "\n",
       "   aug 25, 2017  sep 10, 2017  sep 25, 2017  oct 10, 2017  oct 25, 2017  \\\n",
       "0      14512.75      11981.29      13836.02      11270.72      13232.03   \n",
       "1      15427.11       7892.53      16086.97       8453.41      13499.53   \n",
       "2      17605.13      13088.41      18225.91      16819.86      22143.93   \n",
       "3      20708.38      15415.92      20534.42      15268.06      20379.17   \n",
       "4      13285.30      12689.56      16474.04      16037.74      16182.08   \n",
       "\n",
       "   nov 10, 2017  nov 25, 2017  dec 10, 2017  dec 25, 2017  jan 10, 2018  \\\n",
       "0       8610.53      10970.87       6688.54      11534.17       8853.78   \n",
       "1       6254.09      14366.60       8636.06      13654.78       7888.65   \n",
       "2      16946.39      22276.79      21073.28      21541.45      20301.17   \n",
       "3      15136.09      16385.25      11741.26      13499.64      11474.02   \n",
       "4      15731.18      19667.74      15697.58      19632.46      15667.59   \n",
       "\n",
       "   jan 25, 2018  feb 10, 2018  feb 25, 2018  mar 10, 2018  mar 25, 2018  \\\n",
       "0      11177.64       8479.42      13414.59       8765.70      13715.18   \n",
       "1      13019.48       7221.58      15382.47       7854.59      12990.53   \n",
       "2      25799.31      20053.46      20674.60      19390.98      20111.49   \n",
       "3      13272.49       9095.42      11250.68       7376.88      12093.43   \n",
       "4      19600.97      19321.02      18972.87      15106.94      15390.90   \n",
       "\n",
       "   apr 10, 2018  apr 25, 2018  may 10, 2018  may 25, 2018  jun 10, 2018  \\\n",
       "0      11143.84      13124.19       8518.86      13456.00       8800.90   \n",
       "1       7191.19      15350.56       7827.46      12967.47       7166.97   \n",
       "2      15218.82      20462.84      15517.46      16819.00      12420.20   \n",
       "3       9997.50      14845.08      10432.12      15301.43      10820.02   \n",
       "4      14900.44      15215.37      11913.06      12676.10      12049.90   \n",
       "\n",
       "   jun 25, 2018  jul 10, 2018  jul 25, 2018  aug 10, 2018  aug 25, 2018  \\\n",
       "0      13752.14      11182.65      16252.98      11178.33      13153.50   \n",
       "1      15325.13       7805.85      15995.95       8376.04      13433.77   \n",
       "2      17524.29      16083.15      17299.84      12828.91      17953.44   \n",
       "3      15708.72      13793.56      15244.10      10771.28      12675.16   \n",
       "4      15802.40      15332.52      15582.64      15101.77      19006.86   \n",
       "\n",
       "   sep 10, 2018  sep 25, 2018  oct 10, 2018  oct 25, 2018  nov 10, 2018  \\\n",
       "0       8543.78      13482.17      10899.18      15955.34      10925.34   \n",
       "1       6198.19      11582.59       5712.85      11170.05       5279.68   \n",
       "2      13384.47      15005.96      10879.12      12876.41      11202.88   \n",
       "3      10608.32      15486.44      10977.27      12850.25       8736.51   \n",
       "4      18697.20      18442.62      14656.23      15007.80      11736.63   \n",
       "\n",
       "   nov 25, 2018  dec 10, 2018  dec 25, 2018  jan 10, 2019  jan 25, 2019  \\\n",
       "0      12938.46      10328.28      12430.96       9795.41      11978.02   \n",
       "1      10801.86       3961.07       9681.04       3008.37       8871.25   \n",
       "2      16246.10      14741.06      16159.06      14649.66      19865.22   \n",
       "3      13521.04       9306.68      11430.25       7529.51      12253.69   \n",
       "4      15473.46      12132.44      15889.06      15423.51      15659.98   \n",
       "\n",
       "   feb 10, 2019  \n",
       "0       9319.82  \n",
       "1       2320.05  \n",
       "2      15009.49  \n",
       "3      10165.77  \n",
       "4      15182.98  "
      ]
     },
     "execution_count": 113,
     "metadata": {},
     "output_type": "execute_result"
    }
   ],
   "source": [
    "teens_df.head()"
   ]
  },
  {
   "cell_type": "code",
   "execution_count": 114,
   "metadata": {},
   "outputs": [],
   "source": [
    "teens_df.to_csv('teens_hsbc.csv', index=False)"
   ]
  },
  {
   "cell_type": "markdown",
   "metadata": {},
   "source": [
    "##### Young Adults"
   ]
  },
  {
   "cell_type": "code",
   "execution_count": 115,
   "metadata": {},
   "outputs": [
    {
     "data": {
      "text/plain": [
       "460000"
      ]
     },
     "execution_count": 115,
     "metadata": {},
     "output_type": "execute_result"
    }
   ],
   "source": [
    "len(fresh_grad)"
   ]
  },
  {
   "cell_type": "code",
   "execution_count": 116,
   "metadata": {},
   "outputs": [],
   "source": [
    "young_adults = pd.DataFrame(fresh_grad, columns=['age'])"
   ]
  },
  {
   "cell_type": "code",
   "execution_count": 117,
   "metadata": {},
   "outputs": [],
   "source": [
    "young_adults['gender'] = pd.DataFrame(np.random.choice(['m', 'f'], size=460000, p=[.48, .52]))"
   ]
  },
  {
   "cell_type": "code",
   "execution_count": 118,
   "metadata": {},
   "outputs": [],
   "source": [
    "young_adults['nationality'] = pd.DataFrame(np.random.choice(['hong kong', 'china', 'other asian', 'white'], size=460000, p=[.75,.15,.05,.05]))"
   ]
  },
  {
   "cell_type": "code",
   "execution_count": 119,
   "metadata": {},
   "outputs": [],
   "source": [
    "young_adults['expat'] = young_adults['nationality'].apply(lambda x: 'no' if (x=='hong kong') | (x=='china') else 'yes')"
   ]
  },
  {
   "cell_type": "code",
   "execution_count": 120,
   "metadata": {},
   "outputs": [],
   "source": [
    "young_adults['status'] = pd.DataFrame(np.random.choice(['single','married','divorce'], size=460000, p=[.93,.05,.02]))"
   ]
  },
  {
   "cell_type": "code",
   "execution_count": 121,
   "metadata": {},
   "outputs": [],
   "source": [
    "young_adults['account tier'] = pd.DataFrame(np.random.choice(['personal', 'advance','premier'],size=460000, p=[.94,.05,.01]))"
   ]
  },
  {
   "cell_type": "code",
   "execution_count": 122,
   "metadata": {},
   "outputs": [],
   "source": [
    "young_adults['employment'] = pd.DataFrame(np.random.choice(['no','full time', 'part time'],size=460000, p=[.65,.1,.25]))"
   ]
  },
  {
   "cell_type": "code",
   "execution_count": 123,
   "metadata": {},
   "outputs": [],
   "source": [
    "young_adults['joint'] = pd.DataFrame(np.random.choice(['no', 'yes'], size=460000, p=[.85, .15]))"
   ]
  },
  {
   "cell_type": "code",
   "execution_count": 124,
   "metadata": {},
   "outputs": [],
   "source": [
    "def ya_work(col):\n",
    "    \"\"\"\n",
    "    young adult industry\n",
    "    \"\"\"\n",
    "    if col == 'no':\n",
    "        return 'unemployed'\n",
    "    else:\n",
    "        return np.random.choice(['retail', 'service', 'education','manufacturing', 'other', 'construction', 'transportation'], p=[.25,.25,.3,.025,.05,.025,.1])"
   ]
  },
  {
   "cell_type": "code",
   "execution_count": 125,
   "metadata": {},
   "outputs": [],
   "source": [
    "young_adults['industry'] = young_adults['employment'].apply(ya_work)"
   ]
  },
  {
   "cell_type": "code",
   "execution_count": 126,
   "metadata": {},
   "outputs": [],
   "source": [
    "young_adults['education'] = pd.DataFrame(np.random.choice(['primary','secondary','tertiary'], size=460000, p=[.1,.65,.25]))"
   ]
  },
  {
   "cell_type": "code",
   "execution_count": 127,
   "metadata": {},
   "outputs": [],
   "source": [
    "def ya_position(col):\n",
    "    \"\"\"\n",
    "    young adult job position\n",
    "    \"\"\"\n",
    "    if col == 'no':\n",
    "        return 'unemployed'\n",
    "    else:\n",
    "        return np.random.choice(['entry-level','junior', 'associate'], p=[.75,.2,.05])"
   ]
  },
  {
   "cell_type": "code",
   "execution_count": 128,
   "metadata": {},
   "outputs": [],
   "source": [
    "young_adults['job position'] = young_adults['employment'].apply(ya_position)"
   ]
  },
  {
   "cell_type": "code",
   "execution_count": 129,
   "metadata": {},
   "outputs": [],
   "source": [
    "def ya_salary(col):\n",
    "    \"\"\"\n",
    "    young adult salary\n",
    "    \"\"\"\n",
    "    if col == 'unemployed':\n",
    "        return 0\n",
    "    elif col == 'part time':\n",
    "        return np.round(np.random.normal(7000,500),2)\n",
    "    else:\n",
    "        return np.round(np.random.normal(14400,3000),2)"
   ]
  },
  {
   "cell_type": "code",
   "execution_count": 130,
   "metadata": {},
   "outputs": [],
   "source": [
    "young_adults['salary'] = young_adults['job position'].apply(ya_salary)"
   ]
  },
  {
   "cell_type": "code",
   "execution_count": 131,
   "metadata": {},
   "outputs": [],
   "source": [
    "def ya_deposit(col):\n",
    "    \"\"\"\n",
    "    young adult deposits\n",
    "    \"\"\"\n",
    "    if col != 0:\n",
    "        return col*np.random.choice([.5,.66,.75,.85,1], p=[.15,.25,.35,.15,.1])\n",
    "    else:\n",
    "        return np.random.choice([3000,4000,5000], p=[.2,.5,.3])"
   ]
  },
  {
   "cell_type": "code",
   "execution_count": 132,
   "metadata": {},
   "outputs": [],
   "source": [
    "young_adults['monthly deposit avg'] = young_adults['salary'].apply(ya_deposit)"
   ]
  },
  {
   "cell_type": "code",
   "execution_count": 133,
   "metadata": {},
   "outputs": [],
   "source": [
    "def ya_expense(col):\n",
    "    \"\"\"\n",
    "    young adult expenses\n",
    "    \"\"\"\n",
    "    sal = col[0]\n",
    "    dep = col[1]\n",
    "    if sal != 0:\n",
    "        return dep* np.random.choice([.6,.45,.35,.2], p=[.4,.3,.2,.1])\n",
    "    else:\n",
    "        return dep* np.random.choice([.5,.35,.2], p=[.6,.25,.15])"
   ]
  },
  {
   "cell_type": "code",
   "execution_count": 134,
   "metadata": {},
   "outputs": [],
   "source": [
    "young_adults['monthly expense avg'] = young_adults[['salary', 'monthly deposit avg']].apply(ya_expense, axis=1)"
   ]
  },
  {
   "cell_type": "code",
   "execution_count": 135,
   "metadata": {},
   "outputs": [],
   "source": [
    "def ya_cc(col):\n",
    "    \"\"\"\n",
    "    young adults credit card\n",
    "    \"\"\"\n",
    "    if col > 12000:\n",
    "        return np.random.choice(['yes', 'no'], p=[.8,.2])\n",
    "    else:\n",
    "        return np.random.choice(['yes', 'no'], p=[.4,.6])"
   ]
  },
  {
   "cell_type": "code",
   "execution_count": 136,
   "metadata": {},
   "outputs": [],
   "source": [
    "young_adults['credit card'] = young_adults['salary'].apply(ya_cc)"
   ]
  },
  {
   "cell_type": "code",
   "execution_count": 137,
   "metadata": {},
   "outputs": [],
   "source": [
    "young_adults['debit card'] = pd.DataFrame(np.random.choice(['yes','no'], size=460000, p=[.9,.1]))"
   ]
  },
  {
   "cell_type": "code",
   "execution_count": 138,
   "metadata": {},
   "outputs": [],
   "source": [
    "def ya_ccexp(col):\n",
    "    \"\"\"\n",
    "    young adult credit card expense\n",
    "    \"\"\"\n",
    "    cc = col[0]\n",
    "    exp = col[1]\n",
    "    if cc == 'yes':\n",
    "        return np.round(exp*np.random.choice([.55, .45,.25,.15], p=[.45,.25,.15,.15]),2)\n",
    "    else:\n",
    "        return 0"
   ]
  },
  {
   "cell_type": "code",
   "execution_count": 139,
   "metadata": {},
   "outputs": [],
   "source": [
    "young_adults['credit card expense'] = young_adults[['credit card', 'monthly expense avg']].apply(ya_ccexp,axis=1)"
   ]
  },
  {
   "cell_type": "code",
   "execution_count": 140,
   "metadata": {},
   "outputs": [],
   "source": [
    "young_adults['payme'] = pd.DataFrame(np.random.choice(['no', 'yes'], size=460000, p=[.8,.2]))"
   ]
  },
  {
   "cell_type": "code",
   "execution_count": 141,
   "metadata": {},
   "outputs": [],
   "source": [
    "young_adults['payme deposit'] = young_adults['payme'].apply(lambda x: np.round(np.random.normal(400,100),2) if x=='yes' else 0)"
   ]
  },
  {
   "cell_type": "code",
   "execution_count": 142,
   "metadata": {},
   "outputs": [],
   "source": [
    "young_adults['payme expense'] = young_adults['payme'].apply(lambda x: np.round(np.random.normal(600,100),2) if x =='yes' else 0)"
   ]
  },
  {
   "cell_type": "code",
   "execution_count": 143,
   "metadata": {},
   "outputs": [],
   "source": [
    "def ya_start(col):\n",
    "    \"\"\"\n",
    "    young adult start month check\n",
    "    \"\"\"\n",
    "    if col == 'personal':\n",
    "        return np.random.choice([np.round(np.random.normal(11000, 1000),2), np.round(np.random.normal(14000,1500),2), np.round(np.random.normal(18000,2000),2)], p=[.3,.5,.2])\n",
    "    elif col == 'advance':\n",
    "        return np.random.choice([np.round(np.random.normal(200000, 5000), 2), np.round(np.random.normal(190000, 10000), 2)], p=[.7,.3])\n",
    "    else:\n",
    "        return np.round(np.random.normal(1000000, 50000),2)"
   ]
  },
  {
   "cell_type": "code",
   "execution_count": 144,
   "metadata": {},
   "outputs": [],
   "source": [
    "young_adults['feb 10, 2017'] = young_adults['account tier'].apply(ya_start)"
   ]
  },
  {
   "cell_type": "code",
   "execution_count": 145,
   "metadata": {},
   "outputs": [],
   "source": [
    "young_adults['feb 25, 2017'] = young_adults[['monthly deposit avg', 'payme deposit', 'feb 10, 2017']].apply(second_check, axis=1)"
   ]
  },
  {
   "cell_type": "code",
   "execution_count": 146,
   "metadata": {},
   "outputs": [],
   "source": [
    "def ya_end_month(col):\n",
    "    \"\"\"\n",
    "    young adult new month check\n",
    "    \"\"\"\n",
    "    me = col[0]\n",
    "    ce = col[1]\n",
    "    pe = col[2]\n",
    "    em = col[3]\n",
    "    return np.round((em-me-ce-pe)*np.random.choice([.80,.95, 1.1], p=[.3,.45,.25]),2)"
   ]
  },
  {
   "cell_type": "code",
   "execution_count": 147,
   "metadata": {},
   "outputs": [],
   "source": [
    "young_adults['mar 10, 2017'] = young_adults[['monthly expense avg', 'credit card expense','payme expense', 'feb 25, 2017']].apply(ya_end_month, axis=1)"
   ]
  },
  {
   "cell_type": "code",
   "execution_count": 148,
   "metadata": {},
   "outputs": [],
   "source": [
    "young_adults['mar 25, 2017'] = young_adults[['monthly deposit avg', 'payme deposit', 'mar 10, 2017']].apply(second_check, axis=1)"
   ]
  },
  {
   "cell_type": "code",
   "execution_count": 149,
   "metadata": {},
   "outputs": [],
   "source": [
    "young_adults['apr 10, 2017'] = young_adults[['monthly expense avg', 'credit card expense','payme expense', 'mar 25, 2017']].apply(ya_end_month, axis=1)"
   ]
  },
  {
   "cell_type": "code",
   "execution_count": 150,
   "metadata": {},
   "outputs": [],
   "source": [
    "young_adults['apr 25, 2017'] = young_adults[['monthly deposit avg', 'payme deposit', 'apr 10, 2017']].apply(second_check, axis=1)"
   ]
  },
  {
   "cell_type": "code",
   "execution_count": 152,
   "metadata": {},
   "outputs": [],
   "source": [
    "young_adults['may 10, 2017'] = young_adults[['monthly expense avg', 'credit card expense','payme expense', 'apr 25, 2017']].apply(ya_end_month, axis=1)"
   ]
  },
  {
   "cell_type": "code",
   "execution_count": 153,
   "metadata": {},
   "outputs": [],
   "source": [
    "young_adults['may 25, 2017'] = young_adults[['monthly deposit avg', 'payme deposit', 'may 10, 2017']].apply(second_check, axis=1)"
   ]
  },
  {
   "cell_type": "code",
   "execution_count": 154,
   "metadata": {},
   "outputs": [],
   "source": [
    "young_adults['jun 10, 2017'] = young_adults[['monthly expense avg', 'credit card expense','payme expense', 'may 25, 2017']].apply(ya_end_month, axis=1)"
   ]
  },
  {
   "cell_type": "code",
   "execution_count": 155,
   "metadata": {},
   "outputs": [],
   "source": [
    "young_adults['jun 25, 2017'] = young_adults[['monthly deposit avg', 'payme deposit', 'jun 10, 2017']].apply(second_check, axis=1)"
   ]
  },
  {
   "cell_type": "code",
   "execution_count": 156,
   "metadata": {},
   "outputs": [],
   "source": [
    "young_adults['jul 10, 2017'] = young_adults[['monthly expense avg', 'credit card expense','payme expense', 'jun 25, 2017']].apply(ya_end_month, axis=1)"
   ]
  },
  {
   "cell_type": "code",
   "execution_count": 157,
   "metadata": {},
   "outputs": [],
   "source": [
    "young_adults['jul 25, 2017'] = young_adults[['monthly deposit avg', 'payme deposit', 'jul 10, 2017']].apply(second_check, axis=1)"
   ]
  },
  {
   "cell_type": "code",
   "execution_count": 158,
   "metadata": {},
   "outputs": [],
   "source": [
    "young_adults['aug 10, 2017'] = young_adults[['monthly expense avg', 'credit card expense','payme expense', 'jul 25, 2017']].apply(ya_end_month, axis=1)"
   ]
  },
  {
   "cell_type": "code",
   "execution_count": 159,
   "metadata": {},
   "outputs": [],
   "source": [
    "young_adults['aug 25, 2017'] = young_adults[['monthly deposit avg', 'payme deposit', 'aug 10, 2017']].apply(second_check, axis=1)"
   ]
  },
  {
   "cell_type": "code",
   "execution_count": 160,
   "metadata": {},
   "outputs": [],
   "source": [
    "young_adults['sep 10, 2017'] = young_adults[['monthly expense avg', 'credit card expense','payme expense', 'aug 25, 2017']].apply(ya_end_month, axis=1)"
   ]
  },
  {
   "cell_type": "code",
   "execution_count": 161,
   "metadata": {},
   "outputs": [],
   "source": [
    "young_adults['sep 25, 2017'] = young_adults[['monthly deposit avg', 'payme deposit', 'sep 10, 2017']].apply(second_check, axis=1)"
   ]
  },
  {
   "cell_type": "code",
   "execution_count": 162,
   "metadata": {},
   "outputs": [],
   "source": [
    "young_adults['oct 10, 2017'] = young_adults[['monthly expense avg', 'credit card expense','payme expense', 'sep 25, 2017']].apply(ya_end_month, axis=1)"
   ]
  },
  {
   "cell_type": "code",
   "execution_count": 163,
   "metadata": {},
   "outputs": [],
   "source": [
    "young_adults['oct 25, 2017'] = young_adults[['monthly deposit avg', 'payme deposit', 'oct 10, 2017']].apply(second_check, axis=1)"
   ]
  },
  {
   "cell_type": "code",
   "execution_count": 164,
   "metadata": {},
   "outputs": [],
   "source": [
    "young_adults['nov 10, 2017'] = young_adults[['monthly expense avg', 'credit card expense','payme expense', 'oct 25, 2017']].apply(ya_end_month, axis=1)"
   ]
  },
  {
   "cell_type": "code",
   "execution_count": 165,
   "metadata": {},
   "outputs": [],
   "source": [
    "young_adults['nov 25, 2017'] = young_adults[['monthly deposit avg', 'payme deposit', 'nov 10, 2017']].apply(second_check, axis=1)"
   ]
  },
  {
   "cell_type": "code",
   "execution_count": 166,
   "metadata": {},
   "outputs": [],
   "source": [
    "young_adults['dec 10, 2017'] = young_adults[['monthly expense avg', 'credit card expense','payme expense', 'nov 25, 2017']].apply(ya_end_month, axis=1)"
   ]
  },
  {
   "cell_type": "code",
   "execution_count": 167,
   "metadata": {},
   "outputs": [],
   "source": [
    "young_adults['dec 25, 2017'] = young_adults[['monthly deposit avg', 'payme deposit', 'dec 10, 2017']].apply(second_check, axis=1)"
   ]
  },
  {
   "cell_type": "code",
   "execution_count": 168,
   "metadata": {},
   "outputs": [],
   "source": [
    "young_adults['jan 10, 2018'] = young_adults[['monthly expense avg', 'credit card expense','payme expense', 'dec 25, 2017']].apply(ya_end_month, axis=1)"
   ]
  },
  {
   "cell_type": "code",
   "execution_count": 169,
   "metadata": {},
   "outputs": [],
   "source": [
    "young_adults['jan 25, 2018'] = young_adults[['monthly deposit avg', 'payme deposit', 'jan 10, 2018']].apply(second_check, axis=1)"
   ]
  },
  {
   "cell_type": "code",
   "execution_count": 170,
   "metadata": {},
   "outputs": [],
   "source": [
    "young_adults['feb 10, 2018'] = young_adults[['monthly expense avg', 'credit card expense','payme expense', 'jan 25, 2018']].apply(ya_end_month, axis=1)"
   ]
  },
  {
   "cell_type": "code",
   "execution_count": 171,
   "metadata": {},
   "outputs": [],
   "source": [
    "young_adults['feb 25, 2018'] = young_adults[['monthly deposit avg', 'payme deposit', 'feb 10, 2018']].apply(second_check, axis=1)"
   ]
  },
  {
   "cell_type": "code",
   "execution_count": 172,
   "metadata": {},
   "outputs": [],
   "source": [
    "young_adults['mar 10, 2018'] = young_adults[['monthly expense avg', 'credit card expense','payme expense', 'feb 25, 2018']].apply(ya_end_month, axis=1)"
   ]
  },
  {
   "cell_type": "code",
   "execution_count": 173,
   "metadata": {},
   "outputs": [],
   "source": [
    "young_adults['mar 25, 2018'] = young_adults[['monthly deposit avg', 'payme deposit', 'mar 10, 2018']].apply(second_check, axis=1)"
   ]
  },
  {
   "cell_type": "code",
   "execution_count": 174,
   "metadata": {},
   "outputs": [],
   "source": [
    "young_adults['apr 10, 2018'] = young_adults[['monthly expense avg', 'credit card expense','payme expense', 'mar 25, 2018']].apply(ya_end_month, axis=1)"
   ]
  },
  {
   "cell_type": "code",
   "execution_count": 175,
   "metadata": {},
   "outputs": [],
   "source": [
    "young_adults['apr 25, 2018'] = young_adults[['monthly deposit avg', 'payme deposit', 'apr 10, 2018']].apply(second_check, axis=1)"
   ]
  },
  {
   "cell_type": "code",
   "execution_count": 176,
   "metadata": {},
   "outputs": [],
   "source": [
    "young_adults['may 10, 2018'] = young_adults[['monthly expense avg', 'credit card expense','payme expense', 'apr 25, 2018']].apply(ya_end_month, axis=1)"
   ]
  },
  {
   "cell_type": "code",
   "execution_count": 177,
   "metadata": {},
   "outputs": [],
   "source": [
    "young_adults['may 25, 2018'] = young_adults[['monthly deposit avg', 'payme deposit', 'may 10, 2018']].apply(second_check, axis=1)"
   ]
  },
  {
   "cell_type": "code",
   "execution_count": 178,
   "metadata": {},
   "outputs": [],
   "source": [
    "young_adults['jun 10, 2018'] = young_adults[['monthly expense avg', 'credit card expense','payme expense', 'may 25, 2018']].apply(ya_end_month, axis=1)"
   ]
  },
  {
   "cell_type": "code",
   "execution_count": 179,
   "metadata": {},
   "outputs": [],
   "source": [
    "young_adults['jun 25, 2018'] = young_adults[['monthly deposit avg', 'payme deposit', 'jun 10, 2018']].apply(second_check, axis=1)"
   ]
  },
  {
   "cell_type": "code",
   "execution_count": 180,
   "metadata": {},
   "outputs": [],
   "source": [
    "young_adults['jul 10, 2018'] = young_adults[['monthly expense avg', 'credit card expense','payme expense', 'jun 25, 2018']].apply(ya_end_month, axis=1)"
   ]
  },
  {
   "cell_type": "code",
   "execution_count": 181,
   "metadata": {},
   "outputs": [],
   "source": [
    "young_adults['jul 25, 2018'] = young_adults[['monthly deposit avg', 'payme deposit', 'jul 10, 2018']].apply(second_check, axis=1)"
   ]
  },
  {
   "cell_type": "code",
   "execution_count": 182,
   "metadata": {},
   "outputs": [],
   "source": [
    "young_adults['aug 10, 2018'] = young_adults[['monthly expense avg', 'credit card expense','payme expense', 'jul 25, 2018']].apply(ya_end_month, axis=1)"
   ]
  },
  {
   "cell_type": "code",
   "execution_count": 183,
   "metadata": {},
   "outputs": [],
   "source": [
    "young_adults['aug 25, 2018'] = young_adults[['monthly deposit avg', 'payme deposit', 'aug 10, 2018']].apply(second_check, axis=1)"
   ]
  },
  {
   "cell_type": "code",
   "execution_count": 184,
   "metadata": {},
   "outputs": [],
   "source": [
    "young_adults['sep 10, 2018'] = young_adults[['monthly expense avg', 'credit card expense','payme expense', 'aug 25, 2018']].apply(ya_end_month, axis=1)"
   ]
  },
  {
   "cell_type": "code",
   "execution_count": 185,
   "metadata": {},
   "outputs": [],
   "source": [
    "young_adults['sep 25, 2018'] = young_adults[['monthly deposit avg', 'payme deposit', 'sep 10, 2018']].apply(second_check, axis=1)"
   ]
  },
  {
   "cell_type": "code",
   "execution_count": 186,
   "metadata": {},
   "outputs": [],
   "source": [
    "young_adults['oct 10, 2018'] = young_adults[['monthly expense avg', 'credit card expense','payme expense', 'sep 25, 2018']].apply(ya_end_month, axis=1)"
   ]
  },
  {
   "cell_type": "code",
   "execution_count": 187,
   "metadata": {},
   "outputs": [],
   "source": [
    "young_adults['oct 25, 2018'] = young_adults[['monthly deposit avg', 'payme deposit', 'oct 10, 2018']].apply(second_check, axis=1)"
   ]
  },
  {
   "cell_type": "code",
   "execution_count": 188,
   "metadata": {},
   "outputs": [],
   "source": [
    "young_adults['nov 10, 2018'] = young_adults[['monthly expense avg', 'credit card expense','payme expense', 'oct 25, 2018']].apply(ya_end_month, axis=1)"
   ]
  },
  {
   "cell_type": "code",
   "execution_count": 189,
   "metadata": {},
   "outputs": [],
   "source": [
    "young_adults['nov 25, 2018'] = young_adults[['monthly deposit avg', 'payme deposit', 'nov 10, 2018']].apply(second_check, axis=1)"
   ]
  },
  {
   "cell_type": "code",
   "execution_count": 190,
   "metadata": {},
   "outputs": [],
   "source": [
    "young_adults['dec 10, 2018'] = young_adults[['monthly expense avg', 'credit card expense','payme expense', 'nov 25, 2018']].apply(ya_end_month, axis=1)"
   ]
  },
  {
   "cell_type": "code",
   "execution_count": 191,
   "metadata": {},
   "outputs": [],
   "source": [
    "young_adults['dec 25, 2018'] = young_adults[['monthly deposit avg', 'payme deposit', 'dec 10, 2018']].apply(second_check, axis=1)"
   ]
  },
  {
   "cell_type": "code",
   "execution_count": 192,
   "metadata": {},
   "outputs": [],
   "source": [
    "young_adults['jan 10, 2019'] = young_adults[['monthly expense avg', 'credit card expense','payme expense', 'dec 25, 2018']].apply(ya_end_month, axis=1)"
   ]
  },
  {
   "cell_type": "code",
   "execution_count": 193,
   "metadata": {},
   "outputs": [],
   "source": [
    "young_adults['jan 25, 2019'] = young_adults[['monthly deposit avg', 'payme deposit', 'jan 10, 2019']].apply(second_check, axis=1)"
   ]
  },
  {
   "cell_type": "code",
   "execution_count": 194,
   "metadata": {},
   "outputs": [],
   "source": [
    "young_adults['feb 10, 2019'] = young_adults[['monthly expense avg', 'credit card expense','payme expense', 'jan 25, 2019']].apply(ya_end_month, axis=1)"
   ]
  },
  {
   "cell_type": "code",
   "execution_count": 195,
   "metadata": {},
   "outputs": [
    {
     "data": {
      "text/plain": [
       "(460000, 69)"
      ]
     },
     "execution_count": 195,
     "metadata": {},
     "output_type": "execute_result"
    }
   ],
   "source": [
    "young_adults.shape"
   ]
  },
  {
   "cell_type": "code",
   "execution_count": 197,
   "metadata": {},
   "outputs": [],
   "source": [
    "young_adults.to_csv('ya.csv',index=False)"
   ]
  },
  {
   "cell_type": "code",
   "execution_count": 196,
   "metadata": {},
   "outputs": [
    {
     "data": {
      "text/html": [
       "<div>\n",
       "<style scoped>\n",
       "    .dataframe tbody tr th:only-of-type {\n",
       "        vertical-align: middle;\n",
       "    }\n",
       "\n",
       "    .dataframe tbody tr th {\n",
       "        vertical-align: top;\n",
       "    }\n",
       "\n",
       "    .dataframe thead th {\n",
       "        text-align: right;\n",
       "    }\n",
       "</style>\n",
       "<table border=\"1\" class=\"dataframe\">\n",
       "  <thead>\n",
       "    <tr style=\"text-align: right;\">\n",
       "      <th></th>\n",
       "      <th>age</th>\n",
       "      <th>gender</th>\n",
       "      <th>nationality</th>\n",
       "      <th>expat</th>\n",
       "      <th>status</th>\n",
       "      <th>account tier</th>\n",
       "      <th>employment</th>\n",
       "      <th>joint</th>\n",
       "      <th>industry</th>\n",
       "      <th>education</th>\n",
       "      <th>job position</th>\n",
       "      <th>salary</th>\n",
       "      <th>monthly deposit avg</th>\n",
       "      <th>monthly expense avg</th>\n",
       "      <th>credit card</th>\n",
       "      <th>debit card</th>\n",
       "      <th>credit card expense</th>\n",
       "      <th>payme</th>\n",
       "      <th>payme deposit</th>\n",
       "      <th>payme expense</th>\n",
       "      <th>feb 10, 2017</th>\n",
       "      <th>feb 25, 2017</th>\n",
       "      <th>mar 10, 2017</th>\n",
       "      <th>mar 25, 2017</th>\n",
       "      <th>apr 10, 2017</th>\n",
       "      <th>apr 25, 2017</th>\n",
       "      <th>may 10, 2017</th>\n",
       "      <th>may 25, 2017</th>\n",
       "      <th>jun 10, 2017</th>\n",
       "      <th>jun 25, 2017</th>\n",
       "      <th>jul 10, 2017</th>\n",
       "      <th>jul 25, 2017</th>\n",
       "      <th>aug 10, 2017</th>\n",
       "      <th>aug 25, 2017</th>\n",
       "      <th>sep 10, 2017</th>\n",
       "      <th>sep 25, 2017</th>\n",
       "      <th>oct 10, 2017</th>\n",
       "      <th>oct 25, 2017</th>\n",
       "      <th>nov 10, 2017</th>\n",
       "      <th>nov 25, 2017</th>\n",
       "      <th>dec 10, 2017</th>\n",
       "      <th>dec 25, 2017</th>\n",
       "      <th>jan 10, 2018</th>\n",
       "      <th>jan 25, 2018</th>\n",
       "      <th>feb 10, 2018</th>\n",
       "      <th>feb 25, 2018</th>\n",
       "      <th>mar 10, 2018</th>\n",
       "      <th>mar 25, 2018</th>\n",
       "      <th>apr 10, 2018</th>\n",
       "      <th>apr 25, 2018</th>\n",
       "      <th>may 10, 2018</th>\n",
       "      <th>may 25, 2018</th>\n",
       "      <th>jun 10, 2018</th>\n",
       "      <th>jun 25, 2018</th>\n",
       "      <th>jul 10, 2018</th>\n",
       "      <th>jul 25, 2018</th>\n",
       "      <th>aug 10, 2018</th>\n",
       "      <th>aug 25, 2018</th>\n",
       "      <th>sep 10, 2018</th>\n",
       "      <th>sep 25, 2018</th>\n",
       "      <th>oct 10, 2018</th>\n",
       "      <th>oct 25, 2018</th>\n",
       "      <th>nov 10, 2018</th>\n",
       "      <th>nov 25, 2018</th>\n",
       "      <th>dec 10, 2018</th>\n",
       "      <th>dec 25, 2018</th>\n",
       "      <th>jan 10, 2019</th>\n",
       "      <th>jan 25, 2019</th>\n",
       "      <th>feb 10, 2019</th>\n",
       "    </tr>\n",
       "  </thead>\n",
       "  <tbody>\n",
       "    <tr>\n",
       "      <th>0</th>\n",
       "      <td>23</td>\n",
       "      <td>m</td>\n",
       "      <td>hong kong</td>\n",
       "      <td>no</td>\n",
       "      <td>single</td>\n",
       "      <td>personal</td>\n",
       "      <td>part time</td>\n",
       "      <td>yes</td>\n",
       "      <td>education</td>\n",
       "      <td>secondary</td>\n",
       "      <td>entry-level</td>\n",
       "      <td>11874.98</td>\n",
       "      <td>10093.7330</td>\n",
       "      <td>2018.74660</td>\n",
       "      <td>no</td>\n",
       "      <td>yes</td>\n",
       "      <td>0.00</td>\n",
       "      <td>no</td>\n",
       "      <td>0.0</td>\n",
       "      <td>0.0</td>\n",
       "      <td>16071.23</td>\n",
       "      <td>22240.22</td>\n",
       "      <td>22243.62</td>\n",
       "      <td>33954.22</td>\n",
       "      <td>25548.38</td>\n",
       "      <td>37424.22</td>\n",
       "      <td>33635.20</td>\n",
       "      <td>45915.38</td>\n",
       "      <td>48286.30</td>\n",
       "      <td>61299.03</td>\n",
       "      <td>65208.31</td>\n",
       "      <td>64006.74</td>\n",
       "      <td>58888.59</td>\n",
       "      <td>72431.44</td>\n",
       "      <td>66892.06</td>\n",
       "      <td>65437.92</td>\n",
       "      <td>69761.09</td>\n",
       "      <td>83847.56</td>\n",
       "      <td>65463.05</td>\n",
       "      <td>79334.62</td>\n",
       "      <td>73450.08</td>\n",
       "      <td>71012.24</td>\n",
       "      <td>65543.82</td>\n",
       "      <td>79419.43</td>\n",
       "      <td>73530.65</td>\n",
       "      <td>71080.73</td>\n",
       "      <td>65608.88</td>\n",
       "      <td>64347.22</td>\n",
       "      <td>49862.78</td>\n",
       "      <td>62954.34</td>\n",
       "      <td>57888.81</td>\n",
       "      <td>71381.67</td>\n",
       "      <td>76299.22</td>\n",
       "      <td>73434.01</td>\n",
       "      <td>67844.50</td>\n",
       "      <td>81835.14</td>\n",
       "      <td>87798.03</td>\n",
       "      <td>102786.35</td>\n",
       "      <td>95729.22</td>\n",
       "      <td>89949.51</td>\n",
       "      <td>83534.23</td>\n",
       "      <td>79583.77</td>\n",
       "      <td>62052.02</td>\n",
       "      <td>75753.04</td>\n",
       "      <td>70047.58</td>\n",
       "      <td>68120.12</td>\n",
       "      <td>62796.30</td>\n",
       "      <td>76534.53</td>\n",
       "      <td>59612.63</td>\n",
       "    </tr>\n",
       "    <tr>\n",
       "      <th>1</th>\n",
       "      <td>22</td>\n",
       "      <td>f</td>\n",
       "      <td>hong kong</td>\n",
       "      <td>no</td>\n",
       "      <td>single</td>\n",
       "      <td>personal</td>\n",
       "      <td>no</td>\n",
       "      <td>no</td>\n",
       "      <td>unemployed</td>\n",
       "      <td>tertiary</td>\n",
       "      <td>unemployed</td>\n",
       "      <td>0.00</td>\n",
       "      <td>4000.0000</td>\n",
       "      <td>2000.00000</td>\n",
       "      <td>yes</td>\n",
       "      <td>yes</td>\n",
       "      <td>300.00</td>\n",
       "      <td>no</td>\n",
       "      <td>0.0</td>\n",
       "      <td>0.0</td>\n",
       "      <td>11276.11</td>\n",
       "      <td>16039.92</td>\n",
       "      <td>15113.91</td>\n",
       "      <td>20069.61</td>\n",
       "      <td>14215.69</td>\n",
       "      <td>15483.34</td>\n",
       "      <td>14501.67</td>\n",
       "      <td>15726.42</td>\n",
       "      <td>10741.14</td>\n",
       "      <td>12529.97</td>\n",
       "      <td>9718.47</td>\n",
       "      <td>11660.70</td>\n",
       "      <td>7488.56</td>\n",
       "      <td>12062.99</td>\n",
       "      <td>10739.29</td>\n",
       "      <td>15476.25</td>\n",
       "      <td>10541.00</td>\n",
       "      <td>15268.05</td>\n",
       "      <td>12319.65</td>\n",
       "      <td>17135.63</td>\n",
       "      <td>14093.85</td>\n",
       "      <td>18998.54</td>\n",
       "      <td>15863.61</td>\n",
       "      <td>20856.79</td>\n",
       "      <td>17628.95</td>\n",
       "      <td>22710.40</td>\n",
       "      <td>16328.32</td>\n",
       "      <td>21344.74</td>\n",
       "      <td>18092.50</td>\n",
       "      <td>18778.62</td>\n",
       "      <td>15654.69</td>\n",
       "      <td>20637.42</td>\n",
       "      <td>17420.55</td>\n",
       "      <td>18207.47</td>\n",
       "      <td>17498.22</td>\n",
       "      <td>22573.13</td>\n",
       "      <td>16218.50</td>\n",
       "      <td>21229.42</td>\n",
       "      <td>15143.54</td>\n",
       "      <td>16272.01</td>\n",
       "      <td>11177.61</td>\n",
       "      <td>15936.49</td>\n",
       "      <td>12954.67</td>\n",
       "      <td>17802.40</td>\n",
       "      <td>17052.64</td>\n",
       "      <td>17894.74</td>\n",
       "      <td>12475.79</td>\n",
       "      <td>14004.42</td>\n",
       "      <td>9363.54</td>\n",
       "    </tr>\n",
       "    <tr>\n",
       "      <th>2</th>\n",
       "      <td>24</td>\n",
       "      <td>f</td>\n",
       "      <td>hong kong</td>\n",
       "      <td>no</td>\n",
       "      <td>single</td>\n",
       "      <td>personal</td>\n",
       "      <td>part time</td>\n",
       "      <td>yes</td>\n",
       "      <td>retail</td>\n",
       "      <td>secondary</td>\n",
       "      <td>junior</td>\n",
       "      <td>11298.06</td>\n",
       "      <td>7456.7196</td>\n",
       "      <td>3355.52382</td>\n",
       "      <td>yes</td>\n",
       "      <td>yes</td>\n",
       "      <td>503.33</td>\n",
       "      <td>no</td>\n",
       "      <td>0.0</td>\n",
       "      <td>0.0</td>\n",
       "      <td>15833.11</td>\n",
       "      <td>24454.32</td>\n",
       "      <td>16476.37</td>\n",
       "      <td>25129.74</td>\n",
       "      <td>17016.71</td>\n",
       "      <td>25697.10</td>\n",
       "      <td>20746.33</td>\n",
       "      <td>29613.20</td>\n",
       "      <td>24466.63</td>\n",
       "      <td>33519.52</td>\n",
       "      <td>28177.63</td>\n",
       "      <td>30289.20</td>\n",
       "      <td>25108.83</td>\n",
       "      <td>34193.83</td>\n",
       "      <td>24267.98</td>\n",
       "      <td>26965.99</td>\n",
       "      <td>18485.71</td>\n",
       "      <td>22051.07</td>\n",
       "      <td>17282.61</td>\n",
       "      <td>25976.30</td>\n",
       "      <td>24329.19</td>\n",
       "      <td>33375.21</td>\n",
       "      <td>28040.54</td>\n",
       "      <td>37272.12</td>\n",
       "      <td>26730.61</td>\n",
       "      <td>29059.23</td>\n",
       "      <td>23940.36</td>\n",
       "      <td>32966.93</td>\n",
       "      <td>32018.88</td>\n",
       "      <td>33554.26</td>\n",
       "      <td>28210.64</td>\n",
       "      <td>30317.26</td>\n",
       "      <td>21166.72</td>\n",
       "      <td>30054.61</td>\n",
       "      <td>28815.33</td>\n",
       "      <td>30831.24</td>\n",
       "      <td>25623.77</td>\n",
       "      <td>34734.51</td>\n",
       "      <td>33963.22</td>\n",
       "      <td>35206.95</td>\n",
       "      <td>25078.48</td>\n",
       "      <td>27654.92</td>\n",
       "      <td>19036.85</td>\n",
       "      <td>22519.53</td>\n",
       "      <td>20526.74</td>\n",
       "      <td>23785.94</td>\n",
       "      <td>18930.73</td>\n",
       "      <td>27706.82</td>\n",
       "      <td>19078.37</td>\n",
       "    </tr>\n",
       "    <tr>\n",
       "      <th>3</th>\n",
       "      <td>23</td>\n",
       "      <td>f</td>\n",
       "      <td>china</td>\n",
       "      <td>no</td>\n",
       "      <td>single</td>\n",
       "      <td>personal</td>\n",
       "      <td>no</td>\n",
       "      <td>no</td>\n",
       "      <td>unemployed</td>\n",
       "      <td>secondary</td>\n",
       "      <td>unemployed</td>\n",
       "      <td>0.00</td>\n",
       "      <td>4000.0000</td>\n",
       "      <td>800.00000</td>\n",
       "      <td>no</td>\n",
       "      <td>yes</td>\n",
       "      <td>0.00</td>\n",
       "      <td>no</td>\n",
       "      <td>0.0</td>\n",
       "      <td>0.0</td>\n",
       "      <td>14764.79</td>\n",
       "      <td>15950.07</td>\n",
       "      <td>14392.57</td>\n",
       "      <td>19312.20</td>\n",
       "      <td>14809.76</td>\n",
       "      <td>19750.25</td>\n",
       "      <td>20845.28</td>\n",
       "      <td>21118.49</td>\n",
       "      <td>22350.34</td>\n",
       "      <td>22397.79</td>\n",
       "      <td>17278.23</td>\n",
       "      <td>18086.50</td>\n",
       "      <td>16422.18</td>\n",
       "      <td>21443.29</td>\n",
       "      <td>19611.13</td>\n",
       "      <td>20069.46</td>\n",
       "      <td>15415.57</td>\n",
       "      <td>20386.35</td>\n",
       "      <td>18607.03</td>\n",
       "      <td>23737.38</td>\n",
       "      <td>21790.51</td>\n",
       "      <td>27080.04</td>\n",
       "      <td>21024.03</td>\n",
       "      <td>26275.23</td>\n",
       "      <td>24201.47</td>\n",
       "      <td>29611.54</td>\n",
       "      <td>27370.96</td>\n",
       "      <td>26665.32</td>\n",
       "      <td>20692.26</td>\n",
       "      <td>20988.42</td>\n",
       "      <td>16150.74</td>\n",
       "      <td>21158.28</td>\n",
       "      <td>19340.37</td>\n",
       "      <td>19839.31</td>\n",
       "      <td>15231.45</td>\n",
       "      <td>16346.73</td>\n",
       "      <td>14769.39</td>\n",
       "      <td>15953.98</td>\n",
       "      <td>14396.28</td>\n",
       "      <td>15636.84</td>\n",
       "      <td>14095.00</td>\n",
       "      <td>18999.75</td>\n",
       "      <td>17289.76</td>\n",
       "      <td>18096.30</td>\n",
       "      <td>19025.93</td>\n",
       "      <td>19572.04</td>\n",
       "      <td>15017.63</td>\n",
       "      <td>19968.51</td>\n",
       "      <td>15334.81</td>\n",
       "    </tr>\n",
       "    <tr>\n",
       "      <th>4</th>\n",
       "      <td>24</td>\n",
       "      <td>m</td>\n",
       "      <td>other asian</td>\n",
       "      <td>yes</td>\n",
       "      <td>single</td>\n",
       "      <td>personal</td>\n",
       "      <td>no</td>\n",
       "      <td>no</td>\n",
       "      <td>unemployed</td>\n",
       "      <td>secondary</td>\n",
       "      <td>unemployed</td>\n",
       "      <td>0.00</td>\n",
       "      <td>4000.0000</td>\n",
       "      <td>2000.00000</td>\n",
       "      <td>no</td>\n",
       "      <td>yes</td>\n",
       "      <td>0.00</td>\n",
       "      <td>no</td>\n",
       "      <td>0.0</td>\n",
       "      <td>0.0</td>\n",
       "      <td>9448.34</td>\n",
       "      <td>14120.76</td>\n",
       "      <td>13332.84</td>\n",
       "      <td>14732.91</td>\n",
       "      <td>10186.33</td>\n",
       "      <td>14895.65</td>\n",
       "      <td>12250.87</td>\n",
       "      <td>13813.24</td>\n",
       "      <td>11222.58</td>\n",
       "      <td>15983.71</td>\n",
       "      <td>15382.08</td>\n",
       "      <td>20351.18</td>\n",
       "      <td>14680.94</td>\n",
       "      <td>19614.99</td>\n",
       "      <td>14091.99</td>\n",
       "      <td>15378.19</td>\n",
       "      <td>10702.55</td>\n",
       "      <td>15437.68</td>\n",
       "      <td>10750.14</td>\n",
       "      <td>15487.65</td>\n",
       "      <td>12813.27</td>\n",
       "      <td>14291.28</td>\n",
       "      <td>11676.72</td>\n",
       "      <td>16460.56</td>\n",
       "      <td>13737.53</td>\n",
       "      <td>18624.41</td>\n",
       "      <td>15793.19</td>\n",
       "      <td>20782.85</td>\n",
       "      <td>20661.13</td>\n",
       "      <td>25894.19</td>\n",
       "      <td>19115.35</td>\n",
       "      <td>19648.05</td>\n",
       "      <td>16765.65</td>\n",
       "      <td>17650.80</td>\n",
       "      <td>12520.64</td>\n",
       "      <td>17346.67</td>\n",
       "      <td>14579.34</td>\n",
       "      <td>19508.31</td>\n",
       "      <td>19259.14</td>\n",
       "      <td>24422.10</td>\n",
       "      <td>24664.31</td>\n",
       "      <td>30097.53</td>\n",
       "      <td>26692.65</td>\n",
       "      <td>32227.28</td>\n",
       "      <td>24181.82</td>\n",
       "      <td>29590.91</td>\n",
       "      <td>26211.36</td>\n",
       "      <td>25679.66</td>\n",
       "      <td>22495.68</td>\n",
       "    </tr>\n",
       "  </tbody>\n",
       "</table>\n",
       "</div>"
      ],
      "text/plain": [
       "   age gender  nationality expat  status account tier employment joint  \\\n",
       "0   23      m    hong kong    no  single     personal  part time   yes   \n",
       "1   22      f    hong kong    no  single     personal         no    no   \n",
       "2   24      f    hong kong    no  single     personal  part time   yes   \n",
       "3   23      f        china    no  single     personal         no    no   \n",
       "4   24      m  other asian   yes  single     personal         no    no   \n",
       "\n",
       "     industry  education job position    salary  monthly deposit avg  \\\n",
       "0   education  secondary  entry-level  11874.98           10093.7330   \n",
       "1  unemployed   tertiary   unemployed      0.00            4000.0000   \n",
       "2      retail  secondary       junior  11298.06            7456.7196   \n",
       "3  unemployed  secondary   unemployed      0.00            4000.0000   \n",
       "4  unemployed  secondary   unemployed      0.00            4000.0000   \n",
       "\n",
       "   monthly expense avg credit card debit card  credit card expense payme  \\\n",
       "0           2018.74660          no        yes                 0.00    no   \n",
       "1           2000.00000         yes        yes               300.00    no   \n",
       "2           3355.52382         yes        yes               503.33    no   \n",
       "3            800.00000          no        yes                 0.00    no   \n",
       "4           2000.00000          no        yes                 0.00    no   \n",
       "\n",
       "   payme deposit  payme expense  feb 10, 2017  feb 25, 2017  mar 10, 2017  \\\n",
       "0            0.0            0.0      16071.23      22240.22      22243.62   \n",
       "1            0.0            0.0      11276.11      16039.92      15113.91   \n",
       "2            0.0            0.0      15833.11      24454.32      16476.37   \n",
       "3            0.0            0.0      14764.79      15950.07      14392.57   \n",
       "4            0.0            0.0       9448.34      14120.76      13332.84   \n",
       "\n",
       "   mar 25, 2017  apr 10, 2017  apr 25, 2017  may 10, 2017  may 25, 2017  \\\n",
       "0      33954.22      25548.38      37424.22      33635.20      45915.38   \n",
       "1      20069.61      14215.69      15483.34      14501.67      15726.42   \n",
       "2      25129.74      17016.71      25697.10      20746.33      29613.20   \n",
       "3      19312.20      14809.76      19750.25      20845.28      21118.49   \n",
       "4      14732.91      10186.33      14895.65      12250.87      13813.24   \n",
       "\n",
       "   jun 10, 2017  jun 25, 2017  jul 10, 2017  jul 25, 2017  aug 10, 2017  \\\n",
       "0      48286.30      61299.03      65208.31      64006.74      58888.59   \n",
       "1      10741.14      12529.97       9718.47      11660.70       7488.56   \n",
       "2      24466.63      33519.52      28177.63      30289.20      25108.83   \n",
       "3      22350.34      22397.79      17278.23      18086.50      16422.18   \n",
       "4      11222.58      15983.71      15382.08      20351.18      14680.94   \n",
       "\n",
       "   aug 25, 2017  sep 10, 2017  sep 25, 2017  oct 10, 2017  oct 25, 2017  \\\n",
       "0      72431.44      66892.06      65437.92      69761.09      83847.56   \n",
       "1      12062.99      10739.29      15476.25      10541.00      15268.05   \n",
       "2      34193.83      24267.98      26965.99      18485.71      22051.07   \n",
       "3      21443.29      19611.13      20069.46      15415.57      20386.35   \n",
       "4      19614.99      14091.99      15378.19      10702.55      15437.68   \n",
       "\n",
       "   nov 10, 2017  nov 25, 2017  dec 10, 2017  dec 25, 2017  jan 10, 2018  \\\n",
       "0      65463.05      79334.62      73450.08      71012.24      65543.82   \n",
       "1      12319.65      17135.63      14093.85      18998.54      15863.61   \n",
       "2      17282.61      25976.30      24329.19      33375.21      28040.54   \n",
       "3      18607.03      23737.38      21790.51      27080.04      21024.03   \n",
       "4      10750.14      15487.65      12813.27      14291.28      11676.72   \n",
       "\n",
       "   jan 25, 2018  feb 10, 2018  feb 25, 2018  mar 10, 2018  mar 25, 2018  \\\n",
       "0      79419.43      73530.65      71080.73      65608.88      64347.22   \n",
       "1      20856.79      17628.95      22710.40      16328.32      21344.74   \n",
       "2      37272.12      26730.61      29059.23      23940.36      32966.93   \n",
       "3      26275.23      24201.47      29611.54      27370.96      26665.32   \n",
       "4      16460.56      13737.53      18624.41      15793.19      20782.85   \n",
       "\n",
       "   apr 10, 2018  apr 25, 2018  may 10, 2018  may 25, 2018  jun 10, 2018  \\\n",
       "0      49862.78      62954.34      57888.81      71381.67      76299.22   \n",
       "1      18092.50      18778.62      15654.69      20637.42      17420.55   \n",
       "2      32018.88      33554.26      28210.64      30317.26      21166.72   \n",
       "3      20692.26      20988.42      16150.74      21158.28      19340.37   \n",
       "4      20661.13      25894.19      19115.35      19648.05      16765.65   \n",
       "\n",
       "   jun 25, 2018  jul 10, 2018  jul 25, 2018  aug 10, 2018  aug 25, 2018  \\\n",
       "0      73434.01      67844.50      81835.14      87798.03     102786.35   \n",
       "1      18207.47      17498.22      22573.13      16218.50      21229.42   \n",
       "2      30054.61      28815.33      30831.24      25623.77      34734.51   \n",
       "3      19839.31      15231.45      16346.73      14769.39      15953.98   \n",
       "4      17650.80      12520.64      17346.67      14579.34      19508.31   \n",
       "\n",
       "   sep 10, 2018  sep 25, 2018  oct 10, 2018  oct 25, 2018  nov 10, 2018  \\\n",
       "0      95729.22      89949.51      83534.23      79583.77      62052.02   \n",
       "1      15143.54      16272.01      11177.61      15936.49      12954.67   \n",
       "2      33963.22      35206.95      25078.48      27654.92      19036.85   \n",
       "3      14396.28      15636.84      14095.00      18999.75      17289.76   \n",
       "4      19259.14      24422.10      24664.31      30097.53      26692.65   \n",
       "\n",
       "   nov 25, 2018  dec 10, 2018  dec 25, 2018  jan 10, 2019  jan 25, 2019  \\\n",
       "0      75753.04      70047.58      68120.12      62796.30      76534.53   \n",
       "1      17802.40      17052.64      17894.74      12475.79      14004.42   \n",
       "2      22519.53      20526.74      23785.94      18930.73      27706.82   \n",
       "3      18096.30      19025.93      19572.04      15017.63      19968.51   \n",
       "4      32227.28      24181.82      29590.91      26211.36      25679.66   \n",
       "\n",
       "   feb 10, 2019  \n",
       "0      59612.63  \n",
       "1       9363.54  \n",
       "2      19078.37  \n",
       "3      15334.81  \n",
       "4      22495.68  "
      ]
     },
     "execution_count": 196,
     "metadata": {},
     "output_type": "execute_result"
    }
   ],
   "source": [
    "young_adults.head()"
   ]
  },
  {
   "cell_type": "code",
   "execution_count": 198,
   "metadata": {},
   "outputs": [
    {
     "data": {
      "text/html": [
       "<div>\n",
       "<style scoped>\n",
       "    .dataframe tbody tr th:only-of-type {\n",
       "        vertical-align: middle;\n",
       "    }\n",
       "\n",
       "    .dataframe tbody tr th {\n",
       "        vertical-align: top;\n",
       "    }\n",
       "\n",
       "    .dataframe thead th {\n",
       "        text-align: right;\n",
       "    }\n",
       "</style>\n",
       "<table border=\"1\" class=\"dataframe\">\n",
       "  <thead>\n",
       "    <tr style=\"text-align: right;\">\n",
       "      <th></th>\n",
       "      <th>age</th>\n",
       "      <th>gender</th>\n",
       "      <th>nationality</th>\n",
       "      <th>expat</th>\n",
       "      <th>status</th>\n",
       "      <th>account tier</th>\n",
       "      <th>employment</th>\n",
       "      <th>joint</th>\n",
       "      <th>industry</th>\n",
       "      <th>education</th>\n",
       "      <th>job position</th>\n",
       "      <th>salary</th>\n",
       "      <th>monthly deposit avg</th>\n",
       "      <th>monthly expense avg</th>\n",
       "      <th>credit card</th>\n",
       "      <th>debit card</th>\n",
       "      <th>credit card expense</th>\n",
       "      <th>payme</th>\n",
       "      <th>payme deposit</th>\n",
       "      <th>payme expense</th>\n",
       "      <th>feb 10, 2017</th>\n",
       "      <th>feb 25, 2017</th>\n",
       "      <th>mar 10, 2017</th>\n",
       "      <th>mar 25, 2017</th>\n",
       "      <th>apr 10, 2017</th>\n",
       "      <th>apr 25, 2017</th>\n",
       "      <th>may 10, 2017</th>\n",
       "      <th>may 25, 2017</th>\n",
       "      <th>jun 10, 2017</th>\n",
       "      <th>jun 25, 2017</th>\n",
       "      <th>jul 10, 2017</th>\n",
       "      <th>jul 25, 2017</th>\n",
       "      <th>aug 10, 2017</th>\n",
       "      <th>aug 25, 2017</th>\n",
       "      <th>sep 10, 2017</th>\n",
       "      <th>sep 25, 2017</th>\n",
       "      <th>oct 10, 2017</th>\n",
       "      <th>oct 25, 2017</th>\n",
       "      <th>nov 10, 2017</th>\n",
       "      <th>nov 25, 2017</th>\n",
       "      <th>dec 10, 2017</th>\n",
       "      <th>dec 25, 2017</th>\n",
       "      <th>jan 10, 2018</th>\n",
       "      <th>jan 25, 2018</th>\n",
       "      <th>feb 10, 2018</th>\n",
       "      <th>feb 25, 2018</th>\n",
       "      <th>mar 10, 2018</th>\n",
       "      <th>mar 25, 2018</th>\n",
       "      <th>apr 10, 2018</th>\n",
       "      <th>apr 25, 2018</th>\n",
       "      <th>may 10, 2018</th>\n",
       "      <th>may 25, 2018</th>\n",
       "      <th>jun 10, 2018</th>\n",
       "      <th>jun 25, 2018</th>\n",
       "      <th>jul 10, 2018</th>\n",
       "      <th>jul 25, 2018</th>\n",
       "      <th>aug 10, 2018</th>\n",
       "      <th>aug 25, 2018</th>\n",
       "      <th>sep 10, 2018</th>\n",
       "      <th>sep 25, 2018</th>\n",
       "      <th>oct 10, 2018</th>\n",
       "      <th>oct 25, 2018</th>\n",
       "      <th>nov 10, 2018</th>\n",
       "      <th>nov 25, 2018</th>\n",
       "      <th>dec 10, 2018</th>\n",
       "      <th>dec 25, 2018</th>\n",
       "      <th>jan 10, 2019</th>\n",
       "      <th>jan 25, 2019</th>\n",
       "      <th>feb 10, 2019</th>\n",
       "    </tr>\n",
       "  </thead>\n",
       "  <tbody>\n",
       "    <tr>\n",
       "      <th>0</th>\n",
       "      <td>16</td>\n",
       "      <td>m</td>\n",
       "      <td>hong kong</td>\n",
       "      <td>no</td>\n",
       "      <td>single</td>\n",
       "      <td>personal</td>\n",
       "      <td>no</td>\n",
       "      <td>yes</td>\n",
       "      <td>unemployed</td>\n",
       "      <td>secondary</td>\n",
       "      <td>unemployed</td>\n",
       "      <td>0.00</td>\n",
       "      <td>4000.00</td>\n",
       "      <td>2600.00</td>\n",
       "      <td>no</td>\n",
       "      <td>yes</td>\n",
       "      <td>0.0</td>\n",
       "      <td>yes</td>\n",
       "      <td>296.38</td>\n",
       "      <td>502.0</td>\n",
       "      <td>7106.07</td>\n",
       "      <td>11972.57</td>\n",
       "      <td>9314.10</td>\n",
       "      <td>14291.00</td>\n",
       "      <td>9510.65</td>\n",
       "      <td>14497.38</td>\n",
       "      <td>11965.15</td>\n",
       "      <td>13822.30</td>\n",
       "      <td>9112.25</td>\n",
       "      <td>14079.06</td>\n",
       "      <td>9330.50</td>\n",
       "      <td>14308.22</td>\n",
       "      <td>9525.29</td>\n",
       "      <td>14512.75</td>\n",
       "      <td>11981.29</td>\n",
       "      <td>13836.02</td>\n",
       "      <td>11270.72</td>\n",
       "      <td>13232.03</td>\n",
       "      <td>8610.53</td>\n",
       "      <td>10970.87</td>\n",
       "      <td>6688.54</td>\n",
       "      <td>11534.17</td>\n",
       "      <td>8853.78</td>\n",
       "      <td>11177.64</td>\n",
       "      <td>8479.42</td>\n",
       "      <td>13414.59</td>\n",
       "      <td>8765.70</td>\n",
       "      <td>13715.18</td>\n",
       "      <td>11143.84</td>\n",
       "      <td>13124.19</td>\n",
       "      <td>8518.86</td>\n",
       "      <td>13456.00</td>\n",
       "      <td>8800.90</td>\n",
       "      <td>13752.14</td>\n",
       "      <td>11182.65</td>\n",
       "      <td>16252.98</td>\n",
       "      <td>11178.33</td>\n",
       "      <td>13153.50</td>\n",
       "      <td>8543.78</td>\n",
       "      <td>13482.17</td>\n",
       "      <td>10899.18</td>\n",
       "      <td>15955.34</td>\n",
       "      <td>10925.34</td>\n",
       "      <td>12938.46</td>\n",
       "      <td>10328.28</td>\n",
       "      <td>12430.96</td>\n",
       "      <td>9795.41</td>\n",
       "      <td>11978.02</td>\n",
       "      <td>9319.82</td>\n",
       "    </tr>\n",
       "    <tr>\n",
       "      <th>1</th>\n",
       "      <td>17</td>\n",
       "      <td>f</td>\n",
       "      <td>china</td>\n",
       "      <td>no</td>\n",
       "      <td>single</td>\n",
       "      <td>personal</td>\n",
       "      <td>full time</td>\n",
       "      <td>yes</td>\n",
       "      <td>retail</td>\n",
       "      <td>secondary</td>\n",
       "      <td>entry-level</td>\n",
       "      <td>5157.22</td>\n",
       "      <td>7157.22</td>\n",
       "      <td>5725.78</td>\n",
       "      <td>no</td>\n",
       "      <td>yes</td>\n",
       "      <td>0.0</td>\n",
       "      <td>yes</td>\n",
       "      <td>271.17</td>\n",
       "      <td>416.0</td>\n",
       "      <td>9540.45</td>\n",
       "      <td>17817.28</td>\n",
       "      <td>12259.28</td>\n",
       "      <td>20672.05</td>\n",
       "      <td>15256.78</td>\n",
       "      <td>23819.43</td>\n",
       "      <td>15026.00</td>\n",
       "      <td>23577.11</td>\n",
       "      <td>14820.03</td>\n",
       "      <td>23360.84</td>\n",
       "      <td>14636.20</td>\n",
       "      <td>18754.90</td>\n",
       "      <td>10721.15</td>\n",
       "      <td>15427.11</td>\n",
       "      <td>7892.53</td>\n",
       "      <td>16086.97</td>\n",
       "      <td>8453.41</td>\n",
       "      <td>13499.53</td>\n",
       "      <td>6254.09</td>\n",
       "      <td>14366.60</td>\n",
       "      <td>8636.06</td>\n",
       "      <td>13654.78</td>\n",
       "      <td>7888.65</td>\n",
       "      <td>13019.48</td>\n",
       "      <td>7221.58</td>\n",
       "      <td>15382.47</td>\n",
       "      <td>7854.59</td>\n",
       "      <td>12990.53</td>\n",
       "      <td>7191.19</td>\n",
       "      <td>15350.56</td>\n",
       "      <td>7827.46</td>\n",
       "      <td>12967.47</td>\n",
       "      <td>7166.97</td>\n",
       "      <td>15325.13</td>\n",
       "      <td>7805.85</td>\n",
       "      <td>15995.95</td>\n",
       "      <td>8376.04</td>\n",
       "      <td>13433.77</td>\n",
       "      <td>6198.19</td>\n",
       "      <td>11582.59</td>\n",
       "      <td>5712.85</td>\n",
       "      <td>11170.05</td>\n",
       "      <td>5279.68</td>\n",
       "      <td>10801.86</td>\n",
       "      <td>3961.07</td>\n",
       "      <td>9681.04</td>\n",
       "      <td>3008.37</td>\n",
       "      <td>8871.25</td>\n",
       "      <td>2320.05</td>\n",
       "    </tr>\n",
       "    <tr>\n",
       "      <th>2</th>\n",
       "      <td>17</td>\n",
       "      <td>f</td>\n",
       "      <td>hong kong</td>\n",
       "      <td>no</td>\n",
       "      <td>single</td>\n",
       "      <td>personal</td>\n",
       "      <td>no</td>\n",
       "      <td>yes</td>\n",
       "      <td>unemployed</td>\n",
       "      <td>secondary</td>\n",
       "      <td>unemployed</td>\n",
       "      <td>0.00</td>\n",
       "      <td>4000.00</td>\n",
       "      <td>1600.00</td>\n",
       "      <td>no</td>\n",
       "      <td>yes</td>\n",
       "      <td>0.0</td>\n",
       "      <td>yes</td>\n",
       "      <td>269.60</td>\n",
       "      <td>607.0</td>\n",
       "      <td>7850.73</td>\n",
       "      <td>12726.35</td>\n",
       "      <td>8941.45</td>\n",
       "      <td>11229.39</td>\n",
       "      <td>9473.51</td>\n",
       "      <td>14430.27</td>\n",
       "      <td>12834.43</td>\n",
       "      <td>17959.23</td>\n",
       "      <td>16539.84</td>\n",
       "      <td>17688.02</td>\n",
       "      <td>16255.07</td>\n",
       "      <td>21550.90</td>\n",
       "      <td>16442.32</td>\n",
       "      <td>17605.13</td>\n",
       "      <td>13088.41</td>\n",
       "      <td>18225.91</td>\n",
       "      <td>16819.86</td>\n",
       "      <td>22143.93</td>\n",
       "      <td>16946.39</td>\n",
       "      <td>22276.79</td>\n",
       "      <td>21073.28</td>\n",
       "      <td>21541.45</td>\n",
       "      <td>20301.17</td>\n",
       "      <td>25799.31</td>\n",
       "      <td>20053.46</td>\n",
       "      <td>20674.60</td>\n",
       "      <td>19390.98</td>\n",
       "      <td>20111.49</td>\n",
       "      <td>15218.82</td>\n",
       "      <td>20462.84</td>\n",
       "      <td>15517.46</td>\n",
       "      <td>16819.00</td>\n",
       "      <td>12420.20</td>\n",
       "      <td>17524.29</td>\n",
       "      <td>16083.15</td>\n",
       "      <td>17299.84</td>\n",
       "      <td>12828.91</td>\n",
       "      <td>17953.44</td>\n",
       "      <td>13384.47</td>\n",
       "      <td>15005.96</td>\n",
       "      <td>10879.12</td>\n",
       "      <td>12876.41</td>\n",
       "      <td>11202.88</td>\n",
       "      <td>16246.10</td>\n",
       "      <td>14741.06</td>\n",
       "      <td>16159.06</td>\n",
       "      <td>14649.66</td>\n",
       "      <td>19865.22</td>\n",
       "      <td>15009.49</td>\n",
       "    </tr>\n",
       "    <tr>\n",
       "      <th>3</th>\n",
       "      <td>18</td>\n",
       "      <td>f</td>\n",
       "      <td>hong kong</td>\n",
       "      <td>no</td>\n",
       "      <td>single</td>\n",
       "      <td>personal</td>\n",
       "      <td>no</td>\n",
       "      <td>yes</td>\n",
       "      <td>unemployed</td>\n",
       "      <td>secondary</td>\n",
       "      <td>unemployed</td>\n",
       "      <td>0.00</td>\n",
       "      <td>4000.00</td>\n",
       "      <td>1600.00</td>\n",
       "      <td>yes</td>\n",
       "      <td>yes</td>\n",
       "      <td>560.0</td>\n",
       "      <td>yes</td>\n",
       "      <td>140.67</td>\n",
       "      <td>412.0</td>\n",
       "      <td>8723.34</td>\n",
       "      <td>10934.41</td>\n",
       "      <td>8780.53</td>\n",
       "      <td>10983.02</td>\n",
       "      <td>7149.37</td>\n",
       "      <td>11854.54</td>\n",
       "      <td>9746.67</td>\n",
       "      <td>14581.71</td>\n",
       "      <td>12610.20</td>\n",
       "      <td>17588.41</td>\n",
       "      <td>15767.23</td>\n",
       "      <td>20903.30</td>\n",
       "      <td>15581.60</td>\n",
       "      <td>20708.38</td>\n",
       "      <td>15415.92</td>\n",
       "      <td>20534.42</td>\n",
       "      <td>15268.06</td>\n",
       "      <td>20379.17</td>\n",
       "      <td>15136.09</td>\n",
       "      <td>16385.25</td>\n",
       "      <td>11741.26</td>\n",
       "      <td>13499.64</td>\n",
       "      <td>11474.02</td>\n",
       "      <td>13272.49</td>\n",
       "      <td>9095.42</td>\n",
       "      <td>11250.68</td>\n",
       "      <td>7376.88</td>\n",
       "      <td>12093.43</td>\n",
       "      <td>9997.50</td>\n",
       "      <td>14845.08</td>\n",
       "      <td>10432.12</td>\n",
       "      <td>15301.43</td>\n",
       "      <td>10820.02</td>\n",
       "      <td>15708.72</td>\n",
       "      <td>13793.56</td>\n",
       "      <td>15244.10</td>\n",
       "      <td>10771.28</td>\n",
       "      <td>12675.16</td>\n",
       "      <td>10608.32</td>\n",
       "      <td>15486.44</td>\n",
       "      <td>10977.27</td>\n",
       "      <td>12850.25</td>\n",
       "      <td>8736.51</td>\n",
       "      <td>13521.04</td>\n",
       "      <td>9306.68</td>\n",
       "      <td>11430.25</td>\n",
       "      <td>7529.51</td>\n",
       "      <td>12253.69</td>\n",
       "      <td>10165.77</td>\n",
       "    </tr>\n",
       "    <tr>\n",
       "      <th>4</th>\n",
       "      <td>15</td>\n",
       "      <td>f</td>\n",
       "      <td>hong kong</td>\n",
       "      <td>no</td>\n",
       "      <td>single</td>\n",
       "      <td>personal</td>\n",
       "      <td>no</td>\n",
       "      <td>yes</td>\n",
       "      <td>unemployed</td>\n",
       "      <td>secondary</td>\n",
       "      <td>unemployed</td>\n",
       "      <td>0.00</td>\n",
       "      <td>3000.00</td>\n",
       "      <td>1200.00</td>\n",
       "      <td>no</td>\n",
       "      <td>yes</td>\n",
       "      <td>0.0</td>\n",
       "      <td>no</td>\n",
       "      <td>0.00</td>\n",
       "      <td>0.0</td>\n",
       "      <td>7578.45</td>\n",
       "      <td>11107.37</td>\n",
       "      <td>8421.26</td>\n",
       "      <td>9708.07</td>\n",
       "      <td>7231.86</td>\n",
       "      <td>10743.45</td>\n",
       "      <td>8111.93</td>\n",
       "      <td>11667.53</td>\n",
       "      <td>8897.40</td>\n",
       "      <td>12492.27</td>\n",
       "      <td>9598.43</td>\n",
       "      <td>13228.35</td>\n",
       "      <td>12629.77</td>\n",
       "      <td>13285.30</td>\n",
       "      <td>12689.56</td>\n",
       "      <td>16474.04</td>\n",
       "      <td>16037.74</td>\n",
       "      <td>16182.08</td>\n",
       "      <td>15731.18</td>\n",
       "      <td>19667.74</td>\n",
       "      <td>15697.58</td>\n",
       "      <td>19632.46</td>\n",
       "      <td>15667.59</td>\n",
       "      <td>19600.97</td>\n",
       "      <td>19321.02</td>\n",
       "      <td>18972.87</td>\n",
       "      <td>15106.94</td>\n",
       "      <td>15390.90</td>\n",
       "      <td>14900.44</td>\n",
       "      <td>15215.37</td>\n",
       "      <td>11913.06</td>\n",
       "      <td>12676.10</td>\n",
       "      <td>12049.90</td>\n",
       "      <td>15802.40</td>\n",
       "      <td>15332.52</td>\n",
       "      <td>15582.64</td>\n",
       "      <td>15101.77</td>\n",
       "      <td>19006.86</td>\n",
       "      <td>18697.20</td>\n",
       "      <td>18442.62</td>\n",
       "      <td>14656.23</td>\n",
       "      <td>15007.80</td>\n",
       "      <td>11736.63</td>\n",
       "      <td>15473.46</td>\n",
       "      <td>12132.44</td>\n",
       "      <td>15889.06</td>\n",
       "      <td>15423.51</td>\n",
       "      <td>15659.98</td>\n",
       "      <td>15182.98</td>\n",
       "    </tr>\n",
       "  </tbody>\n",
       "</table>\n",
       "</div>"
      ],
      "text/plain": [
       "   age gender nationality expat  status account tier employment joint  \\\n",
       "0   16      m   hong kong    no  single     personal         no   yes   \n",
       "1   17      f       china    no  single     personal  full time   yes   \n",
       "2   17      f   hong kong    no  single     personal         no   yes   \n",
       "3   18      f   hong kong    no  single     personal         no   yes   \n",
       "4   15      f   hong kong    no  single     personal         no   yes   \n",
       "\n",
       "     industry  education job position   salary  monthly deposit avg  \\\n",
       "0  unemployed  secondary   unemployed     0.00              4000.00   \n",
       "1      retail  secondary  entry-level  5157.22              7157.22   \n",
       "2  unemployed  secondary   unemployed     0.00              4000.00   \n",
       "3  unemployed  secondary   unemployed     0.00              4000.00   \n",
       "4  unemployed  secondary   unemployed     0.00              3000.00   \n",
       "\n",
       "   monthly expense avg credit card debit card  credit card expense payme  \\\n",
       "0              2600.00          no        yes                  0.0   yes   \n",
       "1              5725.78          no        yes                  0.0   yes   \n",
       "2              1600.00          no        yes                  0.0   yes   \n",
       "3              1600.00         yes        yes                560.0   yes   \n",
       "4              1200.00          no        yes                  0.0    no   \n",
       "\n",
       "   payme deposit  payme expense  feb 10, 2017  feb 25, 2017  mar 10, 2017  \\\n",
       "0         296.38          502.0       7106.07      11972.57       9314.10   \n",
       "1         271.17          416.0       9540.45      17817.28      12259.28   \n",
       "2         269.60          607.0       7850.73      12726.35       8941.45   \n",
       "3         140.67          412.0       8723.34      10934.41       8780.53   \n",
       "4           0.00            0.0       7578.45      11107.37       8421.26   \n",
       "\n",
       "   mar 25, 2017  apr 10, 2017  apr 25, 2017  may 10, 2017  may 25, 2017  \\\n",
       "0      14291.00       9510.65      14497.38      11965.15      13822.30   \n",
       "1      20672.05      15256.78      23819.43      15026.00      23577.11   \n",
       "2      11229.39       9473.51      14430.27      12834.43      17959.23   \n",
       "3      10983.02       7149.37      11854.54       9746.67      14581.71   \n",
       "4       9708.07       7231.86      10743.45       8111.93      11667.53   \n",
       "\n",
       "   jun 10, 2017  jun 25, 2017  jul 10, 2017  jul 25, 2017  aug 10, 2017  \\\n",
       "0       9112.25      14079.06       9330.50      14308.22       9525.29   \n",
       "1      14820.03      23360.84      14636.20      18754.90      10721.15   \n",
       "2      16539.84      17688.02      16255.07      21550.90      16442.32   \n",
       "3      12610.20      17588.41      15767.23      20903.30      15581.60   \n",
       "4       8897.40      12492.27       9598.43      13228.35      12629.77   \n",
       "\n",
       "   aug 25, 2017  sep 10, 2017  sep 25, 2017  oct 10, 2017  oct 25, 2017  \\\n",
       "0      14512.75      11981.29      13836.02      11270.72      13232.03   \n",
       "1      15427.11       7892.53      16086.97       8453.41      13499.53   \n",
       "2      17605.13      13088.41      18225.91      16819.86      22143.93   \n",
       "3      20708.38      15415.92      20534.42      15268.06      20379.17   \n",
       "4      13285.30      12689.56      16474.04      16037.74      16182.08   \n",
       "\n",
       "   nov 10, 2017  nov 25, 2017  dec 10, 2017  dec 25, 2017  jan 10, 2018  \\\n",
       "0       8610.53      10970.87       6688.54      11534.17       8853.78   \n",
       "1       6254.09      14366.60       8636.06      13654.78       7888.65   \n",
       "2      16946.39      22276.79      21073.28      21541.45      20301.17   \n",
       "3      15136.09      16385.25      11741.26      13499.64      11474.02   \n",
       "4      15731.18      19667.74      15697.58      19632.46      15667.59   \n",
       "\n",
       "   jan 25, 2018  feb 10, 2018  feb 25, 2018  mar 10, 2018  mar 25, 2018  \\\n",
       "0      11177.64       8479.42      13414.59       8765.70      13715.18   \n",
       "1      13019.48       7221.58      15382.47       7854.59      12990.53   \n",
       "2      25799.31      20053.46      20674.60      19390.98      20111.49   \n",
       "3      13272.49       9095.42      11250.68       7376.88      12093.43   \n",
       "4      19600.97      19321.02      18972.87      15106.94      15390.90   \n",
       "\n",
       "   apr 10, 2018  apr 25, 2018  may 10, 2018  may 25, 2018  jun 10, 2018  \\\n",
       "0      11143.84      13124.19       8518.86      13456.00       8800.90   \n",
       "1       7191.19      15350.56       7827.46      12967.47       7166.97   \n",
       "2      15218.82      20462.84      15517.46      16819.00      12420.20   \n",
       "3       9997.50      14845.08      10432.12      15301.43      10820.02   \n",
       "4      14900.44      15215.37      11913.06      12676.10      12049.90   \n",
       "\n",
       "   jun 25, 2018  jul 10, 2018  jul 25, 2018  aug 10, 2018  aug 25, 2018  \\\n",
       "0      13752.14      11182.65      16252.98      11178.33      13153.50   \n",
       "1      15325.13       7805.85      15995.95       8376.04      13433.77   \n",
       "2      17524.29      16083.15      17299.84      12828.91      17953.44   \n",
       "3      15708.72      13793.56      15244.10      10771.28      12675.16   \n",
       "4      15802.40      15332.52      15582.64      15101.77      19006.86   \n",
       "\n",
       "   sep 10, 2018  sep 25, 2018  oct 10, 2018  oct 25, 2018  nov 10, 2018  \\\n",
       "0       8543.78      13482.17      10899.18      15955.34      10925.34   \n",
       "1       6198.19      11582.59       5712.85      11170.05       5279.68   \n",
       "2      13384.47      15005.96      10879.12      12876.41      11202.88   \n",
       "3      10608.32      15486.44      10977.27      12850.25       8736.51   \n",
       "4      18697.20      18442.62      14656.23      15007.80      11736.63   \n",
       "\n",
       "   nov 25, 2018  dec 10, 2018  dec 25, 2018  jan 10, 2019  jan 25, 2019  \\\n",
       "0      12938.46      10328.28      12430.96       9795.41      11978.02   \n",
       "1      10801.86       3961.07       9681.04       3008.37       8871.25   \n",
       "2      16246.10      14741.06      16159.06      14649.66      19865.22   \n",
       "3      13521.04       9306.68      11430.25       7529.51      12253.69   \n",
       "4      15473.46      12132.44      15889.06      15423.51      15659.98   \n",
       "\n",
       "   feb 10, 2019  \n",
       "0       9319.82  \n",
       "1       2320.05  \n",
       "2      15009.49  \n",
       "3      10165.77  \n",
       "4      15182.98  "
      ]
     },
     "execution_count": 198,
     "metadata": {},
     "output_type": "execute_result"
    }
   ],
   "source": [
    "teens_df.head()"
   ]
  },
  {
   "cell_type": "code",
   "execution_count": 381,
   "metadata": {},
   "outputs": [],
   "source": [
    "mill_df = pd.concat([teens_df, young_adults], ignore_index=True)"
   ]
  },
  {
   "cell_type": "code",
   "execution_count": 200,
   "metadata": {},
   "outputs": [],
   "source": [
    "mill_df.to_csv('mill_df.csv', index=False)"
   ]
  },
  {
   "cell_type": "markdown",
   "metadata": {},
   "source": [
    "### middle class"
   ]
  },
  {
   "cell_type": "code",
   "execution_count": 201,
   "metadata": {},
   "outputs": [],
   "source": [
    "wc = pd.DataFrame(np.round(working_class), columns=['age'])"
   ]
  },
  {
   "cell_type": "code",
   "execution_count": 202,
   "metadata": {},
   "outputs": [
    {
     "data": {
      "text/plain": [
       "(2074628, 1)"
      ]
     },
     "execution_count": 202,
     "metadata": {},
     "output_type": "execute_result"
    }
   ],
   "source": [
    "wc.shape"
   ]
  },
  {
   "cell_type": "code",
   "execution_count": 203,
   "metadata": {},
   "outputs": [],
   "source": [
    "wc['gender'] = pd.DataFrame(np.random.choice(['m','f'], size=2074628, p=[.46, .54]))"
   ]
  },
  {
   "cell_type": "code",
   "execution_count": 204,
   "metadata": {},
   "outputs": [],
   "source": [
    "wc['nationality'] = pd.DataFrame(np.random.choice(['hong kong', 'china', 'other asian', 'white'], size=2074628, p=[.65,.2,.05,.1]))"
   ]
  },
  {
   "cell_type": "code",
   "execution_count": 206,
   "metadata": {},
   "outputs": [],
   "source": [
    "wc['expat'] = wc['nationality'].apply(lambda x: 'no' if (x=='hong kong') | (x=='china') else 'no')"
   ]
  },
  {
   "cell_type": "code",
   "execution_count": 207,
   "metadata": {},
   "outputs": [],
   "source": [
    "wc['status'] = pd.DataFrame(np.random.choice(['single', 'married','divorce', 'widower'], size=2074628, p=[.3,.50,.15,.05]))"
   ]
  },
  {
   "cell_type": "code",
   "execution_count": 208,
   "metadata": {},
   "outputs": [],
   "source": [
    "def account(col):\n",
    "    \"\"\"\n",
    "    middle age accounts\n",
    "    \"\"\"\n",
    "    if col < 35:\n",
    "        return np.random.choice(['personal', 'advance', 'premier'], p=[.6,.35,.05])    \n",
    "    elif col > 50:\n",
    "        return np.random.choice(['personal', 'advance', 'premier'], p=[.35,.45,.2])\n",
    "    else:\n",
    "        return np.random.choice(['personal', 'advance', 'premier'], p=[.5,.4,.1])\n",
    "        "
   ]
  },
  {
   "cell_type": "code",
   "execution_count": 209,
   "metadata": {},
   "outputs": [],
   "source": [
    "wc['account tier'] = wc['age'].apply(account)"
   ]
  },
  {
   "cell_type": "code",
   "execution_count": 210,
   "metadata": {},
   "outputs": [],
   "source": [
    "def employment(col):\n",
    "    \"\"\"\n",
    "    middle age employment\n",
    "    \"\"\"\n",
    "    sex = col[0]\n",
    "    marry = col[1]\n",
    "    if sex == 'f':\n",
    "        if marry == 'married':\n",
    "            return np.random.choice(['full time', 'part time','no'], p=[.36,.2,.44])\n",
    "        else:\n",
    "            return np.random.choice(['full time', 'part time', 'no'], p=[.75,.15,.1])\n",
    "    else:\n",
    "        return np.random.choice(['full time', 'part time','no'], p=[.80,.15,.05])"
   ]
  },
  {
   "cell_type": "code",
   "execution_count": 211,
   "metadata": {},
   "outputs": [],
   "source": [
    "wc['employment'] = wc[['gender','status']].apply(employment,axis=1)"
   ]
  },
  {
   "cell_type": "code",
   "execution_count": 212,
   "metadata": {},
   "outputs": [],
   "source": [
    "wc['joint'] = wc['status'].apply(lambda x: 'yes' if x == 'married' else np.random.choice(['yes', 'no'], p=[.34,.66]))"
   ]
  },
  {
   "cell_type": "code",
   "execution_count": 213,
   "metadata": {},
   "outputs": [],
   "source": [
    "wc['industry'] = wc['employment'].apply(lambda x: 'unemployed' if x == 'no' else np.random.choice(['retail', 'service', 'education','manufacturing', 'other', 'construction', 'transportation','import/export','finance', 'professional service','IT','real estate','social service'], p=[.08,.08,.04,.05,.04,.07,.06,.15,.09,.1,.04,.05,.15]))"
   ]
  },
  {
   "cell_type": "code",
   "execution_count": 214,
   "metadata": {},
   "outputs": [],
   "source": [
    "def edu(col):\n",
    "    \"\"\"\n",
    "    middle age education\n",
    "    \"\"\"\n",
    "    if col == 'premier':\n",
    "        return np.random.choice(['primary', 'secondary','tertiary'], p=[.05, .25, .7])\n",
    "    elif col == 'advance':\n",
    "        return np.random.choice(['primary', 'secondary', 'tertiary'], p=[.2, .45,.35])\n",
    "    else:\n",
    "        return np.random.choice(['primary', 'secondary', 'tertiary'], p=[.55, .30, .15])"
   ]
  },
  {
   "cell_type": "code",
   "execution_count": 215,
   "metadata": {},
   "outputs": [],
   "source": [
    "wc['education'] = wc['account tier'].apply(edu)"
   ]
  },
  {
   "cell_type": "code",
   "execution_count": 216,
   "metadata": {},
   "outputs": [],
   "source": [
    "def job_position(col):\n",
    "    \"\"\"\n",
    "    middle age job position\n",
    "    \"\"\"\n",
    "    emp = col[0]\n",
    "    acct = col[1]\n",
    "    if emp == 'no':\n",
    "        return 'unemployed'\n",
    "    else:\n",
    "        if acct == 'premier':\n",
    "            return np.random.choice(['manager', 'executive', 'senior','owner','other'], p=[.31,.13,.4,.1,.06])\n",
    "        elif acct == 'advance':\n",
    "            return np.random.choice(['manager', 'senior', 'associate','owner', 'other'], p=[.15,.45,.35,.025,.025])\n",
    "        else:\n",
    "            return np.random.choice(['associate', 'junior', 'senior','other'], p=[.6, .3,.05, .05])"
   ]
  },
  {
   "cell_type": "code",
   "execution_count": 217,
   "metadata": {},
   "outputs": [],
   "source": [
    "wc['job position'] = wc[['employment', 'account tier']].apply(job_position, axis=1)"
   ]
  },
  {
   "cell_type": "code",
   "execution_count": 218,
   "metadata": {},
   "outputs": [],
   "source": [
    "def salary(col):\n",
    "    \"\"\"\n",
    "    middle age salary\n",
    "    \"\"\"\n",
    "    emp = col[0]\n",
    "    jp = col[1]\n",
    "    if emp == 'no':\n",
    "        return 0\n",
    "    elif emp == 'part time':\n",
    "        return np.round(np.random.choice([np.random.normal(8000, 500), np.random.normal(14000, 1000), np.random.normal(20000, 2000)], p=[.35, .5, .15]),2)\n",
    "    else:\n",
    "        if jp == 'executive':\n",
    "            return np.round(np.random.normal(150000,25000),2)\n",
    "        elif (jp == 'manager') | (jp == 'senior') | (jp == 'owner'):\n",
    "            return np.round(np.random.choice([np.random.normal(80000, 10000), np.random.normal(65000, 5000), np.random.normal(45000,5000)], p=[.45,.40, .15]),2)\n",
    "        else:\n",
    "            return np.round(np.random.choice([np.random.normal(26800, 1000), np.random.normal(35000, 2500), np.random.normal(18000, 1000)], p=[.55,.35,.10]),2)"
   ]
  },
  {
   "cell_type": "code",
   "execution_count": 219,
   "metadata": {},
   "outputs": [],
   "source": [
    "wc['salary'] = wc[['employment','job position']].apply(salary, axis=1)"
   ]
  },
  {
   "cell_type": "code",
   "execution_count": 62,
   "metadata": {},
   "outputs": [
    {
     "data": {
      "text/html": [
       "<div>\n",
       "<style scoped>\n",
       "    .dataframe tbody tr th:only-of-type {\n",
       "        vertical-align: middle;\n",
       "    }\n",
       "\n",
       "    .dataframe tbody tr th {\n",
       "        vertical-align: top;\n",
       "    }\n",
       "\n",
       "    .dataframe thead th {\n",
       "        text-align: right;\n",
       "    }\n",
       "</style>\n",
       "<table border=\"1\" class=\"dataframe\">\n",
       "  <thead>\n",
       "    <tr style=\"text-align: right;\">\n",
       "      <th></th>\n",
       "      <th>age</th>\n",
       "      <th>nationality</th>\n",
       "      <th>expat</th>\n",
       "      <th>status</th>\n",
       "      <th>account tier</th>\n",
       "      <th>gender</th>\n",
       "      <th>employment</th>\n",
       "      <th>joint</th>\n",
       "      <th>industry</th>\n",
       "      <th>education</th>\n",
       "      <th>job position</th>\n",
       "      <th>salary</th>\n",
       "    </tr>\n",
       "  </thead>\n",
       "  <tbody>\n",
       "    <tr>\n",
       "      <th>0</th>\n",
       "      <td>42.0</td>\n",
       "      <td>white</td>\n",
       "      <td>yes</td>\n",
       "      <td>single</td>\n",
       "      <td>advance</td>\n",
       "      <td>m</td>\n",
       "      <td>full time</td>\n",
       "      <td>no</td>\n",
       "      <td>transportation</td>\n",
       "      <td>secondary</td>\n",
       "      <td>associate</td>\n",
       "      <td>31716.58</td>\n",
       "    </tr>\n",
       "    <tr>\n",
       "      <th>1</th>\n",
       "      <td>43.0</td>\n",
       "      <td>white</td>\n",
       "      <td>yes</td>\n",
       "      <td>married</td>\n",
       "      <td>personal</td>\n",
       "      <td>m</td>\n",
       "      <td>no</td>\n",
       "      <td>yes</td>\n",
       "      <td>unemployed</td>\n",
       "      <td>primary</td>\n",
       "      <td>unemployed</td>\n",
       "      <td>0.00</td>\n",
       "    </tr>\n",
       "    <tr>\n",
       "      <th>2</th>\n",
       "      <td>46.0</td>\n",
       "      <td>hong kong</td>\n",
       "      <td>no</td>\n",
       "      <td>single</td>\n",
       "      <td>personal</td>\n",
       "      <td>f</td>\n",
       "      <td>full time</td>\n",
       "      <td>no</td>\n",
       "      <td>professional service</td>\n",
       "      <td>primary</td>\n",
       "      <td>junior</td>\n",
       "      <td>26979.79</td>\n",
       "    </tr>\n",
       "    <tr>\n",
       "      <th>3</th>\n",
       "      <td>46.0</td>\n",
       "      <td>hong kong</td>\n",
       "      <td>no</td>\n",
       "      <td>married</td>\n",
       "      <td>personal</td>\n",
       "      <td>f</td>\n",
       "      <td>part time</td>\n",
       "      <td>yes</td>\n",
       "      <td>other</td>\n",
       "      <td>primary</td>\n",
       "      <td>associate</td>\n",
       "      <td>7324.66</td>\n",
       "    </tr>\n",
       "    <tr>\n",
       "      <th>4</th>\n",
       "      <td>45.0</td>\n",
       "      <td>china</td>\n",
       "      <td>no</td>\n",
       "      <td>divorce</td>\n",
       "      <td>personal</td>\n",
       "      <td>f</td>\n",
       "      <td>full time</td>\n",
       "      <td>no</td>\n",
       "      <td>IT</td>\n",
       "      <td>primary</td>\n",
       "      <td>associate</td>\n",
       "      <td>25689.13</td>\n",
       "    </tr>\n",
       "  </tbody>\n",
       "</table>\n",
       "</div>"
      ],
      "text/plain": [
       "    age nationality expat   status account tier gender employment joint  \\\n",
       "0  42.0       white   yes   single      advance      m  full time    no   \n",
       "1  43.0       white   yes  married     personal      m         no   yes   \n",
       "2  46.0   hong kong    no   single     personal      f  full time    no   \n",
       "3  46.0   hong kong    no  married     personal      f  part time   yes   \n",
       "4  45.0       china    no  divorce     personal      f  full time    no   \n",
       "\n",
       "               industry  education job position    salary  \n",
       "0        transportation  secondary    associate  31716.58  \n",
       "1            unemployed    primary   unemployed      0.00  \n",
       "2  professional service    primary       junior  26979.79  \n",
       "3                 other    primary    associate   7324.66  \n",
       "4                    IT    primary    associate  25689.13  "
      ]
     },
     "execution_count": 62,
     "metadata": {},
     "output_type": "execute_result"
    }
   ],
   "source": [
    "wc.head()"
   ]
  },
  {
   "cell_type": "code",
   "execution_count": 220,
   "metadata": {},
   "outputs": [],
   "source": [
    "def deposits(col):\n",
    "    \"\"\"\n",
    "    middle age deposits\n",
    "    \"\"\"\n",
    "    if col != 0:\n",
    "        return np.round(col*np.random.choice([.5,.66,.75,.85,1], p=[.15,.25,.34,.25,.01]),2)\n",
    "    else:\n",
    "        return np.round(np.random.choice([np.random.normal(4000, 100), np.random.normal(7000,500), np.random.normal(10000, 1000)], p=[.2,.5,.3]),2)"
   ]
  },
  {
   "cell_type": "code",
   "execution_count": 221,
   "metadata": {},
   "outputs": [],
   "source": [
    "wc['monthly deposit avg'] = wc['salary'].apply(deposits)"
   ]
  },
  {
   "cell_type": "code",
   "execution_count": 222,
   "metadata": {},
   "outputs": [],
   "source": [
    "def expense(col):\n",
    "    \"\"\"\n",
    "    middle age expense\n",
    "    \"\"\"\n",
    "    sal = col[0]\n",
    "    dep = col[1]\n",
    "    if sal != 0:\n",
    "        return np.round(dep* np.random.choice([.55,.45,.35,.2], p=[.2,.3,.15,.35]),2)\n",
    "    else:\n",
    "        return np.round(dep* np.random.choice([.4,.3,.25], p=[.5,.35,.15]),2)"
   ]
  },
  {
   "cell_type": "code",
   "execution_count": 223,
   "metadata": {},
   "outputs": [],
   "source": [
    "wc['monthly expense avg'] = wc[['salary', 'monthly deposit avg']].apply(expense, axis=1)"
   ]
  },
  {
   "cell_type": "code",
   "execution_count": 224,
   "metadata": {},
   "outputs": [],
   "source": [
    "wc['credit card'] = pd.DataFrame(np.random.choice(['yes','no'], size=2074628, p=[.98,.02]))"
   ]
  },
  {
   "cell_type": "code",
   "execution_count": 225,
   "metadata": {},
   "outputs": [],
   "source": [
    "wc['debit card'] = pd.DataFrame(np.random.choice(['yes', 'no'], size=2074628, p=[.99,.01]))"
   ]
  },
  {
   "cell_type": "code",
   "execution_count": 226,
   "metadata": {},
   "outputs": [],
   "source": [
    "def credit_expense(col):\n",
    "    \"\"\"\n",
    "    middle age credit card expense\n",
    "    \"\"\"\n",
    "    cc = col[0]\n",
    "    exp = col[1]\n",
    "    if cc == 'yes':\n",
    "        return np.round(exp * np.random.choice([.60,.4,.25,.15], p=[.2,.4,.3,.1]),2)\n",
    "    else:\n",
    "        return np.round(exp * np.random.choice([.4,.35,.25,.15], p=[.3,.25,.25,.2]),2)"
   ]
  },
  {
   "cell_type": "code",
   "execution_count": 227,
   "metadata": {},
   "outputs": [],
   "source": [
    "wc['credit card expense'] = wc[['credit card', 'monthly expense avg']].apply(credit_expense, axis=1)"
   ]
  },
  {
   "cell_type": "code",
   "execution_count": 228,
   "metadata": {},
   "outputs": [],
   "source": [
    "wc['payme'] = wc['age'].apply(lambda x: np.random.choice(['yes','no'], p=[.7,.3]) if x > 35 else np.random.choice(['yes', 'no'], p=[.2,.8]))"
   ]
  },
  {
   "cell_type": "code",
   "execution_count": 229,
   "metadata": {},
   "outputs": [],
   "source": [
    "wc['payme deposit'] = wc['payme'].apply(lambda x: np.round(np.random.normal(1000,300),2) if x == 'yes' else 0)"
   ]
  },
  {
   "cell_type": "code",
   "execution_count": 230,
   "metadata": {},
   "outputs": [],
   "source": [
    "wc['payme expense'] = wc['payme'].apply(lambda x: np.round(np.random.normal(1500,500),2) if x =='yes' else 0)"
   ]
  },
  {
   "cell_type": "code",
   "execution_count": 231,
   "metadata": {},
   "outputs": [],
   "source": [
    "def start(col):\n",
    "    \"\"\"\n",
    "    middle age start month\n",
    "    \"\"\"\n",
    "    acct = col[0]\n",
    "    if acct == 'premier':\n",
    "        return np.round(np.random.choice([np.random.normal(1500000,25000), np.random.normal(2000000, 100000)],p=[.44,.56]),2)\n",
    "    elif acct == 'advance':\n",
    "        return np.round(np.random.choice([np.random.normal(500000, 50000), np.random.normal(250000,10000), np.random.normal(700000, 50000)], p=[.4,.4, .2]),2)\n",
    "    else:\n",
    "        return np.round(np.random.normal(100000, 25000),2)"
   ]
  },
  {
   "cell_type": "code",
   "execution_count": 232,
   "metadata": {},
   "outputs": [],
   "source": [
    "wc['feb 10, 2017'] = wc['account tier'].apply(start)"
   ]
  },
  {
   "cell_type": "code",
   "execution_count": 233,
   "metadata": {},
   "outputs": [],
   "source": [
    "def sec_check(col):\n",
    "    \"\"\"\n",
    "    middle age second month\n",
    "    \"\"\"\n",
    "    acct = col[0]\n",
    "    jp = col[1]\n",
    "    mda = col[2]\n",
    "    pd = col[3]\n",
    "    cm = col[4]\n",
    "    if acct == 'premier':\n",
    "        if jp == 'executive':\n",
    "            return np.round((mda+pd+cm) * np.random.choice([.85,.95,1.2],p=[.33,.5,.17]),2)\n",
    "        elif (jp == 'manager') | (jp == 'senior'):\n",
    "            return np.round((mda+pd+cm) * np.random.choice([.90, .95, 1.05], p = [.40,.35, .25 ]),2)\n",
    "        else:\n",
    "            return np.round(np.random.normal(mda+pd+cm, 10000),2)\n",
    "    elif acct == 'advance':\n",
    "        return np.round((mda+pd+cm)*np.random.choice([.75,.9,1.05,1.2], p=[.24, .33, .33,.1 ]),2)\n",
    "    elif acct == 'personal':\n",
    "        return np.round((mda+pd+cm)*np.random.choice([.65, .8, 1, 1.1, 1.15], p=[.25, .35, .2,.1,.1]),2)"
   ]
  },
  {
   "cell_type": "code",
   "execution_count": 234,
   "metadata": {},
   "outputs": [],
   "source": [
    "wc['feb 25, 2017'] = wc[['account tier', 'job position', 'monthly deposit avg', 'payme deposit' ,'feb 10, 2017']].apply(sec_check, axis=1)"
   ]
  },
  {
   "cell_type": "code",
   "execution_count": 235,
   "metadata": {},
   "outputs": [],
   "source": [
    "def ma_end_month(col):\n",
    "    \"\"\"\n",
    "    middle age new month\n",
    "    \"\"\"\n",
    "    acct = col[0]\n",
    "    me = col[1]\n",
    "    ce = col[2]\n",
    "    pe = col[3]\n",
    "    em = col[4]\n",
    "    if acct == 'premier':\n",
    "        return np.round((em-me-ce-pe)*np.random.choice([.70,.95,1.1,1.2], p=[.15,.25,.35,.25]),2)\n",
    "    elif acct == 'advance':\n",
    "        return np.round((em-me-ce-pe)* np.random.choice([.80,.9, 1, 1.05], p =[.25, .25, .15, .35 ]),2)\n",
    "    else:\n",
    "        return np.round((em-me-ce-pe)* np.random.choice([.60,.8,.95,1, 1.1], p=[.15, .25, .35, .2,.05]),2)"
   ]
  },
  {
   "cell_type": "code",
   "execution_count": 237,
   "metadata": {},
   "outputs": [],
   "source": [
    "wc['mar 10, 2017'] = wc[['account tier', 'monthly expense avg', 'credit card expense', 'payme expense', 'feb 25, 2017']].apply(ma_end_month, axis=1)"
   ]
  },
  {
   "cell_type": "code",
   "execution_count": 238,
   "metadata": {},
   "outputs": [],
   "source": [
    "wc['mar 25, 2017'] = wc[['account tier', 'job position', 'monthly deposit avg', 'payme deposit' ,'mar 10, 2017']].apply(sec_check, axis=1)"
   ]
  },
  {
   "cell_type": "code",
   "execution_count": 239,
   "metadata": {},
   "outputs": [],
   "source": [
    "wc['apr 10, 2017'] = wc[['account tier', 'monthly expense avg', 'credit card expense', 'payme expense', 'mar 25, 2017']].apply(ma_end_month, axis=1)"
   ]
  },
  {
   "cell_type": "code",
   "execution_count": 240,
   "metadata": {},
   "outputs": [],
   "source": [
    "wc['apr 25, 2017'] = wc[['account tier', 'job position', 'monthly deposit avg', 'payme deposit' ,'apr 10, 2017']].apply(sec_check, axis=1)"
   ]
  },
  {
   "cell_type": "code",
   "execution_count": 241,
   "metadata": {},
   "outputs": [],
   "source": [
    "wc['may 10, 2017'] = wc[['account tier', 'monthly expense avg', 'credit card expense', 'payme expense', 'apr 25, 2017']].apply(ma_end_month, axis=1)"
   ]
  },
  {
   "cell_type": "code",
   "execution_count": 242,
   "metadata": {},
   "outputs": [],
   "source": [
    "wc['may 25, 2017'] = wc[['account tier', 'job position', 'monthly deposit avg', 'payme deposit' ,'may 10, 2017']].apply(sec_check, axis=1)"
   ]
  },
  {
   "cell_type": "code",
   "execution_count": 243,
   "metadata": {},
   "outputs": [],
   "source": [
    "wc['jun 10, 2017'] = wc[['account tier', 'monthly expense avg', 'credit card expense', 'payme expense', 'may 25, 2017']].apply(ma_end_month, axis=1)"
   ]
  },
  {
   "cell_type": "code",
   "execution_count": 244,
   "metadata": {},
   "outputs": [],
   "source": [
    "wc['jun 25, 2017'] = wc[['account tier', 'job position', 'monthly deposit avg', 'payme deposit' ,'jun 10, 2017']].apply(sec_check, axis=1)"
   ]
  },
  {
   "cell_type": "code",
   "execution_count": 245,
   "metadata": {},
   "outputs": [],
   "source": [
    "wc['jul 10, 2017'] = wc[['account tier', 'monthly expense avg', 'credit card expense', 'payme expense', 'jun 25, 2017']].apply(ma_end_month, axis=1)"
   ]
  },
  {
   "cell_type": "code",
   "execution_count": 246,
   "metadata": {},
   "outputs": [],
   "source": [
    "wc['jul 25, 2017'] = wc[['account tier', 'job position', 'monthly deposit avg', 'payme deposit' ,'jul 10, 2017']].apply(sec_check, axis=1)"
   ]
  },
  {
   "cell_type": "code",
   "execution_count": 247,
   "metadata": {},
   "outputs": [],
   "source": [
    "wc['aug 10, 2017'] = wc[['account tier', 'monthly expense avg', 'credit card expense', 'payme expense', 'jul 25, 2017']].apply(ma_end_month, axis=1)"
   ]
  },
  {
   "cell_type": "code",
   "execution_count": 248,
   "metadata": {},
   "outputs": [],
   "source": [
    "wc['aug 25, 2017'] = wc[['account tier', 'job position', 'monthly deposit avg', 'payme deposit' ,'aug 10, 2017']].apply(sec_check, axis=1)"
   ]
  },
  {
   "cell_type": "code",
   "execution_count": 249,
   "metadata": {},
   "outputs": [],
   "source": [
    "wc['sep 10, 2017'] = wc[['account tier', 'monthly expense avg', 'credit card expense', 'payme expense', 'aug 25, 2017']].apply(ma_end_month, axis=1)"
   ]
  },
  {
   "cell_type": "code",
   "execution_count": 250,
   "metadata": {},
   "outputs": [],
   "source": [
    "wc['sep 25, 2017'] = wc[['account tier', 'job position', 'monthly deposit avg', 'payme deposit' ,'sep 10, 2017']].apply(sec_check, axis=1)"
   ]
  },
  {
   "cell_type": "code",
   "execution_count": 251,
   "metadata": {},
   "outputs": [],
   "source": [
    "wc['oct 10, 2017'] = wc[['account tier', 'monthly expense avg', 'credit card expense', 'payme expense', 'sep 25, 2017']].apply(ma_end_month, axis=1)"
   ]
  },
  {
   "cell_type": "code",
   "execution_count": 252,
   "metadata": {},
   "outputs": [],
   "source": [
    "wc['oct 25, 2017'] = wc[['account tier', 'job position', 'monthly deposit avg', 'payme deposit' ,'oct 10, 2017']].apply(sec_check, axis=1)"
   ]
  },
  {
   "cell_type": "code",
   "execution_count": 253,
   "metadata": {},
   "outputs": [],
   "source": [
    "wc['nov 10, 2017'] = wc[['account tier', 'monthly expense avg', 'credit card expense', 'payme expense', 'oct 25, 2017']].apply(ma_end_month, axis=1)"
   ]
  },
  {
   "cell_type": "code",
   "execution_count": 254,
   "metadata": {},
   "outputs": [],
   "source": [
    "wc['nov 25, 2017'] = wc[['account tier', 'job position', 'monthly deposit avg', 'payme deposit' ,'nov 10, 2017']].apply(sec_check, axis=1)"
   ]
  },
  {
   "cell_type": "code",
   "execution_count": 255,
   "metadata": {},
   "outputs": [],
   "source": [
    "wc['dec 10, 2017'] = wc[['account tier', 'monthly expense avg', 'credit card expense', 'payme expense', 'nov 25, 2017']].apply(ma_end_month, axis=1)"
   ]
  },
  {
   "cell_type": "code",
   "execution_count": 256,
   "metadata": {},
   "outputs": [],
   "source": [
    "wc['dec 25, 2017'] = wc[['account tier', 'job position', 'monthly deposit avg', 'payme deposit' ,'dec 10, 2017']].apply(sec_check, axis=1)"
   ]
  },
  {
   "cell_type": "code",
   "execution_count": 257,
   "metadata": {},
   "outputs": [],
   "source": [
    "wc['jan 10, 2018'] = wc[['account tier', 'monthly expense avg', 'credit card expense', 'payme expense', 'dec 25, 2017']].apply(ma_end_month, axis=1)"
   ]
  },
  {
   "cell_type": "code",
   "execution_count": 258,
   "metadata": {},
   "outputs": [],
   "source": [
    "wc['jan 25, 2018'] = wc[['account tier', 'job position', 'monthly deposit avg', 'payme deposit' ,'jan 10, 2018']].apply(sec_check, axis=1)"
   ]
  },
  {
   "cell_type": "code",
   "execution_count": 259,
   "metadata": {},
   "outputs": [],
   "source": [
    "wc['feb 10, 2018'] = wc[['account tier', 'monthly expense avg', 'credit card expense', 'payme expense', 'jan 25, 2018']].apply(ma_end_month, axis=1)"
   ]
  },
  {
   "cell_type": "code",
   "execution_count": 260,
   "metadata": {},
   "outputs": [],
   "source": [
    "wc['feb 25, 2018'] = wc[['account tier', 'job position', 'monthly deposit avg', 'payme deposit' ,'feb 10, 2018']].apply(sec_check, axis=1)"
   ]
  },
  {
   "cell_type": "code",
   "execution_count": 261,
   "metadata": {},
   "outputs": [],
   "source": [
    "wc['mar 10, 2018'] = wc[['account tier', 'monthly expense avg', 'credit card expense', 'payme expense', 'feb 25, 2018']].apply(ma_end_month, axis=1)"
   ]
  },
  {
   "cell_type": "code",
   "execution_count": 262,
   "metadata": {},
   "outputs": [],
   "source": [
    "wc['mar 25, 2018'] = wc[['account tier', 'job position', 'monthly deposit avg', 'payme deposit' ,'mar 10, 2018']].apply(sec_check, axis=1)"
   ]
  },
  {
   "cell_type": "code",
   "execution_count": 263,
   "metadata": {},
   "outputs": [],
   "source": [
    "wc['apr 10, 2018'] = wc[['account tier', 'monthly expense avg', 'credit card expense', 'payme expense', 'mar 25, 2018']].apply(ma_end_month, axis=1)"
   ]
  },
  {
   "cell_type": "code",
   "execution_count": 264,
   "metadata": {},
   "outputs": [],
   "source": [
    "wc['apr 25, 2018'] = wc[['account tier', 'job position', 'monthly deposit avg', 'payme deposit' ,'apr 10, 2018']].apply(sec_check, axis=1)"
   ]
  },
  {
   "cell_type": "code",
   "execution_count": 265,
   "metadata": {},
   "outputs": [],
   "source": [
    "wc['may 10, 2018'] = wc[['account tier', 'monthly expense avg', 'credit card expense', 'payme expense', 'apr 25, 2018']].apply(ma_end_month, axis=1)"
   ]
  },
  {
   "cell_type": "code",
   "execution_count": 266,
   "metadata": {},
   "outputs": [],
   "source": [
    "wc['may 25, 2018'] = wc[['account tier', 'job position', 'monthly deposit avg', 'payme deposit' ,'may 10, 2018']].apply(sec_check, axis=1)"
   ]
  },
  {
   "cell_type": "code",
   "execution_count": 267,
   "metadata": {},
   "outputs": [],
   "source": [
    "wc['jun 10, 2018'] = wc[['account tier', 'monthly expense avg', 'credit card expense', 'payme expense', 'may 25, 2018']].apply(ma_end_month, axis=1)"
   ]
  },
  {
   "cell_type": "code",
   "execution_count": 268,
   "metadata": {},
   "outputs": [],
   "source": [
    "wc['jun 25, 2018'] = wc[['account tier', 'job position', 'monthly deposit avg', 'payme deposit' ,'jun 10, 2018']].apply(sec_check, axis=1)"
   ]
  },
  {
   "cell_type": "code",
   "execution_count": 269,
   "metadata": {},
   "outputs": [],
   "source": [
    "wc['jul 10, 2018'] = wc[['account tier', 'monthly expense avg', 'credit card expense', 'payme expense', 'jun 25, 2018']].apply(ma_end_month, axis=1)"
   ]
  },
  {
   "cell_type": "code",
   "execution_count": 270,
   "metadata": {},
   "outputs": [],
   "source": [
    "wc['jul 25, 2018'] = wc[['account tier', 'job position', 'monthly deposit avg', 'payme deposit' ,'jul 10, 2018']].apply(sec_check, axis=1)"
   ]
  },
  {
   "cell_type": "code",
   "execution_count": 271,
   "metadata": {},
   "outputs": [],
   "source": [
    "wc['aug 10, 2018'] = wc[['account tier', 'monthly expense avg', 'credit card expense', 'payme expense', 'jul 25, 2018']].apply(ma_end_month, axis=1)"
   ]
  },
  {
   "cell_type": "code",
   "execution_count": 272,
   "metadata": {},
   "outputs": [],
   "source": [
    "wc['aug 25, 2018'] = wc[['account tier', 'job position', 'monthly deposit avg', 'payme deposit' ,'aug 10, 2018']].apply(sec_check, axis=1)"
   ]
  },
  {
   "cell_type": "code",
   "execution_count": 273,
   "metadata": {},
   "outputs": [],
   "source": [
    "wc['sep 10, 2018'] = wc[['account tier', 'monthly expense avg', 'credit card expense', 'payme expense', 'aug 25, 2018']].apply(ma_end_month, axis=1)"
   ]
  },
  {
   "cell_type": "code",
   "execution_count": 274,
   "metadata": {},
   "outputs": [],
   "source": [
    "wc['sep 25, 2018'] = wc[['account tier', 'job position', 'monthly deposit avg', 'payme deposit' ,'sep 10, 2018']].apply(sec_check, axis=1)"
   ]
  },
  {
   "cell_type": "code",
   "execution_count": 275,
   "metadata": {},
   "outputs": [],
   "source": [
    "wc['oct 10, 2018'] = wc[['account tier', 'monthly expense avg', 'credit card expense', 'payme expense', 'sep 25, 2018']].apply(ma_end_month, axis=1)"
   ]
  },
  {
   "cell_type": "code",
   "execution_count": 276,
   "metadata": {},
   "outputs": [],
   "source": [
    "wc['oct 25, 2018'] = wc[['account tier', 'job position', 'monthly deposit avg', 'payme deposit' ,'oct 10, 2018']].apply(sec_check, axis=1)"
   ]
  },
  {
   "cell_type": "code",
   "execution_count": 277,
   "metadata": {},
   "outputs": [],
   "source": [
    "wc['nov 10, 2018'] = wc[['account tier', 'monthly expense avg', 'credit card expense', 'payme expense', 'oct 25, 2018']].apply(ma_end_month, axis=1)"
   ]
  },
  {
   "cell_type": "code",
   "execution_count": 278,
   "metadata": {},
   "outputs": [],
   "source": [
    "wc['nov 25, 2018'] = wc[['account tier', 'job position', 'monthly deposit avg', 'payme deposit' ,'nov 10, 2018']].apply(sec_check, axis=1)"
   ]
  },
  {
   "cell_type": "code",
   "execution_count": 279,
   "metadata": {},
   "outputs": [],
   "source": [
    "wc['dec 10, 2018'] = wc[['account tier', 'monthly expense avg', 'credit card expense', 'payme expense', 'nov 25, 2018']].apply(ma_end_month, axis=1)"
   ]
  },
  {
   "cell_type": "code",
   "execution_count": 280,
   "metadata": {},
   "outputs": [],
   "source": [
    "wc['dec 25, 2018'] = wc[['account tier', 'job position', 'monthly deposit avg', 'payme deposit' ,'dec 10, 2018']].apply(sec_check, axis=1)"
   ]
  },
  {
   "cell_type": "code",
   "execution_count": 281,
   "metadata": {},
   "outputs": [],
   "source": [
    "wc['jan 10, 2019'] = wc[['account tier', 'monthly expense avg', 'credit card expense', 'payme expense', 'dec 25, 2018']].apply(ma_end_month, axis=1)"
   ]
  },
  {
   "cell_type": "code",
   "execution_count": 282,
   "metadata": {},
   "outputs": [],
   "source": [
    "wc['jan 25, 2019'] = wc[['account tier', 'job position', 'monthly deposit avg', 'payme deposit' ,'jan 10, 2019']].apply(sec_check, axis=1)"
   ]
  },
  {
   "cell_type": "code",
   "execution_count": 284,
   "metadata": {},
   "outputs": [],
   "source": [
    "wc['feb 10, 2019'] = wc[['account tier', 'monthly expense avg', 'credit card expense', 'payme expense', 'jan 25, 2019']].apply(ma_end_month, axis=1)"
   ]
  },
  {
   "cell_type": "code",
   "execution_count": 287,
   "metadata": {},
   "outputs": [],
   "source": [
    "wc.to_csv('working_class.csv', index=False)"
   ]
  },
  {
   "cell_type": "code",
   "execution_count": 285,
   "metadata": {},
   "outputs": [
    {
     "data": {
      "text/plain": [
       "(2074628, 69)"
      ]
     },
     "execution_count": 285,
     "metadata": {},
     "output_type": "execute_result"
    }
   ],
   "source": [
    "wc.shape"
   ]
  },
  {
   "cell_type": "code",
   "execution_count": 382,
   "metadata": {},
   "outputs": [],
   "source": [
    "mill_wc_df = pd.concat([mill_df, wc],ignore_index=True)"
   ]
  },
  {
   "cell_type": "code",
   "execution_count": 301,
   "metadata": {},
   "outputs": [],
   "source": [
    "mill_wc_df.to_csv('mill_wc_df.csv', index=False)"
   ]
  },
  {
   "cell_type": "markdown",
   "metadata": {},
   "source": [
    "### Senior"
   ]
  },
  {
   "cell_type": "code",
   "execution_count": 290,
   "metadata": {},
   "outputs": [
    {
     "data": {
      "text/plain": [
       "452465"
      ]
     },
     "execution_count": 290,
     "metadata": {},
     "output_type": "execute_result"
    }
   ],
   "source": [
    "len(srs)"
   ]
  },
  {
   "cell_type": "code",
   "execution_count": 294,
   "metadata": {},
   "outputs": [],
   "source": [
    "senior = pd.DataFrame(srs, columns=['age'])"
   ]
  },
  {
   "cell_type": "code",
   "execution_count": 295,
   "metadata": {},
   "outputs": [],
   "source": [
    "senior['gender'] = pd.DataFrame(np.random.choice(['m','f'],size=451372, p=[.46,.54]))"
   ]
  },
  {
   "cell_type": "code",
   "execution_count": 296,
   "metadata": {},
   "outputs": [],
   "source": [
    "senior['nationality'] = pd.DataFrame(np.random.choice(['hong kong', 'china', 'other asian', 'white'], size=451372, p=[.85,.10,.04,.01]))"
   ]
  },
  {
   "cell_type": "code",
   "execution_count": 297,
   "metadata": {},
   "outputs": [],
   "source": [
    "senior['expat'] = senior['nationality'].apply(lambda x: 'no' if (x=='hong kong') | (x=='china') else 'yes')"
   ]
  },
  {
   "cell_type": "code",
   "execution_count": 298,
   "metadata": {},
   "outputs": [],
   "source": [
    "senior['status'] = pd.DataFrame(np.random.choice(['single', 'married', 'divorce', 'widower'], size=451372, p=[.2,.6,.05,.15]))"
   ]
  },
  {
   "cell_type": "code",
   "execution_count": 299,
   "metadata": {},
   "outputs": [],
   "source": [
    "senior['account tier'] = senior['status'].apply(lambda x: np.random.choice(['personal', 'advance', 'premier'], p=[.75,.20,.05]))"
   ]
  },
  {
   "cell_type": "code",
   "execution_count": 302,
   "metadata": {},
   "outputs": [],
   "source": [
    "senior['employment'] = senior['age'].apply(lambda x: np.random.choice(['full time', 'part time', 'no'], p=[.3,.5,.2]) if x < 75 else (np.random.choice(['full time', 'part time', 'no'], p =[.05, .15, .80]) if x < 85 else 'no'))"
   ]
  },
  {
   "cell_type": "code",
   "execution_count": 303,
   "metadata": {},
   "outputs": [],
   "source": [
    "senior['joint'] = senior['status'].apply(lambda x: np.random.choice(['yes', 'no'], p=[.8,.2]) if x == 'yes' else np.random.choice(['yes','no'], p=[.65, .35]))"
   ]
  },
  {
   "cell_type": "code",
   "execution_count": 304,
   "metadata": {},
   "outputs": [],
   "source": [
    "senior['industry'] = senior['employment'].apply(lambda x: 'retired' if x == 'no' else np.random.choice(['other', 'service'], p=[.15, .85]))"
   ]
  },
  {
   "cell_type": "code",
   "execution_count": 305,
   "metadata": {},
   "outputs": [],
   "source": [
    "senior['education'] = pd.DataFrame(np.random.choice(['primary', 'secondary','tertiary'], size= 452287, p=[.65,.25,.10]))"
   ]
  },
  {
   "cell_type": "code",
   "execution_count": 309,
   "metadata": {},
   "outputs": [],
   "source": [
    "senior['job position'] = senior['employment'].apply(lambda x: 'retired' if x =='no' else np.random.choice(['other', 'associate'], p=[.35,.65]))"
   ]
  },
  {
   "cell_type": "code",
   "execution_count": 314,
   "metadata": {},
   "outputs": [],
   "source": [
    "def sr_salary(col):\n",
    "    \"\"\"\n",
    "    senior salary\n",
    "    \"\"\"\n",
    "    if col == 'unemployed':\n",
    "        return 0\n",
    "    elif col == 'part time':\n",
    "        return np.round(np.random.normal(5000, 250),2)\n",
    "    else:\n",
    "        return np.round(np.random.normal(14000, 1000),2)"
   ]
  },
  {
   "cell_type": "code",
   "execution_count": 315,
   "metadata": {},
   "outputs": [],
   "source": [
    "senior['salary'] = senior['employment'].apply(sr_salary)"
   ]
  },
  {
   "cell_type": "code",
   "execution_count": 316,
   "metadata": {},
   "outputs": [],
   "source": [
    "def sr_deposit(col):\n",
    "    \"\"\"\n",
    "    senior deposit\n",
    "    \"\"\"\n",
    "    if col != 0:\n",
    "        return col * np.random.choice([.7, .8, .95, 1.05, 1.10], p=[.4,.25,.2,.05,.1])\n",
    "    else:\n",
    "        return np.random.choice([2500, 5000, 10000], p=[.45, .3, .25])"
   ]
  },
  {
   "cell_type": "code",
   "execution_count": 317,
   "metadata": {},
   "outputs": [],
   "source": [
    "senior['monthly deposit avg'] = senior['salary'].apply(sr_deposit)"
   ]
  },
  {
   "cell_type": "code",
   "execution_count": 318,
   "metadata": {},
   "outputs": [],
   "source": [
    "def sr_expense(col):\n",
    "    \"\"\"\n",
    "    senior expense\n",
    "    \"\"\"\n",
    "    sal = col[0]\n",
    "    mda = col[1]\n",
    "    if sal != 0:\n",
    "        return np.round(mda * np.random.choice([.45,.35,.2,.1],p=[.33,.17,.25,.25]),2)\n",
    "    else:\n",
    "        return np.round(mda * np.random.choice([.4,.3,.15], p=[.55,.35,.1]))"
   ]
  },
  {
   "cell_type": "code",
   "execution_count": 319,
   "metadata": {},
   "outputs": [],
   "source": [
    "senior['monthly expense avg'] = senior[['salary', 'monthly deposit avg']].apply(sr_expense, axis=1)"
   ]
  },
  {
   "cell_type": "code",
   "execution_count": 320,
   "metadata": {},
   "outputs": [],
   "source": [
    "senior['credit card'] = pd.DataFrame(np.random.choice(['yes','no'], size=452287, p=[.8,.2]))"
   ]
  },
  {
   "cell_type": "code",
   "execution_count": 321,
   "metadata": {},
   "outputs": [],
   "source": [
    "senior['debit card'] = pd.DataFrame(np.random.choice(['yes', 'no'], size=452287, p=[.35,.65]))"
   ]
  },
  {
   "cell_type": "code",
   "execution_count": 322,
   "metadata": {},
   "outputs": [],
   "source": [
    "def sr_ccexp(col):\n",
    "    \"\"\"\n",
    "    senior cc expense\n",
    "    \"\"\"\n",
    "    cc = col[0]\n",
    "    exp = col[1]\n",
    "    if cc == 'yes':\n",
    "        return exp*np.random.choice([.3, .15,.05], p=[.25,.55,.2])\n",
    "    else:\n",
    "        return 0"
   ]
  },
  {
   "cell_type": "code",
   "execution_count": 323,
   "metadata": {},
   "outputs": [],
   "source": [
    "senior['credit card expense'] = senior[['credit card', 'monthly expense avg']].apply(sr_ccexp, axis=1)"
   ]
  },
  {
   "cell_type": "code",
   "execution_count": 324,
   "metadata": {},
   "outputs": [],
   "source": [
    "senior['payme'] = pd.DataFrame(np.random.choice(['yes', 'no'],size=452287, p=[.02,.98]))"
   ]
  },
  {
   "cell_type": "code",
   "execution_count": 325,
   "metadata": {},
   "outputs": [],
   "source": [
    "senior['payme deposit'] = senior['payme'].apply(lambda x: np.round(np.random.normal(600,100),2) if x=='yes' else 0)"
   ]
  },
  {
   "cell_type": "code",
   "execution_count": 327,
   "metadata": {},
   "outputs": [],
   "source": [
    "senior['payme expense'] = senior['payme'].apply(lambda x: np.round(np.random.normal(1000, 100),2) if x=='yes' else 0)"
   ]
  },
  {
   "cell_type": "code",
   "execution_count": 328,
   "metadata": {},
   "outputs": [],
   "source": [
    "def sr_start(col):\n",
    "    \"\"\"\n",
    "    senior start month\n",
    "    \"\"\"\n",
    "    acct = col[0]\n",
    "    if acct == 'premier':\n",
    "        return np.round(np.random.choice([np.random.normal(1200000,15000), np.random.normal(1500000, 50000)],p=[.44,.56]),2)\n",
    "    elif acct == 'advance':\n",
    "        return np.round(np.random.choice([np.random.normal(400000, 50000), np.random.normal(250000,10000), np.random.normal(800000, 100000)], p=[.5,.2,.3]),2)\n",
    "    else:\n",
    "        return np.round(np.random.choice([np.random.normal(50000, 25000), np.random.normal(100000, 25000), np.random.normal(20000, 500)],p=[.4,.2,.4]),2)"
   ]
  },
  {
   "cell_type": "code",
   "execution_count": 329,
   "metadata": {},
   "outputs": [],
   "source": [
    "senior['feb 10, 2017'] = senior['account tier'].apply(sr_start)"
   ]
  },
  {
   "cell_type": "code",
   "execution_count": 330,
   "metadata": {},
   "outputs": [],
   "source": [
    "def sr_sec_check(col):\n",
    "    \"\"\"\n",
    "    senior second month\n",
    "    \"\"\"\n",
    "    acct = col[0]\n",
    "    emp = col[1]\n",
    "    mda = col[2]\n",
    "    pd = col[3]\n",
    "    cm = col[4]\n",
    "    if acct == 'premier':\n",
    "        if emp == 'yes':\n",
    "            return np.round((mda+pd+cm) * np.random.choice([1.05,.95,1.2],p=[.33,.5,.17]),2)\n",
    "        else:\n",
    "            return np.round(np.random.normal(mda+pd+cm, 10000),2)\n",
    "    elif acct == 'advance':\n",
    "        return np.round((mda+pd+cm)*np.random.choice([.75,.9,1.05,1.2], p=[.24, .33, .33,.1 ]),2)\n",
    "    else:\n",
    "        return np.round((mda+pd+cm)*np.random.choice([.8, .95, 1], p=[.25, .45, .3]),2)"
   ]
  },
  {
   "cell_type": "code",
   "execution_count": 331,
   "metadata": {},
   "outputs": [],
   "source": [
    "senior['feb 25, 2017'] = senior[['account tier', 'employment','monthly deposit avg', 'payme deposit', 'feb 10, 2017']].apply(sr_sec_check, axis=1)"
   ]
  },
  {
   "cell_type": "code",
   "execution_count": 332,
   "metadata": {},
   "outputs": [],
   "source": [
    "def sr_end_month(col):\n",
    "    \"\"\"\n",
    "    sr new month\n",
    "    \"\"\"\n",
    "    acct = col[0]\n",
    "    me = col[1]\n",
    "    ce = col[2]\n",
    "    pe = col[3]\n",
    "    em = col[4]\n",
    "    if acct == 'premier':\n",
    "        return np.round((em-me-ce-pe)*np.random.choice([.75,.85,.95,1.1,], p=[.15,.25,.35,.25]),2)\n",
    "    elif acct == 'advance':\n",
    "        return np.round((em-me-ce-pe)* np.random.choice([.80,.95, 1, 1.05], p =[.25, .25, .15, .35 ]),2)\n",
    "    else:\n",
    "        return np.round((em-me-ce-pe)* np.random.choice([.80,.85,.95,1], p=[.15, .25, .35, .25]),2)"
   ]
  },
  {
   "cell_type": "code",
   "execution_count": 333,
   "metadata": {},
   "outputs": [],
   "source": [
    "senior['mar 10, 2017'] = senior[['account tier', 'monthly expense avg', 'credit card expense', 'payme expense', 'feb 25, 2017']].apply(sr_end_month, axis=1)"
   ]
  },
  {
   "cell_type": "code",
   "execution_count": 334,
   "metadata": {},
   "outputs": [],
   "source": [
    "senior['mar 25, 2017'] = senior[['account tier', 'employment','monthly deposit avg', 'payme deposit', 'mar 10, 2017']].apply(sr_sec_check, axis=1)"
   ]
  },
  {
   "cell_type": "code",
   "execution_count": 335,
   "metadata": {},
   "outputs": [],
   "source": [
    "senior['apr 10, 2017'] = senior[['account tier', 'monthly expense avg', 'credit card expense', 'payme expense', 'mar 25, 2017']].apply(sr_end_month, axis=1)"
   ]
  },
  {
   "cell_type": "code",
   "execution_count": 336,
   "metadata": {},
   "outputs": [],
   "source": [
    "senior['apr 25, 2017'] = senior[['account tier', 'employment','monthly deposit avg', 'payme deposit', 'apr 10, 2017']].apply(sr_sec_check, axis=1)"
   ]
  },
  {
   "cell_type": "code",
   "execution_count": 337,
   "metadata": {},
   "outputs": [],
   "source": [
    "senior['may 10, 2017'] = senior[['account tier', 'monthly expense avg', 'credit card expense', 'payme expense', 'apr 25, 2017']].apply(sr_end_month, axis=1)"
   ]
  },
  {
   "cell_type": "code",
   "execution_count": 338,
   "metadata": {},
   "outputs": [],
   "source": [
    "senior['may 25, 2017'] = senior[['account tier', 'employment','monthly deposit avg', 'payme deposit', 'may 10, 2017']].apply(sr_sec_check, axis=1)"
   ]
  },
  {
   "cell_type": "code",
   "execution_count": 339,
   "metadata": {},
   "outputs": [],
   "source": [
    "senior['jun 10, 2017'] = senior[['account tier', 'monthly expense avg', 'credit card expense', 'payme expense', 'may 25, 2017']].apply(sr_end_month, axis=1)"
   ]
  },
  {
   "cell_type": "code",
   "execution_count": 340,
   "metadata": {},
   "outputs": [],
   "source": [
    "senior['jun 25, 2017'] = senior[['account tier', 'employment','monthly deposit avg', 'payme deposit', 'jun 10, 2017']].apply(sr_sec_check, axis=1)"
   ]
  },
  {
   "cell_type": "code",
   "execution_count": 341,
   "metadata": {},
   "outputs": [],
   "source": [
    "senior['jul 10, 2017'] = senior[['account tier', 'monthly expense avg', 'credit card expense', 'payme expense', 'jun 25, 2017']].apply(sr_end_month, axis=1)"
   ]
  },
  {
   "cell_type": "code",
   "execution_count": 342,
   "metadata": {},
   "outputs": [],
   "source": [
    "senior['jul 25, 2017'] = senior[['account tier', 'employment','monthly deposit avg', 'payme deposit', 'jul 10, 2017']].apply(sr_sec_check, axis=1)"
   ]
  },
  {
   "cell_type": "code",
   "execution_count": 343,
   "metadata": {},
   "outputs": [],
   "source": [
    "senior['aug 10, 2017'] = senior[['account tier', 'monthly expense avg', 'credit card expense', 'payme expense', 'jul 25, 2017']].apply(sr_end_month, axis=1)"
   ]
  },
  {
   "cell_type": "code",
   "execution_count": 344,
   "metadata": {},
   "outputs": [],
   "source": [
    "senior['aug 25, 2017'] = senior[['account tier', 'employment','monthly deposit avg', 'payme deposit', 'aug 10, 2017']].apply(sr_sec_check, axis=1)"
   ]
  },
  {
   "cell_type": "code",
   "execution_count": 345,
   "metadata": {},
   "outputs": [],
   "source": [
    "senior['sep 10, 2017'] = senior[['account tier', 'monthly expense avg', 'credit card expense', 'payme expense', 'aug 25, 2017']].apply(sr_end_month, axis=1)"
   ]
  },
  {
   "cell_type": "code",
   "execution_count": 346,
   "metadata": {},
   "outputs": [],
   "source": [
    "senior['sep 25, 2017'] = senior[['account tier', 'employment','monthly deposit avg', 'payme deposit', 'sep 10, 2017']].apply(sr_sec_check, axis=1)"
   ]
  },
  {
   "cell_type": "code",
   "execution_count": 347,
   "metadata": {},
   "outputs": [],
   "source": [
    "senior['oct 10, 2017'] = senior[['account tier', 'monthly expense avg', 'credit card expense', 'payme expense', 'sep 25, 2017']].apply(sr_end_month, axis=1)"
   ]
  },
  {
   "cell_type": "code",
   "execution_count": 348,
   "metadata": {},
   "outputs": [],
   "source": [
    "senior['oct 25, 2017'] = senior[['account tier', 'employment','monthly deposit avg', 'payme deposit', 'oct 10, 2017']].apply(sr_sec_check, axis=1)"
   ]
  },
  {
   "cell_type": "code",
   "execution_count": 349,
   "metadata": {},
   "outputs": [],
   "source": [
    "senior['nov 10, 2017'] = senior[['account tier', 'monthly expense avg', 'credit card expense', 'payme expense', 'oct 25, 2017']].apply(sr_end_month, axis=1)"
   ]
  },
  {
   "cell_type": "code",
   "execution_count": 350,
   "metadata": {},
   "outputs": [],
   "source": [
    "senior['nov 25, 2017'] = senior[['account tier', 'employment','monthly deposit avg', 'payme deposit', 'nov 10, 2017']].apply(sr_sec_check, axis=1)"
   ]
  },
  {
   "cell_type": "code",
   "execution_count": 351,
   "metadata": {},
   "outputs": [],
   "source": [
    "senior['dec 10, 2017'] = senior[['account tier', 'monthly expense avg', 'credit card expense', 'payme expense', 'nov 25, 2017']].apply(sr_end_month, axis=1)"
   ]
  },
  {
   "cell_type": "code",
   "execution_count": 352,
   "metadata": {},
   "outputs": [],
   "source": [
    "senior['dec 25, 2017'] = senior[['account tier', 'employment','monthly deposit avg', 'payme deposit', 'dec 10, 2017']].apply(sr_sec_check, axis=1)"
   ]
  },
  {
   "cell_type": "code",
   "execution_count": 353,
   "metadata": {},
   "outputs": [],
   "source": [
    "senior['jan 10, 2018'] = senior[['account tier', 'monthly expense avg', 'credit card expense', 'payme expense', 'dec 25, 2017']].apply(sr_end_month, axis=1)"
   ]
  },
  {
   "cell_type": "code",
   "execution_count": 354,
   "metadata": {},
   "outputs": [],
   "source": [
    "senior['jan 25, 2018'] = senior[['account tier', 'employment','monthly deposit avg', 'payme deposit', 'jan 10, 2018']].apply(sr_sec_check, axis=1)"
   ]
  },
  {
   "cell_type": "code",
   "execution_count": 355,
   "metadata": {},
   "outputs": [],
   "source": [
    "senior['feb 10, 2018'] = senior[['account tier', 'monthly expense avg', 'credit card expense', 'payme expense', 'jan 25, 2018']].apply(sr_end_month, axis=1)"
   ]
  },
  {
   "cell_type": "code",
   "execution_count": 356,
   "metadata": {},
   "outputs": [],
   "source": [
    "senior['feb 25, 2018'] = senior[['account tier', 'employment','monthly deposit avg', 'payme deposit', 'feb 10, 2018']].apply(sr_sec_check, axis=1)"
   ]
  },
  {
   "cell_type": "code",
   "execution_count": 357,
   "metadata": {},
   "outputs": [],
   "source": [
    "senior['mar 10, 2018'] = senior[['account tier', 'monthly expense avg', 'credit card expense', 'payme expense', 'feb 25, 2018']].apply(sr_end_month, axis=1)"
   ]
  },
  {
   "cell_type": "code",
   "execution_count": 358,
   "metadata": {},
   "outputs": [],
   "source": [
    "senior['mar 25, 2018'] = senior[['account tier', 'employment','monthly deposit avg', 'payme deposit', 'mar 10, 2018']].apply(sr_sec_check, axis=1)"
   ]
  },
  {
   "cell_type": "code",
   "execution_count": 359,
   "metadata": {},
   "outputs": [],
   "source": [
    "senior['apr 10, 2018'] = senior[['account tier', 'monthly expense avg', 'credit card expense', 'payme expense', 'mar 25, 2018']].apply(sr_end_month, axis=1)"
   ]
  },
  {
   "cell_type": "code",
   "execution_count": 360,
   "metadata": {},
   "outputs": [],
   "source": [
    "senior['apr 25, 2018'] = senior[['account tier', 'employment','monthly deposit avg', 'payme deposit', 'apr 10, 2018']].apply(sr_sec_check, axis=1)"
   ]
  },
  {
   "cell_type": "code",
   "execution_count": 361,
   "metadata": {},
   "outputs": [],
   "source": [
    "senior['may 10, 2018'] = senior[['account tier', 'monthly expense avg', 'credit card expense', 'payme expense', 'apr 25, 2018']].apply(sr_end_month, axis=1)"
   ]
  },
  {
   "cell_type": "code",
   "execution_count": 362,
   "metadata": {},
   "outputs": [],
   "source": [
    "senior['may 25, 2018'] = senior[['account tier', 'employment','monthly deposit avg', 'payme deposit', 'may 10, 2018']].apply(sr_sec_check, axis=1)"
   ]
  },
  {
   "cell_type": "code",
   "execution_count": 363,
   "metadata": {},
   "outputs": [],
   "source": [
    "senior['jun 10, 2018'] = senior[['account tier', 'monthly expense avg', 'credit card expense', 'payme expense', 'may 25, 2018']].apply(sr_end_month, axis=1)"
   ]
  },
  {
   "cell_type": "code",
   "execution_count": 364,
   "metadata": {},
   "outputs": [],
   "source": [
    "senior['jun 25, 2018'] = senior[['account tier', 'employment','monthly deposit avg', 'payme deposit', 'jun 10, 2018']].apply(sr_sec_check, axis=1)"
   ]
  },
  {
   "cell_type": "code",
   "execution_count": 365,
   "metadata": {},
   "outputs": [],
   "source": [
    "senior['jul 10, 2018'] = senior[['account tier', 'monthly expense avg', 'credit card expense', 'payme expense', 'jun 25, 2018']].apply(sr_end_month, axis=1)"
   ]
  },
  {
   "cell_type": "code",
   "execution_count": 366,
   "metadata": {},
   "outputs": [],
   "source": [
    "senior['jul 25, 2018'] = senior[['account tier', 'employment','monthly deposit avg', 'payme deposit', 'jul 10, 2018']].apply(sr_sec_check, axis=1)"
   ]
  },
  {
   "cell_type": "code",
   "execution_count": 367,
   "metadata": {},
   "outputs": [],
   "source": [
    "senior['aug 10, 2018'] = senior[['account tier', 'monthly expense avg', 'credit card expense', 'payme expense', 'jul 25, 2018']].apply(sr_end_month, axis=1)"
   ]
  },
  {
   "cell_type": "code",
   "execution_count": 368,
   "metadata": {},
   "outputs": [],
   "source": [
    "senior['aug 25, 2018'] = senior[['account tier', 'employment','monthly deposit avg', 'payme deposit', 'aug 10, 2018']].apply(sr_sec_check, axis=1)"
   ]
  },
  {
   "cell_type": "code",
   "execution_count": 369,
   "metadata": {},
   "outputs": [],
   "source": [
    "senior['sep 10, 2018'] = senior[['account tier', 'monthly expense avg', 'credit card expense', 'payme expense', 'aug 25, 2018']].apply(sr_end_month, axis=1)"
   ]
  },
  {
   "cell_type": "code",
   "execution_count": 370,
   "metadata": {},
   "outputs": [],
   "source": [
    "senior['sep 25, 2018'] = senior[['account tier', 'employment','monthly deposit avg', 'payme deposit', 'sep 10, 2018']].apply(sr_sec_check, axis=1)"
   ]
  },
  {
   "cell_type": "code",
   "execution_count": 371,
   "metadata": {},
   "outputs": [],
   "source": [
    "senior['oct 10, 2018'] = senior[['account tier', 'monthly expense avg', 'credit card expense', 'payme expense', 'sep 25, 2018']].apply(sr_end_month, axis=1)"
   ]
  },
  {
   "cell_type": "code",
   "execution_count": 372,
   "metadata": {},
   "outputs": [],
   "source": [
    "senior['oct 25, 2018'] = senior[['account tier', 'employment','monthly deposit avg', 'payme deposit', 'oct 10, 2018']].apply(sr_sec_check, axis=1)"
   ]
  },
  {
   "cell_type": "code",
   "execution_count": 373,
   "metadata": {},
   "outputs": [],
   "source": [
    "senior['nov 10, 2018'] = senior[['account tier', 'monthly expense avg', 'credit card expense', 'payme expense', 'oct 25, 2018']].apply(sr_end_month, axis=1)"
   ]
  },
  {
   "cell_type": "code",
   "execution_count": 374,
   "metadata": {},
   "outputs": [],
   "source": [
    "senior['nov 25, 2018'] = senior[['account tier', 'employment','monthly deposit avg', 'payme deposit', 'nov 10, 2018']].apply(sr_sec_check, axis=1)"
   ]
  },
  {
   "cell_type": "code",
   "execution_count": 375,
   "metadata": {},
   "outputs": [],
   "source": [
    "senior['dec 10, 2018'] = senior[['account tier', 'monthly expense avg', 'credit card expense', 'payme expense', 'nov 25, 2018']].apply(sr_end_month, axis=1)"
   ]
  },
  {
   "cell_type": "code",
   "execution_count": 376,
   "metadata": {},
   "outputs": [],
   "source": [
    "senior['dec 25, 2018'] = senior[['account tier', 'employment','monthly deposit avg', 'payme deposit', 'dec 10, 2018']].apply(sr_sec_check, axis=1)"
   ]
  },
  {
   "cell_type": "code",
   "execution_count": 377,
   "metadata": {},
   "outputs": [],
   "source": [
    "senior['jan 10, 2019'] = senior[['account tier', 'monthly expense avg', 'credit card expense', 'payme expense', 'dec 25, 2018']].apply(sr_end_month, axis=1)"
   ]
  },
  {
   "cell_type": "code",
   "execution_count": 378,
   "metadata": {},
   "outputs": [],
   "source": [
    "senior['jan 25, 2019'] = senior[['account tier', 'employment','monthly deposit avg', 'payme deposit', 'jan 10, 2019']].apply(sr_sec_check, axis=1)"
   ]
  },
  {
   "cell_type": "code",
   "execution_count": 379,
   "metadata": {},
   "outputs": [],
   "source": [
    "senior['feb 10, 2019'] = senior[['account tier', 'monthly expense avg', 'credit card expense', 'payme expense', 'jan 25, 2019']].apply(sr_end_month, axis=1)"
   ]
  },
  {
   "cell_type": "code",
   "execution_count": 380,
   "metadata": {},
   "outputs": [
    {
     "data": {
      "text/plain": [
       "(452465, 69)"
      ]
     },
     "execution_count": 380,
     "metadata": {},
     "output_type": "execute_result"
    }
   ],
   "source": [
    "senior.shape"
   ]
  },
  {
   "cell_type": "code",
   "execution_count": 393,
   "metadata": {},
   "outputs": [],
   "source": [
    "df = pd.concat([senior, mill_wc_df],ignore_index=True, sort=False)"
   ]
  },
  {
   "cell_type": "code",
   "execution_count": 396,
   "metadata": {},
   "outputs": [],
   "source": [
    "df_bank = df.reset_index()"
   ]
  },
  {
   "cell_type": "code",
   "execution_count": 400,
   "metadata": {},
   "outputs": [],
   "source": [
    "df = df_bank.drop('index', axis=1)"
   ]
  },
  {
   "cell_type": "code",
   "execution_count": 406,
   "metadata": {},
   "outputs": [],
   "source": [
    "df.to_csv('monthly_bank.csv', index=False)"
   ]
  },
  {
   "cell_type": "code",
   "execution_count": null,
   "metadata": {},
   "outputs": [],
   "source": []
  }
 ],
 "metadata": {
  "kernelspec": {
   "display_name": "Python 3",
   "language": "python",
   "name": "python3"
  },
  "language_info": {
   "codemirror_mode": {
    "name": "ipython",
    "version": 3
   },
   "file_extension": ".py",
   "mimetype": "text/x-python",
   "name": "python",
   "nbconvert_exporter": "python",
   "pygments_lexer": "ipython3",
   "version": "3.7.1"
  }
 },
 "nbformat": 4,
 "nbformat_minor": 2
}
